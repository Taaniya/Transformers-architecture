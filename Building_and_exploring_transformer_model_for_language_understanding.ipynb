{
  "nbformat": 4,
  "nbformat_minor": 0,
  "metadata": {
    "colab": {
      "provenance": [],
      "include_colab_link": true
    },
    "kernelspec": {
      "name": "python3",
      "display_name": "Python 3"
    }
  },
  "cells": [
    {
      "cell_type": "markdown",
      "metadata": {
        "id": "view-in-github",
        "colab_type": "text"
      },
      "source": [
        "<a href=\"https://colab.research.google.com/github/Taaniya/Transformers-architecture/blob/main/Building_and_exploring_transformer_model_for_language_understanding.ipynb\" target=\"_parent\"><img src=\"https://colab.research.google.com/assets/colab-badge.svg\" alt=\"Open In Colab\"/></a>"
      ]
    },
    {
      "cell_type": "markdown",
      "metadata": {
        "id": "kJnorD-LDscA"
      },
      "source": [
        "#### Concept of attention in Transformers\n",
        "Transformers have self-attention mechanism which is the ability to attend to & relate multiple positions in a single sequence  & compute a representation of that sequence.Transformers have stacked self-attention layers.\n",
        "\n",
        "Advantages -\n",
        "\n",
        "1. It makes no assumptions about spatial/temporal relationships among words in a sequence.\n",
        "2. Layer outputs can be computed in parallel instead of series like RNN/CNN.\n",
        "3. Distant words in a sequence can be related and affect each other's output without passing through RNN steps or convolutional layers.\n",
        "4. Allows capturing long term dependencies among words in an input sequence which is a challenge in sequence tasks.\n",
        "\n",
        "Limitations -\n",
        "1. Since it treats input eg.words in input sequence as independent, external means such as positional encodings to capture relative positions of words in sequence / order is required to be incorporated in the output embeddings.\n",
        "2. For a time series, the output is calculated from the entire history instead of only the inputs and current hidden state.\n",
        "\n"
      ]
    },
    {
      "cell_type": "code",
      "metadata": {
        "id": "CKUx27KrIauA"
      },
      "source": [
        "from typing import List, Tuple\n",
        "\n",
        "import tensorflow as tf\n",
        "import tensorflow_datasets as tfds\n",
        "import numpy as np\n",
        "import matplotlib.pyplot as plt"
      ],
      "execution_count": null,
      "outputs": []
    },
    {
      "cell_type": "markdown",
      "metadata": {
        "id": "Krsm-p8KQctS"
      },
      "source": [
        "### Setting up input pipeline"
      ]
    },
    {
      "cell_type": "code",
      "metadata": {
        "id": "X9C5ZNRWI0Za"
      },
      "source": [
        "# Translation dataset from pt (Portuguese) to en (English) in plain text\n",
        "%time examples, metadata = tfds.load('ted_hrlr_translate/pt_to_en', with_info=True, as_supervised=True)"
      ],
      "execution_count": null,
      "outputs": []
    },
    {
      "cell_type": "code",
      "metadata": {
        "id": "Sk2wKW2NKHrb"
      },
      "source": [
        "examples"
      ],
      "execution_count": null,
      "outputs": []
    },
    {
      "cell_type": "code",
      "metadata": {
        "id": "hCwzELupKRsI"
      },
      "source": [
        "type(examples), type(examples['test'])"
      ],
      "execution_count": null,
      "outputs": []
    },
    {
      "cell_type": "code",
      "metadata": {
        "id": "V3nvlpJGKWA3"
      },
      "source": [
        "metadata"
      ],
      "execution_count": null,
      "outputs": []
    },
    {
      "cell_type": "code",
      "metadata": {
        "id": "RjFsMd1BKcnq"
      },
      "source": [
        "train_examples, validation_examples = examples['train'], examples['validation']"
      ],
      "execution_count": null,
      "outputs": []
    },
    {
      "cell_type": "markdown",
      "metadata": {
        "id": "Tg556kPlSJoR"
      },
      "source": [
        "Create custom subwords tokenizer from training dataset using byte-encodings for out of vocabulary tokens"
      ]
    },
    {
      "cell_type": "code",
      "metadata": {
        "id": "IAOD3OBRFtOS"
      },
      "source": [
        "for lang1, lang2 in train_examples:\n",
        "  print(lang1)\n",
        "  print(lang2)\n",
        "  break"
      ],
      "execution_count": null,
      "outputs": []
    },
    {
      "cell_type": "code",
      "metadata": {
        "id": "47dXphBrQugp"
      },
      "source": [
        "%time en_tokenizer = tfds.deprecated.text.SubwordTextEncoder.build_from_corpus((en.numpy() for pt, en in train_examples), target_vocab_size=2**13)\n",
        "\n",
        "%time pt_tokenizer = tfds.deprecated.text.SubwordTextEncoder.build_from_corpus((pt.numpy() for pt, en in train_examples), target_vocab_size=2**13)"
      ],
      "execution_count": null,
      "outputs": []
    },
    {
      "cell_type": "code",
      "metadata": {
        "id": "uOrRxrvO-xbW"
      },
      "source": [
        "len(en_tokenizer.subwords)"
      ],
      "execution_count": null,
      "outputs": []
    },
    {
      "cell_type": "code",
      "metadata": {
        "id": "lQrfUS43-4I7"
      },
      "source": [
        "en_tokenizer.vocab_size"
      ],
      "execution_count": null,
      "outputs": []
    },
    {
      "cell_type": "markdown",
      "metadata": {
        "id": "5fznSHhLDmYw"
      },
      "source": [
        "Add start & end token to the source and target language data"
      ]
    },
    {
      "cell_type": "code",
      "metadata": {
        "id": "smzS2WJI_ioX"
      },
      "source": [
        "BUFFER_SIZE = 20000\n",
        "BATCH_SIZE = 64\n",
        "MAX_LENGTH = 40"
      ],
      "execution_count": null,
      "outputs": []
    },
    {
      "cell_type": "code",
      "metadata": {
        "id": "dp4rsPF8DrwY"
      },
      "source": [
        "def encode(lang1, lang2) -> Tuple[List[int], List[int]]:\n",
        "  lang1 = [pt_tokenizer.vocab_size] + pt_tokenizer.encode(lang1.numpy()) + [pt_tokenizer.vocab_size+1]\n",
        "  lang2 = [en_tokenizer.vocab_size] + en_tokenizer.encode(lang2.numpy()) + [en_tokenizer.vocab_size+1]\n",
        "  return lang1, lang2\n",
        "\n",
        "# Use py_function to wrap the above function within and apply it over all elements in the dataset\n",
        "\n",
        "def tf_encode(pt, en) -> Tuple[tf.Tensor, tf.Tensor]:\n",
        "  # Wrapping the encode python function into a TensorFlow op\n",
        "  result_pt, result_en = tf.py_function(encode, [pt, en], [tf.int64, tf.int64], 'encode')      # function to be wrapped,\n",
        "  result_pt.set_shape([None])         # Perform shape assertion. Passing none indicates the size of dataset can be any value i.e any value of batch size\n",
        "  result_en.set_shape([None])\n",
        "  return result_pt, result_en\n",
        "\n",
        "def filter_max_length(x, y, max_length=MAX_LENGTH):\n",
        "  return tf.logical_and(tf.size(x) <= MAX_LENGTH,\n",
        "                        tf.size(y) <= MAX_LENGTH)\n"
      ],
      "execution_count": null,
      "outputs": []
    },
    {
      "cell_type": "code",
      "source": [
        "encode(lang1, lang2)"
      ],
      "metadata": {
        "id": "P6O6SUbKTgzK"
      },
      "execution_count": null,
      "outputs": []
    },
    {
      "cell_type": "code",
      "source": [
        "tf_encode(lang1, lang2)"
      ],
      "metadata": {
        "id": "CLgS1_jtT2kZ"
      },
      "execution_count": null,
      "outputs": []
    },
    {
      "cell_type": "code",
      "metadata": {
        "id": "3P6saYuBEUdN"
      },
      "source": [
        "train_dataset = train_examples.map(tf_encode)\n",
        "train_dataset = train_dataset.filter(filter_max_length)"
      ],
      "execution_count": null,
      "outputs": []
    },
    {
      "cell_type": "code",
      "metadata": {
        "id": "Ee8uOrqqMhb4"
      },
      "source": [
        "i = 0\n",
        "for lang1, lang2 in train_dataset:\n",
        "  print(lang1)\n",
        "  print(lang2)\n",
        "  i += 1\n",
        "  if i > 3:\n",
        "    break"
      ],
      "execution_count": null,
      "outputs": []
    },
    {
      "cell_type": "markdown",
      "metadata": {
        "id": "V-kDN0_vHeMV"
      },
      "source": [
        "Cache the dataset in memory to get speedup while reading from it"
      ]
    },
    {
      "cell_type": "code",
      "metadata": {
        "id": "09txT0bhHIAL"
      },
      "source": [
        "train_dataset.cache()\n",
        "train_dataset.shuffle(BUFFER_SIZE).padded_batch(BATCH_SIZE)        # Use padded batch when batching a dataset with variable shape\n",
        "\n",
        "# Fetch the input data before it is requested for preprocessing. Decouples fetching & consumption\n",
        "train_dataset = train_dataset.prefetch(tf.data.experimental.AUTOTUNE)"
      ],
      "execution_count": null,
      "outputs": []
    },
    {
      "cell_type": "code",
      "metadata": {
        "id": "CIKjGU4WIMJv"
      },
      "source": [
        "type(train_dataset.shuffle(BUFFER_SIZE))"
      ],
      "execution_count": null,
      "outputs": []
    },
    {
      "cell_type": "code",
      "metadata": {
        "id": "udV7U3y5IM3Z"
      },
      "source": [
        "val_dataset = validation_examples.map(tf_encode)\n",
        "val_dataset = val_dataset.filter(filter_max_length).padded_batch(BATCH_SIZE)"
      ],
      "execution_count": null,
      "outputs": []
    },
    {
      "cell_type": "code",
      "metadata": {
        "id": "fkBNaHYhKfG9"
      },
      "source": [
        "num_positions = 50\n",
        "depth = 512\n",
        "min_rate = 1/10000"
      ],
      "execution_count": null,
      "outputs": []
    },
    {
      "cell_type": "markdown",
      "metadata": {
        "id": "ewVGKv3XbacP"
      },
      "source": [
        "#### Positional encoding\n",
        "\n",
        "This encoding is a vector of sines and cosines at each position, where each sine-cosine pair rotates at a different frequency.\n",
        "The angle rates range from 1 [rads/step] to min_rate [rads/step] over the vector depth.\n",
        "The resulting exponent goes from 0 to 1, causing the angle_rates to drop exponentially from 1 to min_rate.\n",
        "Broadcasting a multiply over angle rates and positions gives a map of the position encoding angles as a function of depth.\n",
        "Raw angles are not a good model input (they're either unbounded, or discontinuous). So take the sine and cosine:"
      ]
    },
    {
      "cell_type": "code",
      "metadata": {
        "id": "r6xaYUNZcEqX"
      },
      "source": [
        "def get_angles(pos, i, d_model):\n",
        "  \"\"\"\n",
        "  Compute angle rates for positional encoding using sinusoidal functions.\n",
        "\n",
        "  This function calculates the angle rates that determine the frequency of\n",
        "  sine and cosine waves used in positional encoding. The angle rates decrease\n",
        "  exponentially across the model dimension, creating different frequencies\n",
        "  for different embedding dimensions.\n",
        "\n",
        "  Args:\n",
        "      pos (np.ndarray): Position indices in the sequence. Shape: (seq_len, 1)\n",
        "      i (np.ndarray): Dimension indices in the model. Shape: (1, d_model)\n",
        "      d_model (int): The dimensionality of the model embeddings\n",
        "\n",
        "  Returns:\n",
        "      np.ndarray: Angle values for each position-dimension pair.\n",
        "                  Shape: (seq_len, d_model)\n",
        "\n",
        "  Mathematical Formula:\n",
        "      angle_rate = 1 / (10000^(2*(i//2)/d_model))\n",
        "      angle = pos * angle_rate\n",
        "\n",
        "  Significance:\n",
        "      - Creates exponentially decreasing frequencies from 1 to 1/10000 rads/step\n",
        "      - Lower dimensions get higher frequencies (faster oscillation)\n",
        "      - Higher dimensions get lower frequencies (slower oscillation)\n",
        "      - This allows the model to learn both local and global positional patterns\n",
        "  \"\"\"\n",
        "  angle_rates = 1 / np.power(10000, (2 * (i//2)) / np.float32(d_model))\n",
        "  return pos * angle_rates\n",
        "\n",
        "def positional_encoding(position, d_model):\n",
        "  \"\"\"\n",
        "  Generate sinusoidal positional encodings for transformer models.\n",
        "\n",
        "  Creates positional encodings using sine and cosine functions with different\n",
        "  frequencies across dimensions. Each dimension of the positional encoding\n",
        "  corresponds to a sinusoid.\n",
        "  This allows the model to learn relative\n",
        "  positions and extrapolate to longer sequences than seen during training.\n",
        "\n",
        "  Args:\n",
        "      position (int): Maximum sequence length to generate encodings for\n",
        "      d_model (int): Dimensionality of the model embeddings (must be even)\n",
        "\n",
        "  Returns:\n",
        "      tf.Tensor: Positional encoding tensor of shape (1, position, d_model)\n",
        "                Ready to be added to input embeddings\n",
        "\n",
        "  Algorithm:\n",
        "      1. Generate angle values for all position-dimension combinations\n",
        "      2. Apply sine to even dimension indices (0, 2, 4, ...)\n",
        "      3. Apply cosine to odd dimension indices (1, 3, 5, ...)\n",
        "      4. Add batch dimension and convert to TensorFlow tensor\n",
        "\n",
        "  Significance:\n",
        "      - Provides unique positional information for each sequence position\n",
        "      - Sine/cosine pairs create rotational patterns that preserve relative distances\n",
        "      - Different frequencies allow encoding of both fine-grained and coarse positional info\n",
        "      - Deterministic encoding ensures consistent position representation across batches\n",
        "      - Enables the model to understand sequence order without explicit position tokens\n",
        "\n",
        "  Mathematical Properties:\n",
        "      - PE(pos, 2i) = sin(pos / 10000^(2i/d_model))\n",
        "      - PE(pos, 2i+1) = cos(pos / 10000^(2i/d_model))\n",
        "      - Any offset in position can be represented as a linear function of PE(pos)\n",
        "      - The encoding is bounded between -1 and 1, preventing gradient explosion\n",
        "  \"\"\"\n",
        "  # Generate angle values for all position-dimension combinations\n",
        "  angle_rads = get_angles(np.arange(position)[:, np.newaxis],\n",
        "                          np.arange(d_model)[np.newaxis, :],\n",
        "                          d_model)\n",
        "\n",
        "  # Apply sine to even indices in the array; 2i (dimensions 0, 2, 4, ...)\n",
        "  # This creates the first component of each sine-cosine pair\n",
        "  angle_rads[:, 0::2] = np.sin(angle_rads[:, 0::2])\n",
        "\n",
        "  # Apply cosine to odd indices in the array;2i+1 (dimensions 1, 3, 5, ...)\n",
        "  # This creates the second component of each sine-cosine pair\n",
        "  angle_rads[:, 1::2] = np.cos(angle_rads[:, 1::2])\n",
        "\n",
        "  # Add batch dimension to make it broadcastable with input embeddings\n",
        "  pos_encoding = angle_rads[np.newaxis, ...]\n",
        "\n",
        "  return tf.cast(pos_encoding, dtype=tf.float32)"
      ],
      "execution_count": null,
      "outputs": []
    },
    {
      "cell_type": "code",
      "source": [
        "angle_rads = get_angles(np.arange(5)[:, np.newaxis], np.arange(5)[np.newaxis, :], 5)\n",
        "print(angle_rads)\n",
        "print(angle_rads.shape)"
      ],
      "metadata": {
        "id": "1vMmpM0EY230"
      },
      "execution_count": null,
      "outputs": []
    },
    {
      "cell_type": "code",
      "metadata": {
        "id": "E26jRR0nYs6D"
      },
      "source": [
        "pos_encoding = positional_encoding(50, 512)\n",
        "print (pos_encoding.shape)\n",
        "\n",
        "plt.pcolormesh(pos_encoding[0], cmap='RdBu')\n",
        "plt.xlabel('Depth')\n",
        "plt.xlim((0, 512))\n",
        "plt.ylabel('Position')\n",
        "plt.colorbar()\n",
        "plt.show()"
      ],
      "execution_count": null,
      "outputs": []
    },
    {
      "cell_type": "markdown",
      "metadata": {
        "id": "bC2dfwmUeCe1"
      },
      "source": [
        "#### Masking\n",
        "\n",
        "1. Masking paddings-\n",
        "\n",
        "Return a 1 wherever an input is 0 , to ensure the model doesn't treat padding as input.\n",
        "\n",
        "2. Look ahead masking -\n",
        "\n",
        "Mask future tokens in a sequence, to specify which entries not to be used.\n",
        "For eg. in a language model, only first 2 words should be used to predict the 3rd word, and first 3 words to predict the 4th word and so on."
      ]
    },
    {
      "cell_type": "code",
      "metadata": {
        "id": "WlFLp6jAcskg"
      },
      "source": [
        "def create_padding_mask(seq):\n",
        "  \"\"\"\n",
        "  Creates a padding masky returning a 1 wherever an input is 0 , to ensure the\n",
        "  model doesn't treat padding as input.\n",
        "\n",
        "  Args:\n",
        "      seq (int): sequence length\n",
        "\n",
        "  Returns:\n",
        "      tf.Tensor: Padding mask tensor of shape (batch_size, 1, 1, seq_len)\n",
        "  \"\"\"\n",
        "\n",
        "  seq = tf.cast(tf.math.equal(seq, 0), tf.float32)\n",
        "\n",
        "  # add extra dimensions to add the padding\n",
        "  # to the attention logits.\n",
        "  return seq[:, tf.newaxis, tf.newaxis, :]      # (batch_size, 1, 1, seq_len)\n",
        "\n",
        "def create_look_ahead_mask(size):\n",
        "  \"\"\"\n",
        "  Creates a look ahead mask by setting diagonal and all subdiagonals to zero,\n",
        "  rest to 1.\n",
        "\n",
        "  Args:\n",
        "      size (int): sequence length\n",
        "\n",
        "  Returns:\n",
        "      tf.Tensor: Look ahead mask tensor of shape (seq_len, seq_len)\n",
        "  \"\"\"\n",
        "  mask = 1 - tf.linalg.band_part(tf.ones((size, size)), -1, 0)\n",
        "  return mask                                  # (seq_len, seq_len)"
      ],
      "execution_count": null,
      "outputs": []
    },
    {
      "cell_type": "markdown",
      "metadata": {
        "id": "80YuqKYXYVPU"
      },
      "source": [
        "<img src=\"https://www.tensorflow.org/images/tutorials/transformer/scaled_attention.png\" width=\"500\" alt=\"scaled_dot_product_attention\">\n",
        "\n",
        "The attention function used by the transformer takes three inputs: Q (query), K (key), V (value). The equation used to calculate the attention weights is:\n",
        "\n",
        "$$\\Large{Attention(Q, K, V) = softmax_k(\\frac{QK^T}{\\sqrt{d_k}}) V} $$\n",
        "\n",
        "Which follows a 2-step process:\n",
        "1. Computing attention scores using dot-product attention\n",
        "2. Normalizing the attention scores to obtain attention weights (using softmax)\n",
        "\n",
        "The dot-product attention is scaled by a factor of square root of the depth. This is done because for large values of depth, the dot product grows large in magnitude pushing the softmax function where it has small gradients resulting in a very hard softmax.\n",
        "\n",
        "For example, consider that `Q` and `K` have a mean of 0 and variance of 1. Their matrix multiplication will have a mean of 0 and variance of `dk`. Hence, *square root of `dk`* is used for scaling (and not any other number) because the matmul of `Q` and `K` should have a mean of 0 and variance of 1, and you get a gentler softmax.\n",
        "\n",
        "The mask is multiplied with -1e9 (close to negative infinity). This is done because the mask is summed with the scaled matrix multiplication of Q and K and is applied immediately before a softmax. The goal is to zero out these cells, and large negative inputs to softmax are near zero in the output.\n",
        "\n",
        "**Why dot product of vectors?** - Because dot product signifies computing similarity between the vectors\n",
        "\n",
        "There are 3 types of Attention -\n",
        "1. Encoder/Decoder\n",
        "2. Causal\n",
        "3. Bi-directional\n",
        "\n",
        "In causal attention, keys, queries, values come from the same sentence & queries search among the past words only. This is where look-ahead masking is used to mask positions to make it causal."
      ]
    },
    {
      "cell_type": "code",
      "metadata": {
        "id": "Pvk2aG_qUMHr"
      },
      "source": [
        "def scaled_dot_product_attention(q, k, v, mask):\n",
        "  \"\"\"Calculate the attention weights.\n",
        "  q, k, v must have matching leading dimensions.\n",
        "  k, v must have matching penultimate dimension, i.e.: seq_len_k = seq_len_v.\n",
        "  The mask has different shapes depending on its type(padding or look ahead)\n",
        "  but it must be broadcastable for addition.\n",
        "\n",
        "  Args:\n",
        "  q: query shape = (..., seq_len_q, depth)\n",
        "  k: key shape = (..., seq_len_k, depth)\n",
        "  v: value shape = (..., seq_len_v, depth_v)\n",
        "  mask: float tensor with shape broadcastable to (..., seq_len_q, seq_len_k). Defaults to None\n",
        "\n",
        "  Returns:\n",
        "  output, attention_weights\n",
        "  \"\"\"\n",
        "  matmul_qk = tf.matmul(q,k, transpose_b=True)         # (..., seq_len_q, seq_len_k)\n",
        "  # scale matmul_qk\n",
        "  dk = tf.cast(tf.shape(k)[-1], tf.float32)\n",
        "  scaled_attention_logits = matmul_qk / tf.math.sqrt(dk)\n",
        "  # add the mask to the scaled tensor.\n",
        "  if mask is not None:\n",
        "    scaled_attention_logits += (mask * -1e9)\n",
        "\n",
        "  # softmax is normalized on the last axis (seq_len_k) so that the scores\n",
        "  # add up to 1.\n",
        "  attention_weights = tf.nn.softmax(scaled_attention_logits, axis=-1)     # (..., seq_len_q, seq_len_k)\n",
        "  output = tf.matmul(attention_weights, v)\n",
        "\n",
        "  return output, attention_weights"
      ],
      "execution_count": null,
      "outputs": []
    },
    {
      "cell_type": "markdown",
      "metadata": {
        "id": "dYBtA-3rcfRI"
      },
      "source": [
        "As the softmax normalization is done on K, its values decide the amount of importance given to Q.\n",
        "\n",
        "The output represents the multiplication of the attention weights and the V (value) vector. This ensures that the words you want to focus on are kept as-is and the irrelevant words are flushed out."
      ]
    },
    {
      "cell_type": "code",
      "metadata": {
        "id": "yFwjxrircnZr"
      },
      "source": [
        "def print_out(q, k, v):\n",
        "  temp_out, temp_attn = scaled_dot_product_attention(\n",
        "      q, k, v, None)\n",
        "  print ('Attention weights are:')\n",
        "  print (temp_attn)\n",
        "  print ('Output is:')\n",
        "  print (temp_out)"
      ],
      "execution_count": null,
      "outputs": []
    },
    {
      "cell_type": "code",
      "metadata": {
        "id": "Mkhh8m1mcqVz"
      },
      "source": [
        "np.set_printoptions(suppress=True)\n",
        "\n",
        "temp_k = tf.constant([[10,0,0],\n",
        "                      [0,10,0],\n",
        "                      [0,0,10],\n",
        "                      [0,0,10]], dtype=tf.float32)  # (4, 3)\n",
        "\n",
        "temp_v = tf.constant([[   1,0],\n",
        "                      [  10,0],\n",
        "                      [ 100,5],\n",
        "                      [1000,6]], dtype=tf.float32)  # (4, 2)\n",
        "\n",
        "# This `query` aligns with the second `key`,\n",
        "# so the second `value` is returned.\n",
        "temp_q = tf.constant([[0, 10, 0]], dtype=tf.float32)  # (1, 3)\n",
        "print_out(temp_q, temp_k, temp_v)"
      ],
      "execution_count": null,
      "outputs": []
    },
    {
      "cell_type": "code",
      "metadata": {
        "id": "0HaydKD8eW2h"
      },
      "source": [
        "temp_q = tf.constant([[0, 0, 10]], dtype=tf.float32)  # (1, 3)\n",
        "print_out(temp_q, temp_k, temp_v)"
      ],
      "execution_count": null,
      "outputs": []
    },
    {
      "cell_type": "markdown",
      "metadata": {
        "id": "9ECHmI-PhOo2"
      },
      "source": [
        "The dot product of similar unit vectors is higher than that of dissimilar unit vectors.\n",
        "This way, the unit vector representing a token in k which is more similar to the unit vector in query q, will be given higher weightage with the attention mechanism\n",
        "\n"
      ]
    },
    {
      "cell_type": "code",
      "metadata": {
        "id": "NGvTVZeEnj2W"
      },
      "source": [
        "vec1 = np.array([2.0,1.0,3.0])\n",
        "norm1 = np.linalg.norm(vec1)        #  Compute Euclidean norm\n",
        "norm1 = (vec1**2).sum()**0.5\n",
        "vec1 /= norm1\n",
        "\n",
        "vec2 = np.array([4.0,5.0,6.0])\n",
        "norm2 = np.linalg.norm(vec2)\n",
        "vec2 /= norm2\n",
        "\n",
        "vec3 = np.array([2.5,1.5,3.5])\n",
        "norm3 = np.linalg.norm(vec3)\n",
        "vec3 /= norm3\n",
        "\n",
        "\n",
        "temp_k = tf.constant( [vec1, vec2], dtype=tf.float32)       # (seq_len, dim)\n",
        "temp_q = tf.constant([vec3], tf.float32)                 # q vector is closer to 1st word in sequence in temp_k\n",
        "print(temp_q)\n",
        "print_out(temp_q, temp_k, temp_k)"
      ],
      "execution_count": null,
      "outputs": []
    },
    {
      "cell_type": "code",
      "metadata": {
        "id": "ktmFOEsXtZZ6"
      },
      "source": [
        "# Here, 2 words in the sequence are close to each other.\n",
        "temp_k = tf.constant([vec3, vec1] , dtype=tf.float32)  # (seq_len, dim)\n",
        "temp_q = tf.constant([vec3], tf.float32)                        # q vector is closer to 1st word in sequence in temp_k\n",
        "\n",
        "print(temp_q)\n",
        "print_out(temp_q, temp_k, temp_k)"
      ],
      "execution_count": null,
      "outputs": []
    },
    {
      "cell_type": "markdown",
      "metadata": {
        "id": "dYrnvgJz7fLi"
      },
      "source": [
        "<img src=\"https://www.tensorflow.org/images/tutorials/transformer/multi_head_attention.png\" width=\"500\" alt=\"multi-head attention\">\n",
        "\n",
        "\n",
        "Multi-head attention consists of four parts:\n",
        "*    Linear layers and split into heads.\n",
        "*    Scaled dot-product attention.\n",
        "*    Concatenation of heads.\n",
        "*    Final linear layer.\n",
        "\n",
        "Each multi-head attention block gets three inputs; Q (query), K (key), V (value). These are put through linear (Dense) layers and split up into multiple heads.\n",
        "\n",
        "The scaled_dot_product_attention defined above is applied to each head (broadcasted for efficiency). An appropriate mask must be used in the attention step. The attention output for each head is then concatenated (using tf.transpose, and tf.reshape) and put through a final Dense layer.\n",
        "\n",
        "Instead of one single attention head, Q, K, and V are split into multiple heads because it allows the model to jointly attend to information at different positions from different representational spaces. After the split each head has a reduced dimensionality, so the total computation cost is the same as a single head attention with full dimensionality.\n",
        "\n",
        "After the split, each head's reduced dimensionality reduces from d_model to d_model / num_heads."
      ]
    },
    {
      "cell_type": "code",
      "metadata": {
        "id": "OLHqVoUF7Ps6"
      },
      "source": [
        "class MultiHeadAttention(tf.keras.layers.Layer):\n",
        "  def __init__(self, num_heads, d_model):\n",
        "    super(MultiHeadAttention, self).__init__()\n",
        "    self.num_heads = num_heads\n",
        "    self.d_model = d_model\n",
        "\n",
        "    assert d_model % num_heads == 0\n",
        "\n",
        "    self.depth = d_model // num_heads\n",
        "\n",
        "    self.w_q = tf.keras.layers.Dense(d_model)\n",
        "    self.w_k = tf.keras.layers.Dense(d_model)\n",
        "    self.w_v = tf.keras.layers.Dense(d_model)\n",
        "    self.dense = tf.keras.layers.Dense(d_model)\n",
        "\n",
        "  def split_heads(self,x,batch_size,):\n",
        "    \"\"\"Split the last dimension into (num_heads, depth).\n",
        "    Transpose the result such that the shape is (batch_size, num_heads, seq_len, depth)\n",
        "    \"\"\"\n",
        "    x = tf.reshape(x, (batch_size, -1, self.num_heads, self.depth))\n",
        "    return tf.transpose(x, perm=[0,2,1,3])\n",
        "\n",
        "  def call(self, v,k,q,mask):\n",
        "    batch_size = tf.shape(q)[0]\n",
        "\n",
        "    q = self.w_q(q)                  # (batch_size, seq_len_q, d_model)\n",
        "    k = self.w_k(k)                  # (batch_size, seq_len_k, d_model)\n",
        "    v = self.w_v(v)                  # (batch_size, seq_len_v, d_model)\n",
        "\n",
        "    q = self.split_heads(q, batch_size)     # (batch_size, num_heads, seq_len_q, depth)\n",
        "    k = self.split_heads(k, batch_size)     # (batch_size, num_heads, seq_len_k, depth)\n",
        "    v = self.split_heads(v, batch_size)     # (batch_size, num_heads, seq_len_v, depth)\n",
        "\n",
        "    # scaled_attention.shape == (batch_size, num_heads, seq_len_q, depth)\n",
        "    # attention_weights.shape == (batch_size, num_heads, seq_len_q, seq_len_k)\n",
        "    scaled_attention, attention_weights = scaled_dot_product_attention(q,k,v,mask)\n",
        "\n",
        "    scaled_attention = tf.transpose(scaled_attention, perm=[0,2,1,3])           # shape (batch_size, seq_len_q, num_heads, depth)\n",
        "    concat_attention = tf.reshape(scaled_attention, (batch_size, -1, self.d_model))       # shape (batch_size, seq_len_q, d_model)\n",
        "    output = self.dense(concat_attention)\n",
        "\n",
        "    return output, attention_weights"
      ],
      "execution_count": null,
      "outputs": []
    },
    {
      "cell_type": "markdown",
      "metadata": {
        "id": "9fywajRr14k_"
      },
      "source": [
        "Since multihead attention involves multiple heads, each head works on a reduced dimension of vector. This means that the scaled dot product will be involved for each word in a sequence of length seq_len_q or seq_len_k or seq_len_v with each word represented by reduced dimensions and will be worked upon by 8 heads for each word/location in the sequence.\n",
        "\n",
        "In the below example, at each location in the sequence, y, the MultiHeadAttention runs all 8 attention heads across all other locations in the sequence, returning a new vector of the same length at each location.\n",
        "Intuition behind multiple heads - Each head learns a different aspect of the input sequence. This way multiple heads learn different sets of attention weights in parallel, independent of each other. These aspects also can't be dictated ahead of time and are rather randomly initialized before training and are learnt during training."
      ]
    },
    {
      "cell_type": "code",
      "metadata": {
        "id": "U5aysoXx7Ppv"
      },
      "source": [
        "tmp_mha = MultiHeadAttention(num_heads=8, d_model=512)\n",
        "y = tf.random.uniform((1,60,512))         # (batch_size, encoder_sequence, d_model)\n",
        "output, attn_wts = tmp_mha(v=y, q=y, k=y,mask=None)"
      ],
      "execution_count": null,
      "outputs": []
    },
    {
      "cell_type": "code",
      "metadata": {
        "id": "G7rgwL0z7PnQ"
      },
      "source": [
        "output.shape, attn_wts.shape"
      ],
      "execution_count": null,
      "outputs": []
    },
    {
      "cell_type": "markdown",
      "metadata": {
        "id": "fIyMalBKcGdT"
      },
      "source": [
        "## Point wise feed forward network\n",
        "\n",
        "Point wise feed forward network consists of two fully-connected layers with a ReLU activation in between."
      ]
    },
    {
      "cell_type": "code",
      "metadata": {
        "id": "DmPUpze97Pkn"
      },
      "source": [
        "def point_wise_feed_forward_network(pff, d_model):\n",
        "  return tf.keras.Sequential([\n",
        "          tf.keras.layers.Dense(pff, activation='relu'),            # (batch_size, seq_len, dff)\n",
        "          tf.keras.layers.Dense(d_model)                            # (batch_size, seq_len, d_model)\n",
        "  ])"
      ],
      "execution_count": null,
      "outputs": []
    },
    {
      "cell_type": "code",
      "metadata": {
        "id": "SCH_Rob_7PiI"
      },
      "source": [
        "# Testing Point wise feed forward network\n",
        "\n",
        "sample_ffn = point_wise_feed_forward_network(512, 2048)\n",
        "sample_ffn(tf.random.uniform((64, 50, 512))).shape"
      ],
      "execution_count": null,
      "outputs": []
    },
    {
      "cell_type": "markdown",
      "metadata": {
        "id": "8i4hppwKcPdQ"
      },
      "source": [
        "## Encoder and decoder\n",
        "\n",
        "<img src=\"https://www.tensorflow.org/images/tutorials/transformer/transformer.png\" width=\"600\" alt=\"transformer\">\n",
        "\n",
        "The transformer model follows the same general pattern as a standard [sequence to sequence with attention model](nmt_with_attention.ipynb).\n",
        "\n",
        "* The input sentence is passed through `N` encoder layers that generates an output for each word/token in the sequence.\n",
        "* The decoder attends on the encoder's output and its own input (self-attention) to predict the next word.\n",
        "\n",
        "### Encoder layer\n",
        "\n",
        "Each encoder layer consists of sublayers:\n",
        "\n",
        "1.   Multi-head self-attention (with padding mask)\n",
        "2.    Point wise feed forward networks.\n",
        "\n",
        "Each of these sublayers has a residual connection around it followed by a layer normalization. Residual connections help in avoiding the vanishing gradient problem in deep networks.\n",
        "\n",
        "The output of each sublayer is `LayerNorm(x + Sublayer(x))`. The normalization is done on the `d_model` (last) axis. There are N encoder layers in the transformer."
      ]
    },
    {
      "cell_type": "code",
      "metadata": {
        "id": "VCTaq45x7Pfj"
      },
      "source": [
        "class EncoderLayer(tf.keras.layers.Layer):\n",
        "  def __init__(self, num_heads, d_model, dff, rate=0.1):\n",
        "    super(EncoderLayer, self).__init__()\n",
        "    self.mha = MultiHeadAttention(num_heads, d_model)\n",
        "    self.pff = point_wise_feed_forward_network(dff,d_model)\n",
        "\n",
        "    self.layernorm1 = tf.keras.layers.LayerNormalization(epsilon=1e-6)\n",
        "    self.layernorm2 = tf.keras.layers.LayerNormalization(epsilon=1e-6)\n",
        "\n",
        "    self.dropout1 = tf.keras.layers.Dropout(rate)\n",
        "    self.dropout2 = tf.keras.layers.Dropout(rate)\n",
        "\n",
        "  def call(self,x, training, mask):\n",
        "    attn_output, _ = self.mha(x,x,x,mask)                       # (batch_size, seq_len_q, d_model)\n",
        "    attn_output = self.dropout1(attn_output, training)\n",
        "    output1 = self.layernorm1(x + attn_output)                  # (batch_size, seq_len_q, d_model)\n",
        "\n",
        "    ff_output = self.pff(output1)                               # (batch_size, seq_len_q, d_model)\n",
        "    ff_output = self.dropout2(ff_output)\n",
        "    output2 = self.layernorm2(output1 + ff_output)                    # (batch_size, seq_len_q, d_model)\n",
        "\n",
        "    return output2"
      ],
      "execution_count": null,
      "outputs": []
    },
    {
      "cell_type": "code",
      "metadata": {
        "id": "b8J8twwm7Pcv"
      },
      "source": [
        "sample_encoder_layer = EncoderLayer(8, 512, 2048)\n",
        "\n",
        "encoder_layer_output = sample_encoder_layer(tf.random.uniform((64,43,512)), False, None)\n",
        "encoder_layer_output.shape"
      ],
      "execution_count": null,
      "outputs": []
    },
    {
      "cell_type": "markdown",
      "metadata": {
        "id": "XkQ98OT5HSSv"
      },
      "source": [
        "### Decoder layer\n",
        "\n",
        "Decoder layer has following sublayers -\n",
        "\n",
        "1. Masked multi-head self-attention layer (with look-ahead and padding mask)\n",
        "\n",
        "2. Multi-head attention layer (with padded mask) over the output of encoder\n",
        "\n",
        "This layer receives key and value vectors from encoder's output from input sequence and query vector from output of masked multi-head attention sublayer from target sequence.\n",
        "\n",
        "3. Point-wise feed forward layer\n",
        "\n",
        "Each sublayer has a residual connection around it followed by a Layer Normalization. The output of each layer is LayerNormalization(x + Sublayer(x)). The normalization is done of last axis(d_model).\n",
        "\n",
        "There are N decoder layers.\n",
        "\n",
        "Since, Q receives input from decoder's first attention block and K is obtained from encoder's output, the attention weights obtained from attending to Q & V represent the importance given to decoder's input based on the encoder's output. In other words, the feed forward network predicts the next words based on encoder's output and self-attending to its own output.\n"
      ]
    },
    {
      "cell_type": "code",
      "metadata": {
        "id": "qg21zgwkg06U"
      },
      "source": [
        "class DecoderLayer(tf.keras.layers.Layer):\n",
        "  def __init__(self, num_heads, d_model, dff, rate=0.1):\n",
        "    super(DecoderLayer, self).__init__()\n",
        "    self.num_heads = num_heads\n",
        "    self.d_model = d_model\n",
        "\n",
        "    self.masked_mha = MultiHeadAttention(num_heads, d_model)        # Sublayer 1 : for target sequence with look ahead and padding mask\n",
        "    self.mha = MultiHeadAttention(num_heads, d_model)               # Sublayer 2: for encoder's output, and previous layer's attention output\n",
        "    self.ffn = point_wise_feed_forward_network(dff, d_model)        # Sublayer 3\n",
        "\n",
        "    # 1 layernormalization for each sub layer\n",
        "    self.layernorm1 = tf.keras.layers.LayerNormalization(epsilon=1e-6)       # for masked MHA\n",
        "    self.layernorm2 = tf.keras.layers.LayerNormalization(epsilon=1e-6)       # for MHA\n",
        "    self.layernorm3 = tf.keras.layers.LayerNormalization(epsilon=1e-6)       # for Feed forward nk\n",
        "\n",
        "    # 1 dropout setting for each sub layer\n",
        "    self.dropout1 = tf.keras.layers.Dropout(rate)\n",
        "    self.dropout2 = tf.keras.layers.Dropout(rate)\n",
        "    self.dropout3 = tf.keras.layers.Dropout(rate)\n",
        "\n",
        "  def call(self,x ,enc_output, training, lookahead_mask, padding_mask  ):\n",
        "    \"\"\"\n",
        "    x - query received from decoder from target sequence\n",
        "    enc_output shape = (batch_size, input_seq_len, d_model)\n",
        "    \"\"\"\n",
        "    # Causal self-attention\n",
        "    attn_output1, attn_wts_block1 = self.masked_mha(x, x, x, lookahead_mask)              # (batch_size, target_seq_len, d_model)\n",
        "    attn_output1 = self.dropout1(attn_output1, training=training)\n",
        "    out1 = self.layernorm1(x + attn_output1)\n",
        "\n",
        "    # cross-attention\n",
        "    attn_output2, attn_wts_block2 = self.mha(v=enc_output, k=enc_output, q=out1, padding_mask)  # (batch_size, target_seq_len, d_model)\n",
        "    attn_output2 = self.dropout2(attn_output2, training=training)\n",
        "    out2 = self.layernorm2(out1 + attn_output2)                                           # (batch_size, target_seq_len, d_model)\n",
        "\n",
        "    ff_outout = self.ffn(out2)          # (batch_size, target_seq_len, d_model)\n",
        "    ff_output = self.dropout3(ff_outout, training=training)\n",
        "    out3 = self.layernorm3(out2 + ff_output)\n",
        "\n",
        "    return out3, attn_wts_block1, attn_wts_block2"
      ],
      "execution_count": null,
      "outputs": []
    },
    {
      "cell_type": "code",
      "metadata": {
        "id": "afJEQ10Cg021"
      },
      "source": [
        "sample_decoder_layer = DecoderLayer(8, 512, 2048)\n",
        "\n",
        "sample_decoder_layer_output, _, _ = sample_decoder_layer(tf.random.uniform((64, 50, 512)), encoder_layer_output, \\\n",
        "    False, None, None)\n",
        "\n",
        "sample_decoder_layer_output.shape          # (batch_size, target_seq_len, d_model)"
      ],
      "execution_count": null,
      "outputs": []
    },
    {
      "cell_type": "markdown",
      "metadata": {
        "id": "HRMVbYkdF2wN"
      },
      "source": [
        "### Encoder\n",
        "\n",
        "Encoder has following layers\n",
        "\n",
        "1. Embedding layer to convert token IDs in input sequence to dense vector\n",
        "embeddings\n",
        "\n",
        "2. Position encoding to capture token positions in the input sequence and add it to word embeddings obtained from previous layer\n",
        "\n",
        "2. N Encoder layers\n",
        "The output of the position encoding summed with embeddings is input to the Encoder layers and output of Nth Encoder layer is input to the decoder"
      ]
    },
    {
      "cell_type": "code",
      "metadata": {
        "id": "OAMN8tbkYYFf"
      },
      "source": [
        "class Encoder(tf.keras.layers.Layer):\n",
        "  def __init__(self, num_heads, num_layers, d_model,dff, vocab_size, max_position_encoding_len, rate=0.1 ):\n",
        "    super(Encoder, self).__init__()\n",
        "    self.d_model = d_model\n",
        "    self.embedding_layer = tf.keras.layers.Embedding(vocab_size, d_model)\n",
        "    self.position_encoding = positional_encoding(max_position_encoding_len, d_model)\n",
        "    self.dropout = tf.keras.layers.Dropout(rate)\n",
        "    self.encoding_layers = [EncoderLayer(num_heads, d_model, dff, rate) for _ in range(num_layers)]\n",
        "\n",
        "  def call(self, x, training, padding_mask):\n",
        "    seq_len = tf.shape(x)[1]\n",
        "    x = self.embedding_layer(x)\n",
        "    x *= tf.sqrt(tf.cast(self.d_model, dtype=tf.float32))\n",
        "    x += self.position_encoding[:, :seq_len, :]\n",
        "\n",
        "    x = self.dropout(x, training=training)\n",
        "\n",
        "    for enc_layer in self.encoding_layers:\n",
        "      x = enc_layer(x, training, padding_mask)\n",
        "\n",
        "    return x     # (batch_size, input_seq_len, d_model)"
      ],
      "execution_count": null,
      "outputs": []
    },
    {
      "cell_type": "code",
      "metadata": {
        "id": "cNQOsTsvChEu"
      },
      "source": [
        "# Testing Encoder\n",
        "sample_encoder = Encoder(num_heads=8, num_layers=2, d_model=512, dff=2048, vocab_size=8500,\n",
        "                         max_position_encoding_len=10000 )"
      ],
      "execution_count": null,
      "outputs": []
    },
    {
      "cell_type": "code",
      "metadata": {
        "id": "BDRS5pXSE75Z"
      },
      "source": [
        "temp_input = tf.random.uniform((64, 62), dtype=tf.int64, minval=0, maxval=200)\n",
        "sample_encoder_output = sample_encoder(temp_input, training=False, padding_mask=None)\n",
        "sample_encoder_output.shape"
      ],
      "execution_count": null,
      "outputs": []
    },
    {
      "cell_type": "markdown",
      "metadata": {
        "id": "9S1yID3LUYzT"
      },
      "source": [
        "#### Decoder\n",
        "The Decoder consists of:\n",
        "\n",
        "1. Output Embedding\n",
        "2. Positional Encoding\n",
        "3. N decoder layers\n",
        "\n",
        "The target is put through an embedding which is summed with the positional encoding. The output of this summation is the input to the decoder layers. The output of the decoder is the input to the final linear layer."
      ]
    },
    {
      "cell_type": "code",
      "metadata": {
        "id": "ipDwC7R_F0yL"
      },
      "source": [
        "class Decoder(tf.keras.layers.Layer):\n",
        "  def __init__(self, num_heads, d_model, dff, maximum_position_encoding, num_layers, target_vocab_size, rate=0.1):\n",
        "    super(Decoder, self).__init__()\n",
        "\n",
        "    self.d_model = d_model\n",
        "    self.embedding_layer = tf.keras.layers.Embedding(target_vocab_size, d_model)                     # output embeddings\n",
        "    self.position_encoding = positional_encoding(maximum_position_encoding, d_model)\n",
        "    self.dropout = tf.keras.layers.Dropout(rate)\n",
        "    self.decoding_layers = [DecoderLayer(num_heads, d_model, dff, rate) for _ in range(num_layers)]\n",
        "\n",
        "  def call(self, x, encoder_output, training, padding_mask, lookahead_mask):\n",
        "    seq_len = tf.shape(x)[1]\n",
        "    attention_weights = {}\n",
        "\n",
        "    x = self.embedding_layer(x)                             # (batch_size, target_seq_len, d_model)\n",
        "    x *= tf.sqrt(tf.cast(self.d_model, dtype=tf.float32))\n",
        "    x += self.position_encoding[:, :seq_len, :]\n",
        "\n",
        "    x = self.dropout(x, training=training)\n",
        "\n",
        "    for i,decoding_layer in enumerate(self.decoding_layers):\n",
        "        x, attn_wts_blk1, attn_wts_blk2 = decoding_layer(x, encoder_output, False, None, None)\n",
        "\n",
        "        attention_weights['decoder_layer{}_block1'.format(i+1)] = attn_wts_blk1\n",
        "        attention_weights['decoder_layer{}_block2'.format(i+1)] = attn_wts_blk2\n",
        "\n",
        "    return x, attention_weights                  # x.shape = (batch_size, target_seq_len, d_model)\n"
      ],
      "execution_count": null,
      "outputs": []
    },
    {
      "cell_type": "code",
      "metadata": {
        "id": "B4rtvPL8Qi3q"
      },
      "source": [
        "sample_decoder = Decoder(num_layers=2, d_model=512, num_heads=8,\n",
        "                         dff=2048, target_vocab_size=8000,\n",
        "                         maximum_position_encoding=5000)\n",
        "temp_input = tf.random.uniform((64, 26), dtype=tf.int64, minval=0, maxval=200)\n",
        "\n",
        "output, attn = sample_decoder(temp_input,\n",
        "                              encoder_output=sample_encoder_output,\n",
        "                              training=False,\n",
        "                              lookahead_mask=None,\n",
        "                              padding_mask=None)\n",
        "\n",
        "output.shape, attn['decoder_layer2_block2'].shape"
      ],
      "execution_count": null,
      "outputs": []
    },
    {
      "cell_type": "markdown",
      "metadata": {
        "id": "lkRSA_RF5-3h"
      },
      "source": [
        "Thus we used 3 types of attention in transformers -\n",
        "\n",
        "1. **Encoder-decoder attention** layers which involves query from output of previous decoder layer and key , values come from the output of encoder. In this every position in the decoder output can attend to all positions in the encoder output's sequence.\n",
        "\n",
        "2. **Self attention layers in encoder** where the query, key abnd value vectors come from the same place, here, from the previous encoder layer. Each position in the encoder can attend to all positions in the previous layer of the encoder.\n",
        "\n",
        "3. **Self attention layers in decoder** where the query, key and value vectors come from the previous layer in the decoder upto and including that position. Here, look ahead masking is also included to prevent positions from attending to subsequent positions.\n",
        "\n",
        "### Creating Transformer\n",
        "Transformer consists of encoder, decoder & a final linear layer. The output of the decoder is fed to the final layer whose output is returned as final output."
      ]
    },
    {
      "cell_type": "code",
      "metadata": {
        "id": "gQeooEkiSkuM"
      },
      "source": [
        "class Transformer(tf.keras.Model):\n",
        "  def __init__(self, num_layers, d_model, num_heads, dff, input_vocab_size,\n",
        "               target_vocab_size, pe_input, pe_target, rate=0.1):\n",
        "    super(Transformer, self).__init__()\n",
        "\n",
        "    self.encoder = Encoder(num_heads, num_layers, d_model, dff, input_vocab_size, pe_input, rate)\n",
        "    self.decoder = Decoder(num_heads, d_model, dff, pe_target, num_layers, target_vocab_size, rate)\n",
        "\n",
        "    self.final_layer = tf.keras.layers.Dense(target_vocab_size)\n",
        "\n",
        "  def call(self, inp, tar, training, look_ahead_mask, enc_padding_mask, dec_padding_mask):\n",
        "    enc_output = self.encoder(inp, training=training, padding_mask=enc_padding_mask)          # (batch_size, inp_seq_len, d_model)\n",
        "    decoder_output, attention_weights = self.decoder(tar, enc_output, training, dec_padding_mask, look_ahead_mask)        # (batch_size, target_seq_len, d_model)\n",
        "    output = self.final_layer(decoder_output)                                    # (batch_size, target_vocab_size)\n",
        "\n",
        "    return output, attention_weights\n"
      ],
      "execution_count": null,
      "outputs": []
    },
    {
      "cell_type": "code",
      "metadata": {
        "id": "hFcPM6m5Skqx"
      },
      "source": [
        "sample_transformer = Transformer(\n",
        "    num_layers=2, d_model=512, num_heads=8, dff=2048,\n",
        "    input_vocab_size=8500, target_vocab_size=8000,\n",
        "    pe_input=10000, pe_target=6000)\n",
        "\n",
        "temp_input = tf.random.uniform((64, 38), dtype=tf.int64, minval=0, maxval=200)\n",
        "temp_target = tf.random.uniform((64, 36), dtype=tf.int64, minval=0, maxval=200)"
      ],
      "execution_count": null,
      "outputs": []
    },
    {
      "cell_type": "code",
      "metadata": {
        "id": "JCL4d72fSkn-"
      },
      "source": [
        "fn_out, _ = sample_transformer(temp_input, temp_target, training=False,\n",
        "                               enc_padding_mask=None,\n",
        "                               look_ahead_mask=None,\n",
        "                               dec_padding_mask=None)"
      ],
      "execution_count": null,
      "outputs": []
    },
    {
      "cell_type": "code",
      "metadata": {
        "id": "PuBxQDrlSkjU"
      },
      "source": [
        "fn_out.shape                      # (batch_size, tar_seq_len, target_vocab_size)"
      ],
      "execution_count": null,
      "outputs": []
    },
    {
      "cell_type": "markdown",
      "metadata": {
        "id": "xh2Vv9veC2aK"
      },
      "source": [
        "### Set hyperparameters\n",
        "To keep this example small and relatively fast, the values for num_layers, d_model, and dff have been reduced.\n",
        "\n",
        "The values used in the base model of transformer were; num_layers=6, d_model = 512, dff = 2048. See the paper for all the other versions of the transformer."
      ]
    },
    {
      "cell_type": "code",
      "metadata": {
        "id": "quX3nLarSkgf"
      },
      "source": [
        "num_layers = 4\n",
        "d_model = 128\n",
        "dff = 512\n",
        "num_heads = 8\n",
        "\n",
        "input_vocab_size = pt_tokenizer.vocab_size + 2\n",
        "target_vocab_size = en_tokenizer.vocab_size + 2\n",
        "dropout_rate = 0.1"
      ],
      "execution_count": null,
      "outputs": []
    },
    {
      "cell_type": "markdown",
      "metadata": {
        "id": "ibrPr1wXSYbB"
      },
      "source": [
        "### Optimizer\n",
        "Using the Adam optimizer with β1 = 0.9, β2 = 0.98 and $\\epsilon $ = 10e−9. The learnining rate is varied over the course of training according to the following formula from [paper](https://arxiv.org/abs/1706.03762).\n",
        "\n",
        "$$\\Large{lrate = d_{model}^{-0.5} * min(step{\\_}num^{-0.5}, step{\\_}num * warmup{\\_}steps^{-1.5})}$$\n",
        "\n",
        "This corresponds to increasing the learning rate linearly for the first warmup_steps training steps,\n",
        "and decreasing it thereafter proportionally to the inverse square root of the step number. We used\n",
        "warmup_steps = 4000.\n"
      ]
    },
    {
      "cell_type": "code",
      "metadata": {
        "id": "SFPdW2tKDBpD"
      },
      "source": [
        "class CustomSchedule(tf.keras.optimizers.schedules.LearningRateSchedule):\n",
        "  def __init__(self, d_model, warmup_steps=4000):\n",
        "    super(CustomSchedule, self).__init__()\n",
        "\n",
        "    self.d_model = d_model\n",
        "    self.d_model = tf.cast(self.d_model, tf.float32)\n",
        "\n",
        "    self.warmup_steps = warmup_steps\n",
        "\n",
        "  def __call__(self, step):\n",
        "    arg1 = tf.math.rsqrt(step)\n",
        "    arg2 = step * (self.warmup_steps ** -1.5)\n",
        "\n",
        "    return tf.math.rsqrt(self.d_model) * tf.math.minimum(arg1, arg2)"
      ],
      "execution_count": null,
      "outputs": []
    },
    {
      "cell_type": "code",
      "metadata": {
        "id": "lhryfjcNDBlJ"
      },
      "source": [
        "learning_rate = CustomSchedule(d_model)\n",
        "\n",
        "optimizer = tf.keras.optimizers.Adam(beta_1=0.9, beta_2=0.98, epsilon=1e-9)"
      ],
      "execution_count": null,
      "outputs": []
    },
    {
      "cell_type": "code",
      "metadata": {
        "id": "0989Wvh0DBi_"
      },
      "source": [
        "temp_learning_rate_schedule = CustomSchedule(d_model)\n",
        "\n",
        "plt.plot(temp_learning_rate_schedule(tf.range(40000, dtype=tf.float32)))\n",
        "plt.ylabel(\"Learning Rate\")\n",
        "plt.xlabel(\"Train Step\")"
      ],
      "execution_count": null,
      "outputs": []
    },
    {
      "cell_type": "code",
      "metadata": {
        "id": "aG2BlntiDBge"
      },
      "source": [
        "# Notice the learning rate decreasing after 4000 warmup steps\n",
        "plt.plot(temp_learning_rate_schedule(tf.range(10000, dtype=tf.float32)))\n",
        "plt.ylabel(\"Learning Rate\")\n",
        "plt.xlabel(\"Train Step\")"
      ],
      "execution_count": null,
      "outputs": []
    },
    {
      "cell_type": "markdown",
      "metadata": {
        "id": "DBwf5cQKl4YU"
      },
      "source": [
        "### Loss and metrics\n",
        "\n",
        "We will use sparse categorical loss since its'a multi class classification &  the target vectors are integers and not one-hot encoded."
      ]
    },
    {
      "cell_type": "code",
      "metadata": {
        "id": "zRpPkklul0HW"
      },
      "source": [
        "loss_object = tf.keras.losses.SparseCategoricalCrossentropy(\n",
        "    from_logits=True, reduction='none')"
      ],
      "execution_count": null,
      "outputs": []
    },
    {
      "cell_type": "code",
      "metadata": {
        "id": "NgGKvVAlzdPQ"
      },
      "source": [
        "def loss_function(real, pred):\n",
        "  mask = tf.math.logical_not(tf.math.equal(real, 0))\n",
        "  loss_ = loss_object(real, pred)\n",
        "\n",
        "  mask = tf.cast(mask, dtype=loss_.dtype)\n",
        "  loss_ *= mask\n",
        "\n",
        "  return tf.reduce_sum(loss_)/tf.reduce_sum(mask)\n",
        "\n",
        "\n",
        "def accuracy_function(real, pred):\n",
        "  accuracies = tf.equal(real, tf.argmax(pred, axis=2))\n",
        "\n",
        "  mask = tf.math.logical_not(tf.math.equal(real, 0))\n",
        "  accuracies = tf.math.logical_and(mask, accuracies)\n",
        "\n",
        "  accuracies = tf.cast(accuracies, dtype=tf.float32)\n",
        "  mask = tf.cast(mask, dtype=tf.float32)\n",
        "  return tf.reduce_sum(accuracies)/tf.reduce_sum(mask)\n"
      ],
      "execution_count": null,
      "outputs": []
    },
    {
      "cell_type": "code",
      "metadata": {
        "id": "sXhuSV4HzdLa"
      },
      "source": [
        "train_loss = tf.keras.metrics.Mean(name='train_loss')\n",
        "train_accuracy = tf.keras.metrics.Mean(name='train_accuracy')"
      ],
      "execution_count": null,
      "outputs": []
    },
    {
      "cell_type": "markdown",
      "metadata": {
        "id": "VMoGS4SS8Uep"
      },
      "source": [
        "### Training and checkpointing"
      ]
    },
    {
      "cell_type": "code",
      "metadata": {
        "id": "NqmzMoU-zdIE"
      },
      "source": [
        "transformer = Transformer(num_layers, d_model, num_heads, dff,\n",
        "                          input_vocab_size, target_vocab_size,\n",
        "                          pe_input=input_vocab_size,\n",
        "                          pe_target=target_vocab_size,\n",
        "                          rate=dropout_rate)"
      ],
      "execution_count": null,
      "outputs": []
    },
    {
      "cell_type": "code",
      "metadata": {
        "id": "0s9-BQ3V8XCF"
      },
      "source": [
        "def create_masks(inp, tar):\n",
        "  # Encoder padding mask\n",
        "  enc_padding_mask = create_padding_mask(inp)\n",
        "\n",
        "  # Used in the 2nd attention block in the decoder.\n",
        "  # This padding mask is used to mask the encoder outputs.\n",
        "  dec_padding_mask = create_padding_mask(inp)\n",
        "\n",
        "  # Used in the 1st attention block in the decoder.\n",
        "  # It is used to pad and mask future tokens in the input received by\n",
        "  # the decoder.\n",
        "  look_ahead_mask = create_look_ahead_mask(tf.shape(tar)[1])\n",
        "  dec_target_padding_mask = create_padding_mask(tar)\n",
        "  combined_mask = tf.maximum(dec_target_padding_mask, look_ahead_mask)\n",
        "\n",
        "  return enc_padding_mask, combined_mask, dec_padding_mask"
      ],
      "execution_count": null,
      "outputs": []
    },
    {
      "cell_type": "markdown",
      "metadata": {
        "id": "lSBBFNNOBzsT"
      },
      "source": [
        "Create the checkpoint path and the checkpoint manager. This will be used to save checkpoints every n epochs."
      ]
    },
    {
      "cell_type": "code",
      "metadata": {
        "id": "fpzHResA8W_D"
      },
      "source": [
        "checkpoint_path = \"./checkpoints/train\"\n",
        "\n",
        "ckpt = tf.train.Checkpoint(transformer=transformer,\n",
        "                           optimizer=optimizer)\n",
        "\n",
        "ckpt_manager = tf.train.CheckpointManager(ckpt, checkpoint_path, max_to_keep=5)\n",
        "\n",
        "# if a checkpoint exists, restore the latest checkpoint.\n",
        "if ckpt_manager.latest_checkpoint:\n",
        "  ckpt.restore(ckpt_manager.latest_checkpoint)\n",
        "  print ('Latest checkpoint restored!!')"
      ],
      "execution_count": null,
      "outputs": []
    },
    {
      "cell_type": "markdown",
      "metadata": {
        "id": "ZS4sHBWsP6GV"
      },
      "source": [
        "The target is divided into tar_inp and tar_real. tar_inp is passed as an input to the decoder. `tar_real` is that same input shifted by 1: At each location in `tar_input`, `tar_real` contains the  next token that should be predicted.\n",
        "\n",
        "For example, `sentence` = \"SOS A lion in the jungle is sleeping EOS\"\n",
        "\n",
        "`tar_inp` =  \"SOS A lion in the jungle is sleeping\"\n",
        "\n",
        "`tar_real` = \"A lion in the jungle is sleeping EOS\"\n",
        "\n",
        "The transformer is an auto-regressive model: it makes predictions one part at a time, and uses its output so far to decide what to do next.\n",
        "\n",
        "During training this example uses teacher-forcing. Teacher forcing is passing the true output to the next time step regardless of what the model predicts at the current time step.\n",
        "\n",
        "As the transformer predicts each word, *self-attention* allows it to look at the previous words in the input sequence to better predict the next word.\n",
        "\n",
        "To prevent the model from peeking at the expected output the model uses a look-ahead mask."
      ]
    },
    {
      "cell_type": "code",
      "metadata": {
        "id": "hkzeCJ3vQF1s"
      },
      "source": [
        "EPOCHS = 20"
      ],
      "execution_count": null,
      "outputs": []
    },
    {
      "cell_type": "code",
      "metadata": {
        "id": "9W-Y12YGQFnC"
      },
      "source": [
        "# The @tf.function trace-compiles train_step into a TF graph for faster\n",
        "# execution. The function specializes to the precise shape of the argument\n",
        "# tensors. To avoid re-tracing due to the variable sequence lengths or variable\n",
        "# batch sizes (the last batch is smaller), use input_signature to specify\n",
        "# more generic shapes.\n",
        "\n",
        "train_step_signature = [\n",
        "    tf.TensorSpec(shape=(None, None), dtype=tf.int64),\n",
        "    tf.TensorSpec(shape=(None, None), dtype=tf.int64),\n",
        "]\n",
        "\n",
        "@tf.function(input_signature=train_step_signature)\n",
        "def train_step(inp, tar):\n",
        "  tar_inp = tar[:, :-1]\n",
        "  tar_real = tar[:, 1:]\n",
        "\n",
        "  enc_padding_mask, combined_mask, dec_padding_mask = create_masks(inp, tar_inp)\n",
        "\n",
        "  with tf.GradientTape() as tape:\n",
        "    predictions, _ = transformer(inp, tar_inp,\n",
        "                                 True,\n",
        "                                 enc_padding_mask,\n",
        "                                 combined_mask,\n",
        "                                 dec_padding_mask)\n",
        "    loss = loss_function(tar_real, predictions)\n",
        "\n",
        "  gradients = tape.gradient(loss, transformer.trainable_variables)\n",
        "  optimizer.apply_gradients(zip(gradients, transformer.trainable_variables))\n",
        "\n",
        "  train_loss(loss)\n",
        "  train_accuracy(accuracy_function(tar_real, predictions))"
      ],
      "execution_count": null,
      "outputs": []
    },
    {
      "cell_type": "code",
      "metadata": {
        "id": "yg837QTNpDqW"
      },
      "source": [
        "for epoch in range(EPOCHS):\n",
        "  start = time.time()\n",
        "\n",
        "  train_loss.reset_states()\n",
        "  train_accuracy.reset_states()\n",
        "\n",
        "  # inp -> portuguese, tar -> english\n",
        "  for (batch, (inp, tar)) in enumerate(train_dataset):\n",
        "    train_step(inp, tar)\n",
        "\n",
        "    if batch % 50 == 0:\n",
        "      print ('Epoch {} Batch {} Loss {:.4f} Accuracy {:.4f}'.format(\n",
        "          epoch + 1, batch, train_loss.result(), train_accuracy.result()))\n",
        "\n",
        "  if (epoch + 1) % 5 == 0:\n",
        "    ckpt_save_path = ckpt_manager.save()\n",
        "    print ('Saving checkpoint for epoch {} at {}'.format(epoch+1,\n",
        "                                                         ckpt_save_path))\n",
        "\n",
        "  print ('Epoch {} Loss {:.4f} Accuracy {:.4f}'.format(epoch + 1,\n",
        "                                                train_loss.result(),\n",
        "                                                train_accuracy.result()))\n",
        "\n",
        "  print ('Time taken for 1 epoch: {} secs\\n'.format(time.time() - start))"
      ],
      "execution_count": null,
      "outputs": []
    },
    {
      "cell_type": "markdown",
      "metadata": {
        "id": "G46d7fDksuLk"
      },
      "source": [
        "#### References -\n",
        "\n",
        "1. https://www.tensorflow.org/tutorials/text/transformer#top_of_page\n",
        "2. https://gombru.github.io/2018/05/23/cross_entropy_loss/\n",
        "3. https://machinelearningmastery.com/cross-entropy-for-machine-learning/\n",
        "4. NLP and word embeddings: Embedding Matrix by Andrew Ng - https://youtu.be/VkjSaOZSZVs\n",
        "5. Embedding Layers in Keras by Jeff Heaton - https://youtu.be/OuNH5kT-aD0\n",
        "\n",
        "More references to understanding the concept of attention mechanism in pytorch with different perspective -\n",
        "1. [Understanding and Coding the Self-Attention Mechanism of Large Language Models From Scratch - 2023](https://sebastianraschka.com/blog/2023/self-attention-from-scratch.html)\n",
        "2. [A simple self-attention mechanism - Live Coding w/ Sebastian Raschka - 2025](https://www.youtube.com/watch?v=2rluVS_ap9M)\n"
      ]
    }
  ]
}