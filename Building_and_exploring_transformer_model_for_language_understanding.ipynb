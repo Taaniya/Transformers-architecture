{
  "nbformat": 4,
  "nbformat_minor": 0,
  "metadata": {
    "colab": {
      "name": "Building_and_exploring_transformer_model_for_language_understanding",
      "provenance": [],
      "collapsed_sections": []
    },
    "kernelspec": {
      "name": "python3",
      "display_name": "Python 3"
    },
    "widgets": {
      "application/vnd.jupyter.widget-state+json": {
        "646c642f2584452fbbdcbc505c43b037": {
          "model_module": "@jupyter-widgets/controls",
          "model_name": "HBoxModel",
          "state": {
            "_view_name": "HBoxView",
            "_dom_classes": [],
            "_model_name": "HBoxModel",
            "_view_module": "@jupyter-widgets/controls",
            "_model_module_version": "1.5.0",
            "_view_count": null,
            "_view_module_version": "1.5.0",
            "box_style": "",
            "layout": "IPY_MODEL_d6188ef69b2040fbbac52bdb07a9ff94",
            "_model_module": "@jupyter-widgets/controls",
            "children": [
              "IPY_MODEL_491169be159d4059a02f8878653f99a0",
              "IPY_MODEL_4ec51e11851442d7b9531efaec23a065"
            ]
          }
        },
        "d6188ef69b2040fbbac52bdb07a9ff94": {
          "model_module": "@jupyter-widgets/base",
          "model_name": "LayoutModel",
          "state": {
            "_view_name": "LayoutView",
            "grid_template_rows": null,
            "right": null,
            "justify_content": null,
            "_view_module": "@jupyter-widgets/base",
            "overflow": null,
            "_model_module_version": "1.2.0",
            "_view_count": null,
            "flex_flow": null,
            "width": null,
            "min_width": null,
            "border": null,
            "align_items": null,
            "bottom": null,
            "_model_module": "@jupyter-widgets/base",
            "top": null,
            "grid_column": null,
            "overflow_y": null,
            "overflow_x": null,
            "grid_auto_flow": null,
            "grid_area": null,
            "grid_template_columns": null,
            "flex": null,
            "_model_name": "LayoutModel",
            "justify_items": null,
            "grid_row": null,
            "max_height": null,
            "align_content": null,
            "visibility": null,
            "align_self": null,
            "height": null,
            "min_height": null,
            "padding": null,
            "grid_auto_rows": null,
            "grid_gap": null,
            "max_width": null,
            "order": null,
            "_view_module_version": "1.2.0",
            "grid_template_areas": null,
            "object_position": null,
            "object_fit": null,
            "grid_auto_columns": null,
            "margin": null,
            "display": null,
            "left": null
          }
        },
        "491169be159d4059a02f8878653f99a0": {
          "model_module": "@jupyter-widgets/controls",
          "model_name": "FloatProgressModel",
          "state": {
            "_view_name": "ProgressView",
            "style": "IPY_MODEL_b2726c49d30c442bb67f598e815d67af",
            "_dom_classes": [],
            "description": "Dl Completed...: 100%",
            "_model_name": "FloatProgressModel",
            "bar_style": "success",
            "max": 1,
            "_view_module": "@jupyter-widgets/controls",
            "_model_module_version": "1.5.0",
            "value": 1,
            "_view_count": null,
            "_view_module_version": "1.5.0",
            "orientation": "horizontal",
            "min": 0,
            "description_tooltip": null,
            "_model_module": "@jupyter-widgets/controls",
            "layout": "IPY_MODEL_9e205ce4422c4444829a6d25d1070efb"
          }
        },
        "4ec51e11851442d7b9531efaec23a065": {
          "model_module": "@jupyter-widgets/controls",
          "model_name": "HTMLModel",
          "state": {
            "_view_name": "HTMLView",
            "style": "IPY_MODEL_75bd9251c8fc419bb5aeaff59c20e2e1",
            "_dom_classes": [],
            "description": "",
            "_model_name": "HTMLModel",
            "placeholder": "​",
            "_view_module": "@jupyter-widgets/controls",
            "_model_module_version": "1.5.0",
            "value": " 1/1 [00:15&lt;00:00, 15.93s/ url]",
            "_view_count": null,
            "_view_module_version": "1.5.0",
            "description_tooltip": null,
            "_model_module": "@jupyter-widgets/controls",
            "layout": "IPY_MODEL_0be89bb1ff9a4001929ebd45efd8bc52"
          }
        },
        "b2726c49d30c442bb67f598e815d67af": {
          "model_module": "@jupyter-widgets/controls",
          "model_name": "ProgressStyleModel",
          "state": {
            "_view_name": "StyleView",
            "_model_name": "ProgressStyleModel",
            "description_width": "initial",
            "_view_module": "@jupyter-widgets/base",
            "_model_module_version": "1.5.0",
            "_view_count": null,
            "_view_module_version": "1.2.0",
            "bar_color": null,
            "_model_module": "@jupyter-widgets/controls"
          }
        },
        "9e205ce4422c4444829a6d25d1070efb": {
          "model_module": "@jupyter-widgets/base",
          "model_name": "LayoutModel",
          "state": {
            "_view_name": "LayoutView",
            "grid_template_rows": null,
            "right": null,
            "justify_content": null,
            "_view_module": "@jupyter-widgets/base",
            "overflow": null,
            "_model_module_version": "1.2.0",
            "_view_count": null,
            "flex_flow": null,
            "width": null,
            "min_width": null,
            "border": null,
            "align_items": null,
            "bottom": null,
            "_model_module": "@jupyter-widgets/base",
            "top": null,
            "grid_column": null,
            "overflow_y": null,
            "overflow_x": null,
            "grid_auto_flow": null,
            "grid_area": null,
            "grid_template_columns": null,
            "flex": null,
            "_model_name": "LayoutModel",
            "justify_items": null,
            "grid_row": null,
            "max_height": null,
            "align_content": null,
            "visibility": null,
            "align_self": null,
            "height": null,
            "min_height": null,
            "padding": null,
            "grid_auto_rows": null,
            "grid_gap": null,
            "max_width": null,
            "order": null,
            "_view_module_version": "1.2.0",
            "grid_template_areas": null,
            "object_position": null,
            "object_fit": null,
            "grid_auto_columns": null,
            "margin": null,
            "display": null,
            "left": null
          }
        },
        "75bd9251c8fc419bb5aeaff59c20e2e1": {
          "model_module": "@jupyter-widgets/controls",
          "model_name": "DescriptionStyleModel",
          "state": {
            "_view_name": "StyleView",
            "_model_name": "DescriptionStyleModel",
            "description_width": "",
            "_view_module": "@jupyter-widgets/base",
            "_model_module_version": "1.5.0",
            "_view_count": null,
            "_view_module_version": "1.2.0",
            "_model_module": "@jupyter-widgets/controls"
          }
        },
        "0be89bb1ff9a4001929ebd45efd8bc52": {
          "model_module": "@jupyter-widgets/base",
          "model_name": "LayoutModel",
          "state": {
            "_view_name": "LayoutView",
            "grid_template_rows": null,
            "right": null,
            "justify_content": null,
            "_view_module": "@jupyter-widgets/base",
            "overflow": null,
            "_model_module_version": "1.2.0",
            "_view_count": null,
            "flex_flow": null,
            "width": null,
            "min_width": null,
            "border": null,
            "align_items": null,
            "bottom": null,
            "_model_module": "@jupyter-widgets/base",
            "top": null,
            "grid_column": null,
            "overflow_y": null,
            "overflow_x": null,
            "grid_auto_flow": null,
            "grid_area": null,
            "grid_template_columns": null,
            "flex": null,
            "_model_name": "LayoutModel",
            "justify_items": null,
            "grid_row": null,
            "max_height": null,
            "align_content": null,
            "visibility": null,
            "align_self": null,
            "height": null,
            "min_height": null,
            "padding": null,
            "grid_auto_rows": null,
            "grid_gap": null,
            "max_width": null,
            "order": null,
            "_view_module_version": "1.2.0",
            "grid_template_areas": null,
            "object_position": null,
            "object_fit": null,
            "grid_auto_columns": null,
            "margin": null,
            "display": null,
            "left": null
          }
        },
        "83ccc132e3b34e79ad042623e16fdf96": {
          "model_module": "@jupyter-widgets/controls",
          "model_name": "HBoxModel",
          "state": {
            "_view_name": "HBoxView",
            "_dom_classes": [],
            "_model_name": "HBoxModel",
            "_view_module": "@jupyter-widgets/controls",
            "_model_module_version": "1.5.0",
            "_view_count": null,
            "_view_module_version": "1.5.0",
            "box_style": "",
            "layout": "IPY_MODEL_ea12de29b64848c584f9caf1d900240d",
            "_model_module": "@jupyter-widgets/controls",
            "children": [
              "IPY_MODEL_cd95602868044fa6a92c14d1d479d858",
              "IPY_MODEL_10c0d44b584f42979eaacd2c330b1632"
            ]
          }
        },
        "ea12de29b64848c584f9caf1d900240d": {
          "model_module": "@jupyter-widgets/base",
          "model_name": "LayoutModel",
          "state": {
            "_view_name": "LayoutView",
            "grid_template_rows": null,
            "right": null,
            "justify_content": null,
            "_view_module": "@jupyter-widgets/base",
            "overflow": null,
            "_model_module_version": "1.2.0",
            "_view_count": null,
            "flex_flow": null,
            "width": null,
            "min_width": null,
            "border": null,
            "align_items": null,
            "bottom": null,
            "_model_module": "@jupyter-widgets/base",
            "top": null,
            "grid_column": null,
            "overflow_y": null,
            "overflow_x": null,
            "grid_auto_flow": null,
            "grid_area": null,
            "grid_template_columns": null,
            "flex": null,
            "_model_name": "LayoutModel",
            "justify_items": null,
            "grid_row": null,
            "max_height": null,
            "align_content": null,
            "visibility": null,
            "align_self": null,
            "height": null,
            "min_height": null,
            "padding": null,
            "grid_auto_rows": null,
            "grid_gap": null,
            "max_width": null,
            "order": null,
            "_view_module_version": "1.2.0",
            "grid_template_areas": null,
            "object_position": null,
            "object_fit": null,
            "grid_auto_columns": null,
            "margin": null,
            "display": null,
            "left": null
          }
        },
        "cd95602868044fa6a92c14d1d479d858": {
          "model_module": "@jupyter-widgets/controls",
          "model_name": "FloatProgressModel",
          "state": {
            "_view_name": "ProgressView",
            "style": "IPY_MODEL_9af3155125f8473ebc0aa935499e73f2",
            "_dom_classes": [],
            "description": "Dl Size...: 100%",
            "_model_name": "FloatProgressModel",
            "bar_style": "success",
            "max": 1,
            "_view_module": "@jupyter-widgets/controls",
            "_model_module_version": "1.5.0",
            "value": 1,
            "_view_count": null,
            "_view_module_version": "1.5.0",
            "orientation": "horizontal",
            "min": 0,
            "description_tooltip": null,
            "_model_module": "@jupyter-widgets/controls",
            "layout": "IPY_MODEL_8f68b2eeca2e45958123a1012f07664b"
          }
        },
        "10c0d44b584f42979eaacd2c330b1632": {
          "model_module": "@jupyter-widgets/controls",
          "model_name": "HTMLModel",
          "state": {
            "_view_name": "HTMLView",
            "style": "IPY_MODEL_d2257bf058924f3c85f9b035e0a628a1",
            "_dom_classes": [],
            "description": "",
            "_model_name": "HTMLModel",
            "placeholder": "​",
            "_view_module": "@jupyter-widgets/controls",
            "_model_module_version": "1.5.0",
            "value": " 124/124 [00:15&lt;00:00,  7.81 MiB/s]",
            "_view_count": null,
            "_view_module_version": "1.5.0",
            "description_tooltip": null,
            "_model_module": "@jupyter-widgets/controls",
            "layout": "IPY_MODEL_1aa99d206a294424b7666c75a2968f7f"
          }
        },
        "9af3155125f8473ebc0aa935499e73f2": {
          "model_module": "@jupyter-widgets/controls",
          "model_name": "ProgressStyleModel",
          "state": {
            "_view_name": "StyleView",
            "_model_name": "ProgressStyleModel",
            "description_width": "initial",
            "_view_module": "@jupyter-widgets/base",
            "_model_module_version": "1.5.0",
            "_view_count": null,
            "_view_module_version": "1.2.0",
            "bar_color": null,
            "_model_module": "@jupyter-widgets/controls"
          }
        },
        "8f68b2eeca2e45958123a1012f07664b": {
          "model_module": "@jupyter-widgets/base",
          "model_name": "LayoutModel",
          "state": {
            "_view_name": "LayoutView",
            "grid_template_rows": null,
            "right": null,
            "justify_content": null,
            "_view_module": "@jupyter-widgets/base",
            "overflow": null,
            "_model_module_version": "1.2.0",
            "_view_count": null,
            "flex_flow": null,
            "width": null,
            "min_width": null,
            "border": null,
            "align_items": null,
            "bottom": null,
            "_model_module": "@jupyter-widgets/base",
            "top": null,
            "grid_column": null,
            "overflow_y": null,
            "overflow_x": null,
            "grid_auto_flow": null,
            "grid_area": null,
            "grid_template_columns": null,
            "flex": null,
            "_model_name": "LayoutModel",
            "justify_items": null,
            "grid_row": null,
            "max_height": null,
            "align_content": null,
            "visibility": null,
            "align_self": null,
            "height": null,
            "min_height": null,
            "padding": null,
            "grid_auto_rows": null,
            "grid_gap": null,
            "max_width": null,
            "order": null,
            "_view_module_version": "1.2.0",
            "grid_template_areas": null,
            "object_position": null,
            "object_fit": null,
            "grid_auto_columns": null,
            "margin": null,
            "display": null,
            "left": null
          }
        },
        "d2257bf058924f3c85f9b035e0a628a1": {
          "model_module": "@jupyter-widgets/controls",
          "model_name": "DescriptionStyleModel",
          "state": {
            "_view_name": "StyleView",
            "_model_name": "DescriptionStyleModel",
            "description_width": "",
            "_view_module": "@jupyter-widgets/base",
            "_model_module_version": "1.5.0",
            "_view_count": null,
            "_view_module_version": "1.2.0",
            "_model_module": "@jupyter-widgets/controls"
          }
        },
        "1aa99d206a294424b7666c75a2968f7f": {
          "model_module": "@jupyter-widgets/base",
          "model_name": "LayoutModel",
          "state": {
            "_view_name": "LayoutView",
            "grid_template_rows": null,
            "right": null,
            "justify_content": null,
            "_view_module": "@jupyter-widgets/base",
            "overflow": null,
            "_model_module_version": "1.2.0",
            "_view_count": null,
            "flex_flow": null,
            "width": null,
            "min_width": null,
            "border": null,
            "align_items": null,
            "bottom": null,
            "_model_module": "@jupyter-widgets/base",
            "top": null,
            "grid_column": null,
            "overflow_y": null,
            "overflow_x": null,
            "grid_auto_flow": null,
            "grid_area": null,
            "grid_template_columns": null,
            "flex": null,
            "_model_name": "LayoutModel",
            "justify_items": null,
            "grid_row": null,
            "max_height": null,
            "align_content": null,
            "visibility": null,
            "align_self": null,
            "height": null,
            "min_height": null,
            "padding": null,
            "grid_auto_rows": null,
            "grid_gap": null,
            "max_width": null,
            "order": null,
            "_view_module_version": "1.2.0",
            "grid_template_areas": null,
            "object_position": null,
            "object_fit": null,
            "grid_auto_columns": null,
            "margin": null,
            "display": null,
            "left": null
          }
        },
        "fd675bcfb2ae494da7b9318e712b60cc": {
          "model_module": "@jupyter-widgets/controls",
          "model_name": "HBoxModel",
          "state": {
            "_view_name": "HBoxView",
            "_dom_classes": [],
            "_model_name": "HBoxModel",
            "_view_module": "@jupyter-widgets/controls",
            "_model_module_version": "1.5.0",
            "_view_count": null,
            "_view_module_version": "1.5.0",
            "box_style": "",
            "layout": "IPY_MODEL_5cff29685607468cac9371544d6ed77b",
            "_model_module": "@jupyter-widgets/controls",
            "children": [
              "IPY_MODEL_178e4eb7e8d84d18b2c71fc1ea207291",
              "IPY_MODEL_4e8579a0fff14dabbe4e48db75069391"
            ]
          }
        },
        "5cff29685607468cac9371544d6ed77b": {
          "model_module": "@jupyter-widgets/base",
          "model_name": "LayoutModel",
          "state": {
            "_view_name": "LayoutView",
            "grid_template_rows": null,
            "right": null,
            "justify_content": null,
            "_view_module": "@jupyter-widgets/base",
            "overflow": null,
            "_model_module_version": "1.2.0",
            "_view_count": null,
            "flex_flow": null,
            "width": null,
            "min_width": null,
            "border": null,
            "align_items": null,
            "bottom": null,
            "_model_module": "@jupyter-widgets/base",
            "top": null,
            "grid_column": null,
            "overflow_y": null,
            "overflow_x": null,
            "grid_auto_flow": null,
            "grid_area": null,
            "grid_template_columns": null,
            "flex": null,
            "_model_name": "LayoutModel",
            "justify_items": null,
            "grid_row": null,
            "max_height": null,
            "align_content": null,
            "visibility": null,
            "align_self": null,
            "height": null,
            "min_height": null,
            "padding": null,
            "grid_auto_rows": null,
            "grid_gap": null,
            "max_width": null,
            "order": null,
            "_view_module_version": "1.2.0",
            "grid_template_areas": null,
            "object_position": null,
            "object_fit": null,
            "grid_auto_columns": null,
            "margin": null,
            "display": null,
            "left": null
          }
        },
        "178e4eb7e8d84d18b2c71fc1ea207291": {
          "model_module": "@jupyter-widgets/controls",
          "model_name": "FloatProgressModel",
          "state": {
            "_view_name": "ProgressView",
            "style": "IPY_MODEL_c8ed225b7e23469991727165f0effcaf",
            "_dom_classes": [],
            "description": "Extraction completed...: 100%",
            "_model_name": "FloatProgressModel",
            "bar_style": "success",
            "max": 1,
            "_view_module": "@jupyter-widgets/controls",
            "_model_module_version": "1.5.0",
            "value": 1,
            "_view_count": null,
            "_view_module_version": "1.5.0",
            "orientation": "horizontal",
            "min": 0,
            "description_tooltip": null,
            "_model_module": "@jupyter-widgets/controls",
            "layout": "IPY_MODEL_fa5ac1b989e14b46a4272427d9b6a480"
          }
        },
        "4e8579a0fff14dabbe4e48db75069391": {
          "model_module": "@jupyter-widgets/controls",
          "model_name": "HTMLModel",
          "state": {
            "_view_name": "HTMLView",
            "style": "IPY_MODEL_8be917a2d95240859167e2a651429407",
            "_dom_classes": [],
            "description": "",
            "_model_name": "HTMLModel",
            "placeholder": "​",
            "_view_module": "@jupyter-widgets/controls",
            "_model_module_version": "1.5.0",
            "value": " 1/1 [00:15&lt;00:00, 15.84s/ file]",
            "_view_count": null,
            "_view_module_version": "1.5.0",
            "description_tooltip": null,
            "_model_module": "@jupyter-widgets/controls",
            "layout": "IPY_MODEL_e5913c35812842d996d06c71827527ed"
          }
        },
        "c8ed225b7e23469991727165f0effcaf": {
          "model_module": "@jupyter-widgets/controls",
          "model_name": "ProgressStyleModel",
          "state": {
            "_view_name": "StyleView",
            "_model_name": "ProgressStyleModel",
            "description_width": "initial",
            "_view_module": "@jupyter-widgets/base",
            "_model_module_version": "1.5.0",
            "_view_count": null,
            "_view_module_version": "1.2.0",
            "bar_color": null,
            "_model_module": "@jupyter-widgets/controls"
          }
        },
        "fa5ac1b989e14b46a4272427d9b6a480": {
          "model_module": "@jupyter-widgets/base",
          "model_name": "LayoutModel",
          "state": {
            "_view_name": "LayoutView",
            "grid_template_rows": null,
            "right": null,
            "justify_content": null,
            "_view_module": "@jupyter-widgets/base",
            "overflow": null,
            "_model_module_version": "1.2.0",
            "_view_count": null,
            "flex_flow": null,
            "width": null,
            "min_width": null,
            "border": null,
            "align_items": null,
            "bottom": null,
            "_model_module": "@jupyter-widgets/base",
            "top": null,
            "grid_column": null,
            "overflow_y": null,
            "overflow_x": null,
            "grid_auto_flow": null,
            "grid_area": null,
            "grid_template_columns": null,
            "flex": null,
            "_model_name": "LayoutModel",
            "justify_items": null,
            "grid_row": null,
            "max_height": null,
            "align_content": null,
            "visibility": null,
            "align_self": null,
            "height": null,
            "min_height": null,
            "padding": null,
            "grid_auto_rows": null,
            "grid_gap": null,
            "max_width": null,
            "order": null,
            "_view_module_version": "1.2.0",
            "grid_template_areas": null,
            "object_position": null,
            "object_fit": null,
            "grid_auto_columns": null,
            "margin": null,
            "display": null,
            "left": null
          }
        },
        "8be917a2d95240859167e2a651429407": {
          "model_module": "@jupyter-widgets/controls",
          "model_name": "DescriptionStyleModel",
          "state": {
            "_view_name": "StyleView",
            "_model_name": "DescriptionStyleModel",
            "description_width": "",
            "_view_module": "@jupyter-widgets/base",
            "_model_module_version": "1.5.0",
            "_view_count": null,
            "_view_module_version": "1.2.0",
            "_model_module": "@jupyter-widgets/controls"
          }
        },
        "e5913c35812842d996d06c71827527ed": {
          "model_module": "@jupyter-widgets/base",
          "model_name": "LayoutModel",
          "state": {
            "_view_name": "LayoutView",
            "grid_template_rows": null,
            "right": null,
            "justify_content": null,
            "_view_module": "@jupyter-widgets/base",
            "overflow": null,
            "_model_module_version": "1.2.0",
            "_view_count": null,
            "flex_flow": null,
            "width": null,
            "min_width": null,
            "border": null,
            "align_items": null,
            "bottom": null,
            "_model_module": "@jupyter-widgets/base",
            "top": null,
            "grid_column": null,
            "overflow_y": null,
            "overflow_x": null,
            "grid_auto_flow": null,
            "grid_area": null,
            "grid_template_columns": null,
            "flex": null,
            "_model_name": "LayoutModel",
            "justify_items": null,
            "grid_row": null,
            "max_height": null,
            "align_content": null,
            "visibility": null,
            "align_self": null,
            "height": null,
            "min_height": null,
            "padding": null,
            "grid_auto_rows": null,
            "grid_gap": null,
            "max_width": null,
            "order": null,
            "_view_module_version": "1.2.0",
            "grid_template_areas": null,
            "object_position": null,
            "object_fit": null,
            "grid_auto_columns": null,
            "margin": null,
            "display": null,
            "left": null
          }
        },
        "d6bd676afdd5414688dfc707ba5188fa": {
          "model_module": "@jupyter-widgets/controls",
          "model_name": "HBoxModel",
          "state": {
            "_view_name": "HBoxView",
            "_dom_classes": [],
            "_model_name": "HBoxModel",
            "_view_module": "@jupyter-widgets/controls",
            "_model_module_version": "1.5.0",
            "_view_count": null,
            "_view_module_version": "1.5.0",
            "box_style": "",
            "layout": "IPY_MODEL_60402361c42d49ca8fa771d357d59156",
            "_model_module": "@jupyter-widgets/controls",
            "children": [
              "IPY_MODEL_e6fe0dbae3f24c3991fcb164e285163b",
              "IPY_MODEL_92fcf899586246f3b52a7a35777dcdae"
            ]
          }
        },
        "60402361c42d49ca8fa771d357d59156": {
          "model_module": "@jupyter-widgets/base",
          "model_name": "LayoutModel",
          "state": {
            "_view_name": "LayoutView",
            "grid_template_rows": null,
            "right": null,
            "justify_content": null,
            "_view_module": "@jupyter-widgets/base",
            "overflow": null,
            "_model_module_version": "1.2.0",
            "_view_count": null,
            "flex_flow": null,
            "width": null,
            "min_width": null,
            "border": null,
            "align_items": null,
            "bottom": null,
            "_model_module": "@jupyter-widgets/base",
            "top": null,
            "grid_column": null,
            "overflow_y": null,
            "overflow_x": null,
            "grid_auto_flow": null,
            "grid_area": null,
            "grid_template_columns": null,
            "flex": null,
            "_model_name": "LayoutModel",
            "justify_items": null,
            "grid_row": null,
            "max_height": null,
            "align_content": null,
            "visibility": null,
            "align_self": null,
            "height": null,
            "min_height": null,
            "padding": null,
            "grid_auto_rows": null,
            "grid_gap": null,
            "max_width": null,
            "order": null,
            "_view_module_version": "1.2.0",
            "grid_template_areas": null,
            "object_position": null,
            "object_fit": null,
            "grid_auto_columns": null,
            "margin": null,
            "display": null,
            "left": null
          }
        },
        "e6fe0dbae3f24c3991fcb164e285163b": {
          "model_module": "@jupyter-widgets/controls",
          "model_name": "FloatProgressModel",
          "state": {
            "_view_name": "ProgressView",
            "style": "IPY_MODEL_00ea4ede61b14f0abe4bd528cdd7b7a6",
            "_dom_classes": [],
            "description": "",
            "_model_name": "FloatProgressModel",
            "bar_style": "info",
            "max": 1,
            "_view_module": "@jupyter-widgets/controls",
            "_model_module_version": "1.5.0",
            "value": 1,
            "_view_count": null,
            "_view_module_version": "1.5.0",
            "orientation": "horizontal",
            "min": 0,
            "description_tooltip": null,
            "_model_module": "@jupyter-widgets/controls",
            "layout": "IPY_MODEL_49a3048cd17d4cc5ac14c34e54ef6e9e"
          }
        },
        "92fcf899586246f3b52a7a35777dcdae": {
          "model_module": "@jupyter-widgets/controls",
          "model_name": "HTMLModel",
          "state": {
            "_view_name": "HTMLView",
            "style": "IPY_MODEL_ec6921b31a6b4a4580777f47d6f6922a",
            "_dom_classes": [],
            "description": "",
            "_model_name": "HTMLModel",
            "placeholder": "​",
            "_view_module": "@jupyter-widgets/controls",
            "_model_module_version": "1.5.0",
            "value": " 51785/0 [00:08&lt;00:00, 5753.06 examples/s]",
            "_view_count": null,
            "_view_module_version": "1.5.0",
            "description_tooltip": null,
            "_model_module": "@jupyter-widgets/controls",
            "layout": "IPY_MODEL_9c8684eb6d3c4c54ae92184b1c2a6f96"
          }
        },
        "00ea4ede61b14f0abe4bd528cdd7b7a6": {
          "model_module": "@jupyter-widgets/controls",
          "model_name": "ProgressStyleModel",
          "state": {
            "_view_name": "StyleView",
            "_model_name": "ProgressStyleModel",
            "description_width": "initial",
            "_view_module": "@jupyter-widgets/base",
            "_model_module_version": "1.5.0",
            "_view_count": null,
            "_view_module_version": "1.2.0",
            "bar_color": null,
            "_model_module": "@jupyter-widgets/controls"
          }
        },
        "49a3048cd17d4cc5ac14c34e54ef6e9e": {
          "model_module": "@jupyter-widgets/base",
          "model_name": "LayoutModel",
          "state": {
            "_view_name": "LayoutView",
            "grid_template_rows": null,
            "right": null,
            "justify_content": null,
            "_view_module": "@jupyter-widgets/base",
            "overflow": null,
            "_model_module_version": "1.2.0",
            "_view_count": null,
            "flex_flow": null,
            "width": null,
            "min_width": null,
            "border": null,
            "align_items": null,
            "bottom": null,
            "_model_module": "@jupyter-widgets/base",
            "top": null,
            "grid_column": null,
            "overflow_y": null,
            "overflow_x": null,
            "grid_auto_flow": null,
            "grid_area": null,
            "grid_template_columns": null,
            "flex": null,
            "_model_name": "LayoutModel",
            "justify_items": null,
            "grid_row": null,
            "max_height": null,
            "align_content": null,
            "visibility": null,
            "align_self": null,
            "height": null,
            "min_height": null,
            "padding": null,
            "grid_auto_rows": null,
            "grid_gap": null,
            "max_width": null,
            "order": null,
            "_view_module_version": "1.2.0",
            "grid_template_areas": null,
            "object_position": null,
            "object_fit": null,
            "grid_auto_columns": null,
            "margin": null,
            "display": null,
            "left": null
          }
        },
        "ec6921b31a6b4a4580777f47d6f6922a": {
          "model_module": "@jupyter-widgets/controls",
          "model_name": "DescriptionStyleModel",
          "state": {
            "_view_name": "StyleView",
            "_model_name": "DescriptionStyleModel",
            "description_width": "",
            "_view_module": "@jupyter-widgets/base",
            "_model_module_version": "1.5.0",
            "_view_count": null,
            "_view_module_version": "1.2.0",
            "_model_module": "@jupyter-widgets/controls"
          }
        },
        "9c8684eb6d3c4c54ae92184b1c2a6f96": {
          "model_module": "@jupyter-widgets/base",
          "model_name": "LayoutModel",
          "state": {
            "_view_name": "LayoutView",
            "grid_template_rows": null,
            "right": null,
            "justify_content": null,
            "_view_module": "@jupyter-widgets/base",
            "overflow": null,
            "_model_module_version": "1.2.0",
            "_view_count": null,
            "flex_flow": null,
            "width": null,
            "min_width": null,
            "border": null,
            "align_items": null,
            "bottom": null,
            "_model_module": "@jupyter-widgets/base",
            "top": null,
            "grid_column": null,
            "overflow_y": null,
            "overflow_x": null,
            "grid_auto_flow": null,
            "grid_area": null,
            "grid_template_columns": null,
            "flex": null,
            "_model_name": "LayoutModel",
            "justify_items": null,
            "grid_row": null,
            "max_height": null,
            "align_content": null,
            "visibility": null,
            "align_self": null,
            "height": null,
            "min_height": null,
            "padding": null,
            "grid_auto_rows": null,
            "grid_gap": null,
            "max_width": null,
            "order": null,
            "_view_module_version": "1.2.0",
            "grid_template_areas": null,
            "object_position": null,
            "object_fit": null,
            "grid_auto_columns": null,
            "margin": null,
            "display": null,
            "left": null
          }
        },
        "1a30b684086048c3a53ab2a96359754b": {
          "model_module": "@jupyter-widgets/controls",
          "model_name": "HBoxModel",
          "state": {
            "_view_name": "HBoxView",
            "_dom_classes": [],
            "_model_name": "HBoxModel",
            "_view_module": "@jupyter-widgets/controls",
            "_model_module_version": "1.5.0",
            "_view_count": null,
            "_view_module_version": "1.5.0",
            "box_style": "",
            "layout": "IPY_MODEL_f7b0ace6c76940dc85e0898e3c58f461",
            "_model_module": "@jupyter-widgets/controls",
            "children": [
              "IPY_MODEL_70c54d0518c94dbfb9028dd88a77ac2a",
              "IPY_MODEL_2d6c3f84af1146fa9d48988f6e213ad2"
            ]
          }
        },
        "f7b0ace6c76940dc85e0898e3c58f461": {
          "model_module": "@jupyter-widgets/base",
          "model_name": "LayoutModel",
          "state": {
            "_view_name": "LayoutView",
            "grid_template_rows": null,
            "right": null,
            "justify_content": null,
            "_view_module": "@jupyter-widgets/base",
            "overflow": null,
            "_model_module_version": "1.2.0",
            "_view_count": null,
            "flex_flow": null,
            "width": null,
            "min_width": null,
            "border": null,
            "align_items": null,
            "bottom": null,
            "_model_module": "@jupyter-widgets/base",
            "top": null,
            "grid_column": null,
            "overflow_y": null,
            "overflow_x": null,
            "grid_auto_flow": null,
            "grid_area": null,
            "grid_template_columns": null,
            "flex": null,
            "_model_name": "LayoutModel",
            "justify_items": null,
            "grid_row": null,
            "max_height": null,
            "align_content": null,
            "visibility": null,
            "align_self": null,
            "height": null,
            "min_height": null,
            "padding": null,
            "grid_auto_rows": null,
            "grid_gap": null,
            "max_width": null,
            "order": null,
            "_view_module_version": "1.2.0",
            "grid_template_areas": null,
            "object_position": null,
            "object_fit": null,
            "grid_auto_columns": null,
            "margin": null,
            "display": null,
            "left": null
          }
        },
        "70c54d0518c94dbfb9028dd88a77ac2a": {
          "model_module": "@jupyter-widgets/controls",
          "model_name": "FloatProgressModel",
          "state": {
            "_view_name": "ProgressView",
            "style": "IPY_MODEL_c098a0ff9de5474c9f04512d2e7ffe57",
            "_dom_classes": [],
            "description": " 68%",
            "_model_name": "FloatProgressModel",
            "bar_style": "danger",
            "max": 51785,
            "_view_module": "@jupyter-widgets/controls",
            "_model_module_version": "1.5.0",
            "value": 35281,
            "_view_count": null,
            "_view_module_version": "1.5.0",
            "orientation": "horizontal",
            "min": 0,
            "description_tooltip": null,
            "_model_module": "@jupyter-widgets/controls",
            "layout": "IPY_MODEL_f59ffff042fb4f6ca12fd717ed4667a6"
          }
        },
        "2d6c3f84af1146fa9d48988f6e213ad2": {
          "model_module": "@jupyter-widgets/controls",
          "model_name": "HTMLModel",
          "state": {
            "_view_name": "HTMLView",
            "style": "IPY_MODEL_89935314cdb94ba28b7c2c49005c8ff8",
            "_dom_classes": [],
            "description": "",
            "_model_name": "HTMLModel",
            "placeholder": "​",
            "_view_module": "@jupyter-widgets/controls",
            "_model_module_version": "1.5.0",
            "value": " 35281/51785 [00:00&lt;20:39, 13.31 examples/s]",
            "_view_count": null,
            "_view_module_version": "1.5.0",
            "description_tooltip": null,
            "_model_module": "@jupyter-widgets/controls",
            "layout": "IPY_MODEL_126d0f59f73f47a39beb8a292f3a2dc7"
          }
        },
        "c098a0ff9de5474c9f04512d2e7ffe57": {
          "model_module": "@jupyter-widgets/controls",
          "model_name": "ProgressStyleModel",
          "state": {
            "_view_name": "StyleView",
            "_model_name": "ProgressStyleModel",
            "description_width": "initial",
            "_view_module": "@jupyter-widgets/base",
            "_model_module_version": "1.5.0",
            "_view_count": null,
            "_view_module_version": "1.2.0",
            "bar_color": null,
            "_model_module": "@jupyter-widgets/controls"
          }
        },
        "f59ffff042fb4f6ca12fd717ed4667a6": {
          "model_module": "@jupyter-widgets/base",
          "model_name": "LayoutModel",
          "state": {
            "_view_name": "LayoutView",
            "grid_template_rows": null,
            "right": null,
            "justify_content": null,
            "_view_module": "@jupyter-widgets/base",
            "overflow": null,
            "_model_module_version": "1.2.0",
            "_view_count": null,
            "flex_flow": null,
            "width": null,
            "min_width": null,
            "border": null,
            "align_items": null,
            "bottom": null,
            "_model_module": "@jupyter-widgets/base",
            "top": null,
            "grid_column": null,
            "overflow_y": null,
            "overflow_x": null,
            "grid_auto_flow": null,
            "grid_area": null,
            "grid_template_columns": null,
            "flex": null,
            "_model_name": "LayoutModel",
            "justify_items": null,
            "grid_row": null,
            "max_height": null,
            "align_content": null,
            "visibility": null,
            "align_self": null,
            "height": null,
            "min_height": null,
            "padding": null,
            "grid_auto_rows": null,
            "grid_gap": null,
            "max_width": null,
            "order": null,
            "_view_module_version": "1.2.0",
            "grid_template_areas": null,
            "object_position": null,
            "object_fit": null,
            "grid_auto_columns": null,
            "margin": null,
            "display": null,
            "left": null
          }
        },
        "89935314cdb94ba28b7c2c49005c8ff8": {
          "model_module": "@jupyter-widgets/controls",
          "model_name": "DescriptionStyleModel",
          "state": {
            "_view_name": "StyleView",
            "_model_name": "DescriptionStyleModel",
            "description_width": "",
            "_view_module": "@jupyter-widgets/base",
            "_model_module_version": "1.5.0",
            "_view_count": null,
            "_view_module_version": "1.2.0",
            "_model_module": "@jupyter-widgets/controls"
          }
        },
        "126d0f59f73f47a39beb8a292f3a2dc7": {
          "model_module": "@jupyter-widgets/base",
          "model_name": "LayoutModel",
          "state": {
            "_view_name": "LayoutView",
            "grid_template_rows": null,
            "right": null,
            "justify_content": null,
            "_view_module": "@jupyter-widgets/base",
            "overflow": null,
            "_model_module_version": "1.2.0",
            "_view_count": null,
            "flex_flow": null,
            "width": null,
            "min_width": null,
            "border": null,
            "align_items": null,
            "bottom": null,
            "_model_module": "@jupyter-widgets/base",
            "top": null,
            "grid_column": null,
            "overflow_y": null,
            "overflow_x": null,
            "grid_auto_flow": null,
            "grid_area": null,
            "grid_template_columns": null,
            "flex": null,
            "_model_name": "LayoutModel",
            "justify_items": null,
            "grid_row": null,
            "max_height": null,
            "align_content": null,
            "visibility": null,
            "align_self": null,
            "height": null,
            "min_height": null,
            "padding": null,
            "grid_auto_rows": null,
            "grid_gap": null,
            "max_width": null,
            "order": null,
            "_view_module_version": "1.2.0",
            "grid_template_areas": null,
            "object_position": null,
            "object_fit": null,
            "grid_auto_columns": null,
            "margin": null,
            "display": null,
            "left": null
          }
        },
        "5134c9cf9ea44f3bae233a2873b7f686": {
          "model_module": "@jupyter-widgets/controls",
          "model_name": "HBoxModel",
          "state": {
            "_view_name": "HBoxView",
            "_dom_classes": [],
            "_model_name": "HBoxModel",
            "_view_module": "@jupyter-widgets/controls",
            "_model_module_version": "1.5.0",
            "_view_count": null,
            "_view_module_version": "1.5.0",
            "box_style": "",
            "layout": "IPY_MODEL_03a9b49e223146e4a593d77f9d9f2a65",
            "_model_module": "@jupyter-widgets/controls",
            "children": [
              "IPY_MODEL_29084874a7ba431ab531f32b603b9e9a",
              "IPY_MODEL_4960d7be107f4ab3b9edd29eeb8a1259"
            ]
          }
        },
        "03a9b49e223146e4a593d77f9d9f2a65": {
          "model_module": "@jupyter-widgets/base",
          "model_name": "LayoutModel",
          "state": {
            "_view_name": "LayoutView",
            "grid_template_rows": null,
            "right": null,
            "justify_content": null,
            "_view_module": "@jupyter-widgets/base",
            "overflow": null,
            "_model_module_version": "1.2.0",
            "_view_count": null,
            "flex_flow": null,
            "width": null,
            "min_width": null,
            "border": null,
            "align_items": null,
            "bottom": null,
            "_model_module": "@jupyter-widgets/base",
            "top": null,
            "grid_column": null,
            "overflow_y": null,
            "overflow_x": null,
            "grid_auto_flow": null,
            "grid_area": null,
            "grid_template_columns": null,
            "flex": null,
            "_model_name": "LayoutModel",
            "justify_items": null,
            "grid_row": null,
            "max_height": null,
            "align_content": null,
            "visibility": null,
            "align_self": null,
            "height": null,
            "min_height": null,
            "padding": null,
            "grid_auto_rows": null,
            "grid_gap": null,
            "max_width": null,
            "order": null,
            "_view_module_version": "1.2.0",
            "grid_template_areas": null,
            "object_position": null,
            "object_fit": null,
            "grid_auto_columns": null,
            "margin": null,
            "display": null,
            "left": null
          }
        },
        "29084874a7ba431ab531f32b603b9e9a": {
          "model_module": "@jupyter-widgets/controls",
          "model_name": "FloatProgressModel",
          "state": {
            "_view_name": "ProgressView",
            "style": "IPY_MODEL_00a61eee80fd422f83869b8624a55a5f",
            "_dom_classes": [],
            "description": "",
            "_model_name": "FloatProgressModel",
            "bar_style": "info",
            "max": 1,
            "_view_module": "@jupyter-widgets/controls",
            "_model_module_version": "1.5.0",
            "value": 1,
            "_view_count": null,
            "_view_module_version": "1.5.0",
            "orientation": "horizontal",
            "min": 0,
            "description_tooltip": null,
            "_model_module": "@jupyter-widgets/controls",
            "layout": "IPY_MODEL_f94753fa65704feb82a0f14d0022fbca"
          }
        },
        "4960d7be107f4ab3b9edd29eeb8a1259": {
          "model_module": "@jupyter-widgets/controls",
          "model_name": "HTMLModel",
          "state": {
            "_view_name": "HTMLView",
            "style": "IPY_MODEL_f8112512d464421fa3906484e68aceb2",
            "_dom_classes": [],
            "description": "",
            "_model_name": "HTMLModel",
            "placeholder": "​",
            "_view_module": "@jupyter-widgets/controls",
            "_model_module_version": "1.5.0",
            "value": " 1193/0 [00:00&lt;00:00, 2460.87 examples/s]",
            "_view_count": null,
            "_view_module_version": "1.5.0",
            "description_tooltip": null,
            "_model_module": "@jupyter-widgets/controls",
            "layout": "IPY_MODEL_2dd5c622367e43fb8d3f490156ecaaab"
          }
        },
        "00a61eee80fd422f83869b8624a55a5f": {
          "model_module": "@jupyter-widgets/controls",
          "model_name": "ProgressStyleModel",
          "state": {
            "_view_name": "StyleView",
            "_model_name": "ProgressStyleModel",
            "description_width": "initial",
            "_view_module": "@jupyter-widgets/base",
            "_model_module_version": "1.5.0",
            "_view_count": null,
            "_view_module_version": "1.2.0",
            "bar_color": null,
            "_model_module": "@jupyter-widgets/controls"
          }
        },
        "f94753fa65704feb82a0f14d0022fbca": {
          "model_module": "@jupyter-widgets/base",
          "model_name": "LayoutModel",
          "state": {
            "_view_name": "LayoutView",
            "grid_template_rows": null,
            "right": null,
            "justify_content": null,
            "_view_module": "@jupyter-widgets/base",
            "overflow": null,
            "_model_module_version": "1.2.0",
            "_view_count": null,
            "flex_flow": null,
            "width": null,
            "min_width": null,
            "border": null,
            "align_items": null,
            "bottom": null,
            "_model_module": "@jupyter-widgets/base",
            "top": null,
            "grid_column": null,
            "overflow_y": null,
            "overflow_x": null,
            "grid_auto_flow": null,
            "grid_area": null,
            "grid_template_columns": null,
            "flex": null,
            "_model_name": "LayoutModel",
            "justify_items": null,
            "grid_row": null,
            "max_height": null,
            "align_content": null,
            "visibility": null,
            "align_self": null,
            "height": null,
            "min_height": null,
            "padding": null,
            "grid_auto_rows": null,
            "grid_gap": null,
            "max_width": null,
            "order": null,
            "_view_module_version": "1.2.0",
            "grid_template_areas": null,
            "object_position": null,
            "object_fit": null,
            "grid_auto_columns": null,
            "margin": null,
            "display": null,
            "left": null
          }
        },
        "f8112512d464421fa3906484e68aceb2": {
          "model_module": "@jupyter-widgets/controls",
          "model_name": "DescriptionStyleModel",
          "state": {
            "_view_name": "StyleView",
            "_model_name": "DescriptionStyleModel",
            "description_width": "",
            "_view_module": "@jupyter-widgets/base",
            "_model_module_version": "1.5.0",
            "_view_count": null,
            "_view_module_version": "1.2.0",
            "_model_module": "@jupyter-widgets/controls"
          }
        },
        "2dd5c622367e43fb8d3f490156ecaaab": {
          "model_module": "@jupyter-widgets/base",
          "model_name": "LayoutModel",
          "state": {
            "_view_name": "LayoutView",
            "grid_template_rows": null,
            "right": null,
            "justify_content": null,
            "_view_module": "@jupyter-widgets/base",
            "overflow": null,
            "_model_module_version": "1.2.0",
            "_view_count": null,
            "flex_flow": null,
            "width": null,
            "min_width": null,
            "border": null,
            "align_items": null,
            "bottom": null,
            "_model_module": "@jupyter-widgets/base",
            "top": null,
            "grid_column": null,
            "overflow_y": null,
            "overflow_x": null,
            "grid_auto_flow": null,
            "grid_area": null,
            "grid_template_columns": null,
            "flex": null,
            "_model_name": "LayoutModel",
            "justify_items": null,
            "grid_row": null,
            "max_height": null,
            "align_content": null,
            "visibility": null,
            "align_self": null,
            "height": null,
            "min_height": null,
            "padding": null,
            "grid_auto_rows": null,
            "grid_gap": null,
            "max_width": null,
            "order": null,
            "_view_module_version": "1.2.0",
            "grid_template_areas": null,
            "object_position": null,
            "object_fit": null,
            "grid_auto_columns": null,
            "margin": null,
            "display": null,
            "left": null
          }
        },
        "8e7f9a5a66234d438ea89cc215fe9f53": {
          "model_module": "@jupyter-widgets/controls",
          "model_name": "HBoxModel",
          "state": {
            "_view_name": "HBoxView",
            "_dom_classes": [],
            "_model_name": "HBoxModel",
            "_view_module": "@jupyter-widgets/controls",
            "_model_module_version": "1.5.0",
            "_view_count": null,
            "_view_module_version": "1.5.0",
            "box_style": "",
            "layout": "IPY_MODEL_bd4919a217ff466c8560c983d47c55b0",
            "_model_module": "@jupyter-widgets/controls",
            "children": [
              "IPY_MODEL_eee50964d53c4376b8fbb38cc30b5e77",
              "IPY_MODEL_16c5e7a12ec0425f9b1195e9d270b84e"
            ]
          }
        },
        "bd4919a217ff466c8560c983d47c55b0": {
          "model_module": "@jupyter-widgets/base",
          "model_name": "LayoutModel",
          "state": {
            "_view_name": "LayoutView",
            "grid_template_rows": null,
            "right": null,
            "justify_content": null,
            "_view_module": "@jupyter-widgets/base",
            "overflow": null,
            "_model_module_version": "1.2.0",
            "_view_count": null,
            "flex_flow": null,
            "width": null,
            "min_width": null,
            "border": null,
            "align_items": null,
            "bottom": null,
            "_model_module": "@jupyter-widgets/base",
            "top": null,
            "grid_column": null,
            "overflow_y": null,
            "overflow_x": null,
            "grid_auto_flow": null,
            "grid_area": null,
            "grid_template_columns": null,
            "flex": null,
            "_model_name": "LayoutModel",
            "justify_items": null,
            "grid_row": null,
            "max_height": null,
            "align_content": null,
            "visibility": null,
            "align_self": null,
            "height": null,
            "min_height": null,
            "padding": null,
            "grid_auto_rows": null,
            "grid_gap": null,
            "max_width": null,
            "order": null,
            "_view_module_version": "1.2.0",
            "grid_template_areas": null,
            "object_position": null,
            "object_fit": null,
            "grid_auto_columns": null,
            "margin": null,
            "display": null,
            "left": null
          }
        },
        "eee50964d53c4376b8fbb38cc30b5e77": {
          "model_module": "@jupyter-widgets/controls",
          "model_name": "FloatProgressModel",
          "state": {
            "_view_name": "ProgressView",
            "style": "IPY_MODEL_87618ca57c004c66b3bb52c54962cf1a",
            "_dom_classes": [],
            "description": "  0%",
            "_model_name": "FloatProgressModel",
            "bar_style": "danger",
            "max": 1193,
            "_view_module": "@jupyter-widgets/controls",
            "_model_module_version": "1.5.0",
            "value": 0,
            "_view_count": null,
            "_view_module_version": "1.5.0",
            "orientation": "horizontal",
            "min": 0,
            "description_tooltip": null,
            "_model_module": "@jupyter-widgets/controls",
            "layout": "IPY_MODEL_cca38d4a386341508032219f1349abd4"
          }
        },
        "16c5e7a12ec0425f9b1195e9d270b84e": {
          "model_module": "@jupyter-widgets/controls",
          "model_name": "HTMLModel",
          "state": {
            "_view_name": "HTMLView",
            "style": "IPY_MODEL_aa4b6fd6defe4e358e0e29ea8da76c71",
            "_dom_classes": [],
            "description": "",
            "_model_name": "HTMLModel",
            "placeholder": "​",
            "_view_module": "@jupyter-widgets/controls",
            "_model_module_version": "1.5.0",
            "value": " 0/1193 [00:00&lt;?, ? examples/s]",
            "_view_count": null,
            "_view_module_version": "1.5.0",
            "description_tooltip": null,
            "_model_module": "@jupyter-widgets/controls",
            "layout": "IPY_MODEL_2f4bb33137b74e5d984b8b7a73fd8d2c"
          }
        },
        "87618ca57c004c66b3bb52c54962cf1a": {
          "model_module": "@jupyter-widgets/controls",
          "model_name": "ProgressStyleModel",
          "state": {
            "_view_name": "StyleView",
            "_model_name": "ProgressStyleModel",
            "description_width": "initial",
            "_view_module": "@jupyter-widgets/base",
            "_model_module_version": "1.5.0",
            "_view_count": null,
            "_view_module_version": "1.2.0",
            "bar_color": null,
            "_model_module": "@jupyter-widgets/controls"
          }
        },
        "cca38d4a386341508032219f1349abd4": {
          "model_module": "@jupyter-widgets/base",
          "model_name": "LayoutModel",
          "state": {
            "_view_name": "LayoutView",
            "grid_template_rows": null,
            "right": null,
            "justify_content": null,
            "_view_module": "@jupyter-widgets/base",
            "overflow": null,
            "_model_module_version": "1.2.0",
            "_view_count": null,
            "flex_flow": null,
            "width": null,
            "min_width": null,
            "border": null,
            "align_items": null,
            "bottom": null,
            "_model_module": "@jupyter-widgets/base",
            "top": null,
            "grid_column": null,
            "overflow_y": null,
            "overflow_x": null,
            "grid_auto_flow": null,
            "grid_area": null,
            "grid_template_columns": null,
            "flex": null,
            "_model_name": "LayoutModel",
            "justify_items": null,
            "grid_row": null,
            "max_height": null,
            "align_content": null,
            "visibility": null,
            "align_self": null,
            "height": null,
            "min_height": null,
            "padding": null,
            "grid_auto_rows": null,
            "grid_gap": null,
            "max_width": null,
            "order": null,
            "_view_module_version": "1.2.0",
            "grid_template_areas": null,
            "object_position": null,
            "object_fit": null,
            "grid_auto_columns": null,
            "margin": null,
            "display": null,
            "left": null
          }
        },
        "aa4b6fd6defe4e358e0e29ea8da76c71": {
          "model_module": "@jupyter-widgets/controls",
          "model_name": "DescriptionStyleModel",
          "state": {
            "_view_name": "StyleView",
            "_model_name": "DescriptionStyleModel",
            "description_width": "",
            "_view_module": "@jupyter-widgets/base",
            "_model_module_version": "1.5.0",
            "_view_count": null,
            "_view_module_version": "1.2.0",
            "_model_module": "@jupyter-widgets/controls"
          }
        },
        "2f4bb33137b74e5d984b8b7a73fd8d2c": {
          "model_module": "@jupyter-widgets/base",
          "model_name": "LayoutModel",
          "state": {
            "_view_name": "LayoutView",
            "grid_template_rows": null,
            "right": null,
            "justify_content": null,
            "_view_module": "@jupyter-widgets/base",
            "overflow": null,
            "_model_module_version": "1.2.0",
            "_view_count": null,
            "flex_flow": null,
            "width": null,
            "min_width": null,
            "border": null,
            "align_items": null,
            "bottom": null,
            "_model_module": "@jupyter-widgets/base",
            "top": null,
            "grid_column": null,
            "overflow_y": null,
            "overflow_x": null,
            "grid_auto_flow": null,
            "grid_area": null,
            "grid_template_columns": null,
            "flex": null,
            "_model_name": "LayoutModel",
            "justify_items": null,
            "grid_row": null,
            "max_height": null,
            "align_content": null,
            "visibility": null,
            "align_self": null,
            "height": null,
            "min_height": null,
            "padding": null,
            "grid_auto_rows": null,
            "grid_gap": null,
            "max_width": null,
            "order": null,
            "_view_module_version": "1.2.0",
            "grid_template_areas": null,
            "object_position": null,
            "object_fit": null,
            "grid_auto_columns": null,
            "margin": null,
            "display": null,
            "left": null
          }
        },
        "6e20e60af8e94b2085f33c26baf48571": {
          "model_module": "@jupyter-widgets/controls",
          "model_name": "HBoxModel",
          "state": {
            "_view_name": "HBoxView",
            "_dom_classes": [],
            "_model_name": "HBoxModel",
            "_view_module": "@jupyter-widgets/controls",
            "_model_module_version": "1.5.0",
            "_view_count": null,
            "_view_module_version": "1.5.0",
            "box_style": "",
            "layout": "IPY_MODEL_9a2d1ff0ddb144f9b952b66f81c9e4ee",
            "_model_module": "@jupyter-widgets/controls",
            "children": [
              "IPY_MODEL_15cf08ac4b984a75a06dee53e6124fbe",
              "IPY_MODEL_e5459852ad0d4dc4933f772ff850fdfb"
            ]
          }
        },
        "9a2d1ff0ddb144f9b952b66f81c9e4ee": {
          "model_module": "@jupyter-widgets/base",
          "model_name": "LayoutModel",
          "state": {
            "_view_name": "LayoutView",
            "grid_template_rows": null,
            "right": null,
            "justify_content": null,
            "_view_module": "@jupyter-widgets/base",
            "overflow": null,
            "_model_module_version": "1.2.0",
            "_view_count": null,
            "flex_flow": null,
            "width": null,
            "min_width": null,
            "border": null,
            "align_items": null,
            "bottom": null,
            "_model_module": "@jupyter-widgets/base",
            "top": null,
            "grid_column": null,
            "overflow_y": null,
            "overflow_x": null,
            "grid_auto_flow": null,
            "grid_area": null,
            "grid_template_columns": null,
            "flex": null,
            "_model_name": "LayoutModel",
            "justify_items": null,
            "grid_row": null,
            "max_height": null,
            "align_content": null,
            "visibility": null,
            "align_self": null,
            "height": null,
            "min_height": null,
            "padding": null,
            "grid_auto_rows": null,
            "grid_gap": null,
            "max_width": null,
            "order": null,
            "_view_module_version": "1.2.0",
            "grid_template_areas": null,
            "object_position": null,
            "object_fit": null,
            "grid_auto_columns": null,
            "margin": null,
            "display": null,
            "left": null
          }
        },
        "15cf08ac4b984a75a06dee53e6124fbe": {
          "model_module": "@jupyter-widgets/controls",
          "model_name": "FloatProgressModel",
          "state": {
            "_view_name": "ProgressView",
            "style": "IPY_MODEL_58a3a8d988084a03b2d44df1bed354bc",
            "_dom_classes": [],
            "description": "",
            "_model_name": "FloatProgressModel",
            "bar_style": "info",
            "max": 1,
            "_view_module": "@jupyter-widgets/controls",
            "_model_module_version": "1.5.0",
            "value": 1,
            "_view_count": null,
            "_view_module_version": "1.5.0",
            "orientation": "horizontal",
            "min": 0,
            "description_tooltip": null,
            "_model_module": "@jupyter-widgets/controls",
            "layout": "IPY_MODEL_dbec83fac59849cdac043be55e8d51ed"
          }
        },
        "e5459852ad0d4dc4933f772ff850fdfb": {
          "model_module": "@jupyter-widgets/controls",
          "model_name": "HTMLModel",
          "state": {
            "_view_name": "HTMLView",
            "style": "IPY_MODEL_7370d10590154505bd49659c72217a3c",
            "_dom_classes": [],
            "description": "",
            "_model_name": "HTMLModel",
            "placeholder": "​",
            "_view_module": "@jupyter-widgets/controls",
            "_model_module_version": "1.5.0",
            "value": " 1803/0 [00:00&lt;00:00, 1441.45 examples/s]",
            "_view_count": null,
            "_view_module_version": "1.5.0",
            "description_tooltip": null,
            "_model_module": "@jupyter-widgets/controls",
            "layout": "IPY_MODEL_644afbdbca6c45afaf5b1aa82e1f5e64"
          }
        },
        "58a3a8d988084a03b2d44df1bed354bc": {
          "model_module": "@jupyter-widgets/controls",
          "model_name": "ProgressStyleModel",
          "state": {
            "_view_name": "StyleView",
            "_model_name": "ProgressStyleModel",
            "description_width": "initial",
            "_view_module": "@jupyter-widgets/base",
            "_model_module_version": "1.5.0",
            "_view_count": null,
            "_view_module_version": "1.2.0",
            "bar_color": null,
            "_model_module": "@jupyter-widgets/controls"
          }
        },
        "dbec83fac59849cdac043be55e8d51ed": {
          "model_module": "@jupyter-widgets/base",
          "model_name": "LayoutModel",
          "state": {
            "_view_name": "LayoutView",
            "grid_template_rows": null,
            "right": null,
            "justify_content": null,
            "_view_module": "@jupyter-widgets/base",
            "overflow": null,
            "_model_module_version": "1.2.0",
            "_view_count": null,
            "flex_flow": null,
            "width": null,
            "min_width": null,
            "border": null,
            "align_items": null,
            "bottom": null,
            "_model_module": "@jupyter-widgets/base",
            "top": null,
            "grid_column": null,
            "overflow_y": null,
            "overflow_x": null,
            "grid_auto_flow": null,
            "grid_area": null,
            "grid_template_columns": null,
            "flex": null,
            "_model_name": "LayoutModel",
            "justify_items": null,
            "grid_row": null,
            "max_height": null,
            "align_content": null,
            "visibility": null,
            "align_self": null,
            "height": null,
            "min_height": null,
            "padding": null,
            "grid_auto_rows": null,
            "grid_gap": null,
            "max_width": null,
            "order": null,
            "_view_module_version": "1.2.0",
            "grid_template_areas": null,
            "object_position": null,
            "object_fit": null,
            "grid_auto_columns": null,
            "margin": null,
            "display": null,
            "left": null
          }
        },
        "7370d10590154505bd49659c72217a3c": {
          "model_module": "@jupyter-widgets/controls",
          "model_name": "DescriptionStyleModel",
          "state": {
            "_view_name": "StyleView",
            "_model_name": "DescriptionStyleModel",
            "description_width": "",
            "_view_module": "@jupyter-widgets/base",
            "_model_module_version": "1.5.0",
            "_view_count": null,
            "_view_module_version": "1.2.0",
            "_model_module": "@jupyter-widgets/controls"
          }
        },
        "644afbdbca6c45afaf5b1aa82e1f5e64": {
          "model_module": "@jupyter-widgets/base",
          "model_name": "LayoutModel",
          "state": {
            "_view_name": "LayoutView",
            "grid_template_rows": null,
            "right": null,
            "justify_content": null,
            "_view_module": "@jupyter-widgets/base",
            "overflow": null,
            "_model_module_version": "1.2.0",
            "_view_count": null,
            "flex_flow": null,
            "width": null,
            "min_width": null,
            "border": null,
            "align_items": null,
            "bottom": null,
            "_model_module": "@jupyter-widgets/base",
            "top": null,
            "grid_column": null,
            "overflow_y": null,
            "overflow_x": null,
            "grid_auto_flow": null,
            "grid_area": null,
            "grid_template_columns": null,
            "flex": null,
            "_model_name": "LayoutModel",
            "justify_items": null,
            "grid_row": null,
            "max_height": null,
            "align_content": null,
            "visibility": null,
            "align_self": null,
            "height": null,
            "min_height": null,
            "padding": null,
            "grid_auto_rows": null,
            "grid_gap": null,
            "max_width": null,
            "order": null,
            "_view_module_version": "1.2.0",
            "grid_template_areas": null,
            "object_position": null,
            "object_fit": null,
            "grid_auto_columns": null,
            "margin": null,
            "display": null,
            "left": null
          }
        },
        "ac1d3175c11f4cc6b5d56267ae752e98": {
          "model_module": "@jupyter-widgets/controls",
          "model_name": "HBoxModel",
          "state": {
            "_view_name": "HBoxView",
            "_dom_classes": [],
            "_model_name": "HBoxModel",
            "_view_module": "@jupyter-widgets/controls",
            "_model_module_version": "1.5.0",
            "_view_count": null,
            "_view_module_version": "1.5.0",
            "box_style": "",
            "layout": "IPY_MODEL_ee55615d87074576b040abef94b546b1",
            "_model_module": "@jupyter-widgets/controls",
            "children": [
              "IPY_MODEL_f39d6ceb55c142d4910182a195ed0c55",
              "IPY_MODEL_a92b0395ff42484f8854ec67b4e407bf"
            ]
          }
        },
        "ee55615d87074576b040abef94b546b1": {
          "model_module": "@jupyter-widgets/base",
          "model_name": "LayoutModel",
          "state": {
            "_view_name": "LayoutView",
            "grid_template_rows": null,
            "right": null,
            "justify_content": null,
            "_view_module": "@jupyter-widgets/base",
            "overflow": null,
            "_model_module_version": "1.2.0",
            "_view_count": null,
            "flex_flow": null,
            "width": null,
            "min_width": null,
            "border": null,
            "align_items": null,
            "bottom": null,
            "_model_module": "@jupyter-widgets/base",
            "top": null,
            "grid_column": null,
            "overflow_y": null,
            "overflow_x": null,
            "grid_auto_flow": null,
            "grid_area": null,
            "grid_template_columns": null,
            "flex": null,
            "_model_name": "LayoutModel",
            "justify_items": null,
            "grid_row": null,
            "max_height": null,
            "align_content": null,
            "visibility": null,
            "align_self": null,
            "height": null,
            "min_height": null,
            "padding": null,
            "grid_auto_rows": null,
            "grid_gap": null,
            "max_width": null,
            "order": null,
            "_view_module_version": "1.2.0",
            "grid_template_areas": null,
            "object_position": null,
            "object_fit": null,
            "grid_auto_columns": null,
            "margin": null,
            "display": null,
            "left": null
          }
        },
        "f39d6ceb55c142d4910182a195ed0c55": {
          "model_module": "@jupyter-widgets/controls",
          "model_name": "FloatProgressModel",
          "state": {
            "_view_name": "ProgressView",
            "style": "IPY_MODEL_9e4350be8b53464f86c35a6fd5ba9c00",
            "_dom_classes": [],
            "description": "  0%",
            "_model_name": "FloatProgressModel",
            "bar_style": "danger",
            "max": 1803,
            "_view_module": "@jupyter-widgets/controls",
            "_model_module_version": "1.5.0",
            "value": 0,
            "_view_count": null,
            "_view_module_version": "1.5.0",
            "orientation": "horizontal",
            "min": 0,
            "description_tooltip": null,
            "_model_module": "@jupyter-widgets/controls",
            "layout": "IPY_MODEL_316f9cdc41c641468b64ca4fe0b60db9"
          }
        },
        "a92b0395ff42484f8854ec67b4e407bf": {
          "model_module": "@jupyter-widgets/controls",
          "model_name": "HTMLModel",
          "state": {
            "_view_name": "HTMLView",
            "style": "IPY_MODEL_3c7c38b8a80845a996e888cc56381cfe",
            "_dom_classes": [],
            "description": "",
            "_model_name": "HTMLModel",
            "placeholder": "​",
            "_view_module": "@jupyter-widgets/controls",
            "_model_module_version": "1.5.0",
            "value": " 0/1803 [00:00&lt;?, ? examples/s]",
            "_view_count": null,
            "_view_module_version": "1.5.0",
            "description_tooltip": null,
            "_model_module": "@jupyter-widgets/controls",
            "layout": "IPY_MODEL_052c5642c64b44479841179b68f73eb4"
          }
        },
        "9e4350be8b53464f86c35a6fd5ba9c00": {
          "model_module": "@jupyter-widgets/controls",
          "model_name": "ProgressStyleModel",
          "state": {
            "_view_name": "StyleView",
            "_model_name": "ProgressStyleModel",
            "description_width": "initial",
            "_view_module": "@jupyter-widgets/base",
            "_model_module_version": "1.5.0",
            "_view_count": null,
            "_view_module_version": "1.2.0",
            "bar_color": null,
            "_model_module": "@jupyter-widgets/controls"
          }
        },
        "316f9cdc41c641468b64ca4fe0b60db9": {
          "model_module": "@jupyter-widgets/base",
          "model_name": "LayoutModel",
          "state": {
            "_view_name": "LayoutView",
            "grid_template_rows": null,
            "right": null,
            "justify_content": null,
            "_view_module": "@jupyter-widgets/base",
            "overflow": null,
            "_model_module_version": "1.2.0",
            "_view_count": null,
            "flex_flow": null,
            "width": null,
            "min_width": null,
            "border": null,
            "align_items": null,
            "bottom": null,
            "_model_module": "@jupyter-widgets/base",
            "top": null,
            "grid_column": null,
            "overflow_y": null,
            "overflow_x": null,
            "grid_auto_flow": null,
            "grid_area": null,
            "grid_template_columns": null,
            "flex": null,
            "_model_name": "LayoutModel",
            "justify_items": null,
            "grid_row": null,
            "max_height": null,
            "align_content": null,
            "visibility": null,
            "align_self": null,
            "height": null,
            "min_height": null,
            "padding": null,
            "grid_auto_rows": null,
            "grid_gap": null,
            "max_width": null,
            "order": null,
            "_view_module_version": "1.2.0",
            "grid_template_areas": null,
            "object_position": null,
            "object_fit": null,
            "grid_auto_columns": null,
            "margin": null,
            "display": null,
            "left": null
          }
        },
        "3c7c38b8a80845a996e888cc56381cfe": {
          "model_module": "@jupyter-widgets/controls",
          "model_name": "DescriptionStyleModel",
          "state": {
            "_view_name": "StyleView",
            "_model_name": "DescriptionStyleModel",
            "description_width": "",
            "_view_module": "@jupyter-widgets/base",
            "_model_module_version": "1.5.0",
            "_view_count": null,
            "_view_module_version": "1.2.0",
            "_model_module": "@jupyter-widgets/controls"
          }
        },
        "052c5642c64b44479841179b68f73eb4": {
          "model_module": "@jupyter-widgets/base",
          "model_name": "LayoutModel",
          "state": {
            "_view_name": "LayoutView",
            "grid_template_rows": null,
            "right": null,
            "justify_content": null,
            "_view_module": "@jupyter-widgets/base",
            "overflow": null,
            "_model_module_version": "1.2.0",
            "_view_count": null,
            "flex_flow": null,
            "width": null,
            "min_width": null,
            "border": null,
            "align_items": null,
            "bottom": null,
            "_model_module": "@jupyter-widgets/base",
            "top": null,
            "grid_column": null,
            "overflow_y": null,
            "overflow_x": null,
            "grid_auto_flow": null,
            "grid_area": null,
            "grid_template_columns": null,
            "flex": null,
            "_model_name": "LayoutModel",
            "justify_items": null,
            "grid_row": null,
            "max_height": null,
            "align_content": null,
            "visibility": null,
            "align_self": null,
            "height": null,
            "min_height": null,
            "padding": null,
            "grid_auto_rows": null,
            "grid_gap": null,
            "max_width": null,
            "order": null,
            "_view_module_version": "1.2.0",
            "grid_template_areas": null,
            "object_position": null,
            "object_fit": null,
            "grid_auto_columns": null,
            "margin": null,
            "display": null,
            "left": null
          }
        }
      }
    }
  },
  "cells": [
    {
      "cell_type": "markdown",
      "metadata": {
        "id": "kJnorD-LDscA"
      },
      "source": [
        "#### Concept of attention in Transformers\r\n",
        "Transformers have self-attention mechanism which is the ability to attend to & relate multiple positions in a single sequence  & compute a representation of that sequence.Transformers have stacked self-attention layers.\r\n",
        "\r\n",
        "Advantages - \r\n",
        "\r\n",
        "1. It makes no assumptions about spatial/temporal relationships among words in a sequence.\r\n",
        "2. Layer outputs can be computed in parallel instead of series like RNN/CNN.\r\n",
        "3. Distant words in a sequence can be related and affect each other's output without passing through RNN steps or convolutional layers.\r\n",
        "4. Allows capturing long term dependencies among words in an input sequence which is a challenge in sequence tasks.\r\n",
        "\r\n",
        "Limitations - \r\n",
        "1. Since it treats input eg.words in input sequence as independent, external means such as positional encodings to capture relative positions of words in sequence / order is required to be incorporated in the output embeddings.\r\n",
        "2. For a time series, the output is calculated from the entire history instead of only the inputs and current hidden state.\r\n",
        "\r\n"
      ]
    },
    {
      "cell_type": "code",
      "metadata": {
        "id": "CKUx27KrIauA"
      },
      "source": [
        "import tensorflow as tf\r\n",
        "import tensorflow_datasets as tfds\r\n",
        "import numpy as np\r\n",
        "import matplotlib.pyplot as plt"
      ],
      "execution_count": 1,
      "outputs": []
    },
    {
      "cell_type": "markdown",
      "metadata": {
        "id": "Krsm-p8KQctS"
      },
      "source": [
        "### Setting up input pipeline"
      ]
    },
    {
      "cell_type": "code",
      "metadata": {
        "id": "X9C5ZNRWI0Za",
        "colab": {
          "base_uri": "https://localhost:8080/",
          "height": 447,
          "referenced_widgets": [
            "646c642f2584452fbbdcbc505c43b037",
            "d6188ef69b2040fbbac52bdb07a9ff94",
            "491169be159d4059a02f8878653f99a0",
            "4ec51e11851442d7b9531efaec23a065",
            "b2726c49d30c442bb67f598e815d67af",
            "9e205ce4422c4444829a6d25d1070efb",
            "75bd9251c8fc419bb5aeaff59c20e2e1",
            "0be89bb1ff9a4001929ebd45efd8bc52",
            "83ccc132e3b34e79ad042623e16fdf96",
            "ea12de29b64848c584f9caf1d900240d",
            "cd95602868044fa6a92c14d1d479d858",
            "10c0d44b584f42979eaacd2c330b1632",
            "9af3155125f8473ebc0aa935499e73f2",
            "8f68b2eeca2e45958123a1012f07664b",
            "d2257bf058924f3c85f9b035e0a628a1",
            "1aa99d206a294424b7666c75a2968f7f",
            "fd675bcfb2ae494da7b9318e712b60cc",
            "5cff29685607468cac9371544d6ed77b",
            "178e4eb7e8d84d18b2c71fc1ea207291",
            "4e8579a0fff14dabbe4e48db75069391",
            "c8ed225b7e23469991727165f0effcaf",
            "fa5ac1b989e14b46a4272427d9b6a480",
            "8be917a2d95240859167e2a651429407",
            "e5913c35812842d996d06c71827527ed",
            "d6bd676afdd5414688dfc707ba5188fa",
            "60402361c42d49ca8fa771d357d59156",
            "e6fe0dbae3f24c3991fcb164e285163b",
            "92fcf899586246f3b52a7a35777dcdae",
            "00ea4ede61b14f0abe4bd528cdd7b7a6",
            "49a3048cd17d4cc5ac14c34e54ef6e9e",
            "ec6921b31a6b4a4580777f47d6f6922a",
            "9c8684eb6d3c4c54ae92184b1c2a6f96",
            "1a30b684086048c3a53ab2a96359754b",
            "f7b0ace6c76940dc85e0898e3c58f461",
            "70c54d0518c94dbfb9028dd88a77ac2a",
            "2d6c3f84af1146fa9d48988f6e213ad2",
            "c098a0ff9de5474c9f04512d2e7ffe57",
            "f59ffff042fb4f6ca12fd717ed4667a6",
            "89935314cdb94ba28b7c2c49005c8ff8",
            "126d0f59f73f47a39beb8a292f3a2dc7",
            "5134c9cf9ea44f3bae233a2873b7f686",
            "03a9b49e223146e4a593d77f9d9f2a65",
            "29084874a7ba431ab531f32b603b9e9a",
            "4960d7be107f4ab3b9edd29eeb8a1259",
            "00a61eee80fd422f83869b8624a55a5f",
            "f94753fa65704feb82a0f14d0022fbca",
            "f8112512d464421fa3906484e68aceb2",
            "2dd5c622367e43fb8d3f490156ecaaab",
            "8e7f9a5a66234d438ea89cc215fe9f53",
            "bd4919a217ff466c8560c983d47c55b0",
            "eee50964d53c4376b8fbb38cc30b5e77",
            "16c5e7a12ec0425f9b1195e9d270b84e",
            "87618ca57c004c66b3bb52c54962cf1a",
            "cca38d4a386341508032219f1349abd4",
            "aa4b6fd6defe4e358e0e29ea8da76c71",
            "2f4bb33137b74e5d984b8b7a73fd8d2c",
            "6e20e60af8e94b2085f33c26baf48571",
            "9a2d1ff0ddb144f9b952b66f81c9e4ee",
            "15cf08ac4b984a75a06dee53e6124fbe",
            "e5459852ad0d4dc4933f772ff850fdfb",
            "58a3a8d988084a03b2d44df1bed354bc",
            "dbec83fac59849cdac043be55e8d51ed",
            "7370d10590154505bd49659c72217a3c",
            "644afbdbca6c45afaf5b1aa82e1f5e64",
            "ac1d3175c11f4cc6b5d56267ae752e98",
            "ee55615d87074576b040abef94b546b1",
            "f39d6ceb55c142d4910182a195ed0c55",
            "a92b0395ff42484f8854ec67b4e407bf",
            "9e4350be8b53464f86c35a6fd5ba9c00",
            "316f9cdc41c641468b64ca4fe0b60db9",
            "3c7c38b8a80845a996e888cc56381cfe",
            "052c5642c64b44479841179b68f73eb4"
          ]
        },
        "outputId": "465f9887-94be-46ab-8534-e7caf568ce5a"
      },
      "source": [
        "%time examples, metadata = tfds.load('ted_hrlr_translate/pt_to_en', with_info=True, as_supervised=True)"
      ],
      "execution_count": 2,
      "outputs": [
        {
          "output_type": "stream",
          "text": [
            "\u001b[1mDownloading and preparing dataset ted_hrlr_translate/pt_to_en/1.0.0 (download: 124.94 MiB, generated: Unknown size, total: 124.94 MiB) to /root/tensorflow_datasets/ted_hrlr_translate/pt_to_en/1.0.0...\u001b[0m\n"
          ],
          "name": "stdout"
        },
        {
          "output_type": "display_data",
          "data": {
            "application/vnd.jupyter.widget-view+json": {
              "model_id": "646c642f2584452fbbdcbc505c43b037",
              "version_minor": 0,
              "version_major": 2
            },
            "text/plain": [
              "HBox(children=(FloatProgress(value=1.0, bar_style='info', description='Dl Completed...', max=1.0, style=Progre…"
            ]
          },
          "metadata": {
            "tags": []
          }
        },
        {
          "output_type": "display_data",
          "data": {
            "application/vnd.jupyter.widget-view+json": {
              "model_id": "83ccc132e3b34e79ad042623e16fdf96",
              "version_minor": 0,
              "version_major": 2
            },
            "text/plain": [
              "HBox(children=(FloatProgress(value=1.0, bar_style='info', description='Dl Size...', max=1.0, style=ProgressSty…"
            ]
          },
          "metadata": {
            "tags": []
          }
        },
        {
          "output_type": "display_data",
          "data": {
            "application/vnd.jupyter.widget-view+json": {
              "model_id": "fd675bcfb2ae494da7b9318e712b60cc",
              "version_minor": 0,
              "version_major": 2
            },
            "text/plain": [
              "HBox(children=(FloatProgress(value=1.0, bar_style='info', description='Extraction completed...', max=1.0, styl…"
            ]
          },
          "metadata": {
            "tags": []
          }
        },
        {
          "output_type": "stream",
          "text": [
            "\n",
            "\n",
            "\n",
            "\n",
            "\n",
            "\n"
          ],
          "name": "stdout"
        },
        {
          "output_type": "display_data",
          "data": {
            "application/vnd.jupyter.widget-view+json": {
              "model_id": "d6bd676afdd5414688dfc707ba5188fa",
              "version_minor": 0,
              "version_major": 2
            },
            "text/plain": [
              "HBox(children=(FloatProgress(value=1.0, bar_style='info', max=1.0), HTML(value='')))"
            ]
          },
          "metadata": {
            "tags": []
          }
        },
        {
          "output_type": "stream",
          "text": [
            "\rShuffling and writing examples to /root/tensorflow_datasets/ted_hrlr_translate/pt_to_en/1.0.0.incompleteHOV7F6/ted_hrlr_translate-train.tfrecord\n"
          ],
          "name": "stdout"
        },
        {
          "output_type": "display_data",
          "data": {
            "application/vnd.jupyter.widget-view+json": {
              "model_id": "1a30b684086048c3a53ab2a96359754b",
              "version_minor": 0,
              "version_major": 2
            },
            "text/plain": [
              "HBox(children=(FloatProgress(value=0.0, max=51785.0), HTML(value='')))"
            ]
          },
          "metadata": {
            "tags": []
          }
        },
        {
          "output_type": "stream",
          "text": [
            "\r"
          ],
          "name": "stdout"
        },
        {
          "output_type": "display_data",
          "data": {
            "application/vnd.jupyter.widget-view+json": {
              "model_id": "5134c9cf9ea44f3bae233a2873b7f686",
              "version_minor": 0,
              "version_major": 2
            },
            "text/plain": [
              "HBox(children=(FloatProgress(value=1.0, bar_style='info', max=1.0), HTML(value='')))"
            ]
          },
          "metadata": {
            "tags": []
          }
        },
        {
          "output_type": "stream",
          "text": [
            "\rShuffling and writing examples to /root/tensorflow_datasets/ted_hrlr_translate/pt_to_en/1.0.0.incompleteHOV7F6/ted_hrlr_translate-validation.tfrecord\n"
          ],
          "name": "stdout"
        },
        {
          "output_type": "display_data",
          "data": {
            "application/vnd.jupyter.widget-view+json": {
              "model_id": "8e7f9a5a66234d438ea89cc215fe9f53",
              "version_minor": 0,
              "version_major": 2
            },
            "text/plain": [
              "HBox(children=(FloatProgress(value=0.0, max=1193.0), HTML(value='')))"
            ]
          },
          "metadata": {
            "tags": []
          }
        },
        {
          "output_type": "stream",
          "text": [
            "\r"
          ],
          "name": "stdout"
        },
        {
          "output_type": "display_data",
          "data": {
            "application/vnd.jupyter.widget-view+json": {
              "model_id": "6e20e60af8e94b2085f33c26baf48571",
              "version_minor": 0,
              "version_major": 2
            },
            "text/plain": [
              "HBox(children=(FloatProgress(value=1.0, bar_style='info', max=1.0), HTML(value='')))"
            ]
          },
          "metadata": {
            "tags": []
          }
        },
        {
          "output_type": "stream",
          "text": [
            "\rShuffling and writing examples to /root/tensorflow_datasets/ted_hrlr_translate/pt_to_en/1.0.0.incompleteHOV7F6/ted_hrlr_translate-test.tfrecord\n"
          ],
          "name": "stdout"
        },
        {
          "output_type": "display_data",
          "data": {
            "application/vnd.jupyter.widget-view+json": {
              "model_id": "ac1d3175c11f4cc6b5d56267ae752e98",
              "version_minor": 0,
              "version_major": 2
            },
            "text/plain": [
              "HBox(children=(FloatProgress(value=0.0, max=1803.0), HTML(value='')))"
            ]
          },
          "metadata": {
            "tags": []
          }
        },
        {
          "output_type": "stream",
          "text": [
            "\u001b[1mDataset ted_hrlr_translate downloaded and prepared to /root/tensorflow_datasets/ted_hrlr_translate/pt_to_en/1.0.0. Subsequent calls will reuse this data.\u001b[0m\n",
            "\rCPU times: user 15.4 s, sys: 1.37 s, total: 16.8 s\n",
            "Wall time: 27.9 s\n"
          ],
          "name": "stdout"
        }
      ]
    },
    {
      "cell_type": "code",
      "metadata": {
        "colab": {
          "base_uri": "https://localhost:8080/"
        },
        "id": "Sk2wKW2NKHrb",
        "outputId": "1d7055a0-5d84-4c75-a070-903a17607bc1"
      },
      "source": [
        "examples"
      ],
      "execution_count": 3,
      "outputs": [
        {
          "output_type": "execute_result",
          "data": {
            "text/plain": [
              "{'test': <PrefetchDataset shapes: ((), ()), types: (tf.string, tf.string)>,\n",
              " 'train': <PrefetchDataset shapes: ((), ()), types: (tf.string, tf.string)>,\n",
              " 'validation': <PrefetchDataset shapes: ((), ()), types: (tf.string, tf.string)>}"
            ]
          },
          "metadata": {
            "tags": []
          },
          "execution_count": 3
        }
      ]
    },
    {
      "cell_type": "code",
      "metadata": {
        "colab": {
          "base_uri": "https://localhost:8080/"
        },
        "id": "hCwzELupKRsI",
        "outputId": "14c6fdaf-7ce1-4f46-8bd1-28e574aa9b9c"
      },
      "source": [
        "type(examples), type(examples['test'])"
      ],
      "execution_count": 4,
      "outputs": [
        {
          "output_type": "execute_result",
          "data": {
            "text/plain": [
              "(dict, tensorflow.python.data.ops.dataset_ops.PrefetchDataset)"
            ]
          },
          "metadata": {
            "tags": []
          },
          "execution_count": 4
        }
      ]
    },
    {
      "cell_type": "code",
      "metadata": {
        "colab": {
          "base_uri": "https://localhost:8080/"
        },
        "id": "V3nvlpJGKWA3",
        "outputId": "23abe676-83ec-4e7a-bc63-1f276e5c84bb"
      },
      "source": [
        "metadata"
      ],
      "execution_count": 5,
      "outputs": [
        {
          "output_type": "execute_result",
          "data": {
            "text/plain": [
              "tfds.core.DatasetInfo(\n",
              "    name='ted_hrlr_translate',\n",
              "    version=1.0.0,\n",
              "    description='Data sets derived from TED talk transcripts for comparing similar language pairs\n",
              "where one is high resource and the other is low resource.',\n",
              "    homepage='https://github.com/neulab/word-embeddings-for-nmt',\n",
              "    features=Translation({\n",
              "        'en': Text(shape=(), dtype=tf.string),\n",
              "        'pt': Text(shape=(), dtype=tf.string),\n",
              "    }),\n",
              "    total_num_examples=54781,\n",
              "    splits={\n",
              "        'test': 1803,\n",
              "        'train': 51785,\n",
              "        'validation': 1193,\n",
              "    },\n",
              "    supervised_keys=('pt', 'en'),\n",
              "    citation=\"\"\"@inproceedings{Ye2018WordEmbeddings,\n",
              "      author  = {Ye, Qi and Devendra, Sachan and Matthieu, Felix and Sarguna, Padmanabhan and Graham, Neubig},\n",
              "      title   = {When and Why are pre-trained word embeddings useful for Neural Machine Translation},\n",
              "      booktitle = {HLT-NAACL},\n",
              "      year    = {2018},\n",
              "      }\"\"\",\n",
              "    redistribution_info=,\n",
              ")"
            ]
          },
          "metadata": {
            "tags": []
          },
          "execution_count": 5
        }
      ]
    },
    {
      "cell_type": "code",
      "metadata": {
        "id": "RjFsMd1BKcnq"
      },
      "source": [
        "train_examples, validation_examples = examples['train'], examples['validation']"
      ],
      "execution_count": 6,
      "outputs": []
    },
    {
      "cell_type": "markdown",
      "metadata": {
        "id": "Tg556kPlSJoR"
      },
      "source": [
        "Create custom subwords tokenizer from training dataset using byte-encodings for out of vocabulary tokens"
      ]
    },
    {
      "cell_type": "code",
      "metadata": {
        "colab": {
          "base_uri": "https://localhost:8080/"
        },
        "id": "IAOD3OBRFtOS",
        "outputId": "336a4e7c-6a3a-43e9-d8f4-f814042aa9f6"
      },
      "source": [
        "for lang1, lang2 in train_examples:\r\n",
        "  print(lang1)\r\n",
        "  print(lang2)\r\n",
        "  break"
      ],
      "execution_count": 7,
      "outputs": [
        {
          "output_type": "stream",
          "text": [
            "tf.Tensor(b'e quando melhoramos a procura , tiramos a \\xc3\\xbanica vantagem da impress\\xc3\\xa3o , que \\xc3\\xa9 a serendipidade .', shape=(), dtype=string)\n",
            "tf.Tensor(b'and when you improve searchability , you actually take away the one advantage of print , which is serendipity .', shape=(), dtype=string)\n"
          ],
          "name": "stdout"
        }
      ]
    },
    {
      "cell_type": "code",
      "metadata": {
        "id": "47dXphBrQugp",
        "colab": {
          "base_uri": "https://localhost:8080/"
        },
        "outputId": "73c49123-7f0f-49da-f758-b3c9ff2ea022"
      },
      "source": [
        "%time en_tokenizer = tfds.deprecated.text.SubwordTextEncoder.build_from_corpus((en.numpy() for pt, en in train_examples), target_vocab_size=2**13)\r\n",
        "\r\n",
        "%time pt_tokenizer = tfds.deprecated.text.SubwordTextEncoder.build_from_corpus((pt.numpy() for pt, en in train_examples), target_vocab_size=2**13)"
      ],
      "execution_count": 8,
      "outputs": [
        {
          "output_type": "stream",
          "text": [
            "CPU times: user 1min 16s, sys: 2.76 s, total: 1min 19s\n",
            "Wall time: 1min 8s\n",
            "CPU times: user 1min 40s, sys: 2.92 s, total: 1min 43s\n",
            "Wall time: 1min 33s\n"
          ],
          "name": "stdout"
        }
      ]
    },
    {
      "cell_type": "code",
      "metadata": {
        "colab": {
          "base_uri": "https://localhost:8080/"
        },
        "id": "uOrRxrvO-xbW",
        "outputId": "417f0f59-4a69-48df-f11f-88b233966796"
      },
      "source": [
        "len(en_tokenizer.subwords)"
      ],
      "execution_count": 9,
      "outputs": [
        {
          "output_type": "execute_result",
          "data": {
            "text/plain": [
              "7830"
            ]
          },
          "metadata": {
            "tags": []
          },
          "execution_count": 9
        }
      ]
    },
    {
      "cell_type": "code",
      "metadata": {
        "colab": {
          "base_uri": "https://localhost:8080/"
        },
        "id": "lQrfUS43-4I7",
        "outputId": "ad80657e-f0b4-40ed-a454-960fb6dffd93"
      },
      "source": [
        "en_tokenizer.vocab_size"
      ],
      "execution_count": 10,
      "outputs": [
        {
          "output_type": "execute_result",
          "data": {
            "text/plain": [
              "8087"
            ]
          },
          "metadata": {
            "tags": []
          },
          "execution_count": 10
        }
      ]
    },
    {
      "cell_type": "markdown",
      "metadata": {
        "id": "5fznSHhLDmYw"
      },
      "source": [
        "Add start & end token to the source and target language data"
      ]
    },
    {
      "cell_type": "code",
      "metadata": {
        "id": "smzS2WJI_ioX"
      },
      "source": [
        "BUFFER_SIZE = 20000\r\n",
        "BATCH_SIZE = 64\r\n",
        "MAX_LENGTH = 40"
      ],
      "execution_count": 11,
      "outputs": []
    },
    {
      "cell_type": "code",
      "metadata": {
        "id": "dp4rsPF8DrwY"
      },
      "source": [
        "def encode(lang1, lang2):\r\n",
        "  lang1 = [pt_tokenizer.vocab_size] + pt_tokenizer.encode(lang1.numpy()) + [pt_tokenizer.vocab_size+1]\r\n",
        "  lang2 = [en_tokenizer.vocab_size] + en_tokenizer.encode(lang2.numpy()) + [en_tokenizer.vocab_size+1]\r\n",
        "  return lang1, lang2\r\n",
        "\r\n",
        "# Use py_function to wrap the above function within and apply it over all elements in the dataset\r\n",
        "\r\n",
        "def tf_encode(pt, en):\r\n",
        "  # Wrapping the encode python function into a TensorFlow op\r\n",
        "  result_pt, result_en = tf.py_function(encode, [pt, en], [tf.int64, tf.int64], 'encode')      # function to be wrapped, \r\n",
        "  result_pt.set_shape([None])         # Perform shape assertion. Passing none indicates the size of dataset can be any value i.e any value of batch size\r\n",
        "  result_en.set_shape([None])\r\n",
        "  return result_pt, result_en\r\n",
        "\r\n",
        "def filter_max_length(x, y, max_length=MAX_LENGTH):\r\n",
        "  return tf.logical_and(tf.size(x) <= MAX_LENGTH,\r\n",
        "                        tf.size(y) <= MAX_LENGTH)\r\n"
      ],
      "execution_count": 12,
      "outputs": []
    },
    {
      "cell_type": "code",
      "metadata": {
        "id": "3P6saYuBEUdN"
      },
      "source": [
        "train_dataset = train_examples.map(tf_encode)\r\n",
        "train_dataset = train_dataset.filter(filter_max_length)"
      ],
      "execution_count": 13,
      "outputs": []
    },
    {
      "cell_type": "code",
      "metadata": {
        "colab": {
          "base_uri": "https://localhost:8080/"
        },
        "id": "Ee8uOrqqMhb4",
        "outputId": "5f2b293f-fe95-4458-8247-4a317a6298e1"
      },
      "source": [
        "i = 0\r\n",
        "for lang1, lang2 in train_dataset:\r\n",
        "  print(lang1)\r\n",
        "  print(lang2)\r\n",
        "  i += 1\r\n",
        "  if i > 3:\r\n",
        "    break"
      ],
      "execution_count": 14,
      "outputs": [
        {
          "output_type": "stream",
          "text": [
            "tf.Tensor(\n",
            "[8214    6   40 4092   57    3 1687    1 6155   12    3  461 6770   19\n",
            " 5227 1088   97    1    5    8    3 4213 3408 7256 1670    2 8215], shape=(27,), dtype=int64)\n",
            "tf.Tensor(\n",
            "[8087    4   59   15 1792 6561 3060 7952    1   15  103  134  378    3\n",
            "   47 6122    6 5311    1   91   13 1849  559 1609  894    2 8088], shape=(27,), dtype=int64)\n",
            "tf.Tensor([8214   25    6   16  138 7800 2004 2445 8073   29 8215], shape=(11,), dtype=int64)\n",
            "tf.Tensor([8087   23   29   44   17   72 4332   33 8088], shape=(9,), dtype=int64)\n",
            "tf.Tensor([8214   25   66   13  342    3 5278 7990    4   38 3625 8072    2 8215], shape=(14,), dtype=int64)\n",
            "tf.Tensor([8087   23   25   98 7941 7870   26  916   21 4287    2 8088], shape=(12,), dtype=int64)\n",
            "tf.Tensor(\n",
            "[8214    6   54 3906 2682  156 2646 7990    8    3  496  139  216  354\n",
            "    1   21 1712  243 4206    1  375  130   75 1960    2 8215], shape=(26,), dtype=int64)\n",
            "tf.Tensor(\n",
            "[8087    4   16 5443 3367 2054   13  154 7936    1   37   45 2734 5915\n",
            " 1510    1   31  211   24 3906    2 8088], shape=(22,), dtype=int64)\n"
          ],
          "name": "stdout"
        }
      ]
    },
    {
      "cell_type": "markdown",
      "metadata": {
        "id": "V-kDN0_vHeMV"
      },
      "source": [
        "Cache the dataset in memory to get speedup while reading from it"
      ]
    },
    {
      "cell_type": "code",
      "metadata": {
        "id": "09txT0bhHIAL"
      },
      "source": [
        "train_dataset.cache()\r\n",
        "train_dataset.shuffle(BUFFER_SIZE).padded_batch(BATCH_SIZE)        # Use padded batch when batching a dataset with variable shape\r\n",
        "\r\n",
        "# Fetch the input data before it is requested for preprocessing. Decouples fetching & consumption\r\n",
        "train_dataset = train_dataset.prefetch(tf.data.experimental.AUTOTUNE)          "
      ],
      "execution_count": 15,
      "outputs": []
    },
    {
      "cell_type": "code",
      "metadata": {
        "colab": {
          "base_uri": "https://localhost:8080/"
        },
        "id": "CIKjGU4WIMJv",
        "outputId": "2b4ae5b5-4163-4a4c-e538-8e426678efe7"
      },
      "source": [
        "type(train_dataset.shuffle(BUFFER_SIZE))"
      ],
      "execution_count": 16,
      "outputs": [
        {
          "output_type": "execute_result",
          "data": {
            "text/plain": [
              "tensorflow.python.data.ops.dataset_ops.ShuffleDataset"
            ]
          },
          "metadata": {
            "tags": []
          },
          "execution_count": 16
        }
      ]
    },
    {
      "cell_type": "code",
      "metadata": {
        "id": "udV7U3y5IM3Z"
      },
      "source": [
        "val_dataset = validation_examples.map(tf_encode)\r\n",
        "val_dataset = val_dataset.filter(filter_max_length).padded_batch(BATCH_SIZE)"
      ],
      "execution_count": 17,
      "outputs": []
    },
    {
      "cell_type": "code",
      "metadata": {
        "id": "fkBNaHYhKfG9"
      },
      "source": [
        "num_positions = 50\r\n",
        "depth = 512\r\n",
        "min_rate = 1/10000"
      ],
      "execution_count": 18,
      "outputs": []
    },
    {
      "cell_type": "markdown",
      "metadata": {
        "id": "ewVGKv3XbacP"
      },
      "source": [
        "#### Positional encoding\r\n",
        "\r\n",
        "This encoding is a vector of sines and cosines at each position, where each sine-cosine pair rotates at a different frequency.\r\n",
        "The angle rates range from 1 [rads/step] to min_rate [rads/step] over the vector depth.\r\n",
        "The resulting exponent goes from 0 to 1, causing the angle_rates to drop exponentially from 1 to min_rate.\r\n",
        "Broadcasting a multiply over angle rates and positions gives a map of the position encoding angles as a function of depth.\r\n",
        "Raw angles are not a good model input (they're either unbounded, or discontinuous). So take the sine and cosine:"
      ]
    },
    {
      "cell_type": "code",
      "metadata": {
        "id": "r6xaYUNZcEqX"
      },
      "source": [
        "def get_angles(pos, i, d_model):\r\n",
        "  angle_rates = 1 / np.power(10000, (2 * (i//2)) / np.float32(d_model))\r\n",
        "  return pos * angle_rates\r\n",
        "\r\n",
        "def positional_encoding(position, d_model):\r\n",
        "  angle_rads = get_angles(np.arange(position)[:, np.newaxis],\r\n",
        "                          np.arange(d_model)[np.newaxis, :],\r\n",
        "                          d_model)\r\n",
        "\r\n",
        "  # apply sine to even indices in the array; 2i\r\n",
        "  angle_rads[:, 0::2] = np.sin(angle_rads[:, 0::2])\r\n",
        "\r\n",
        "  # apply cosine to odd indices in the array; 2i+1\r\n",
        "  angle_rads[:, 1::2] = np.cos(angle_rads[:, 1::2])\r\n",
        "\r\n",
        "  pos_encoding = angle_rads[np.newaxis, ...]\r\n",
        "\r\n",
        "  return tf.cast(pos_encoding, dtype=tf.float32)"
      ],
      "execution_count": 19,
      "outputs": []
    },
    {
      "cell_type": "code",
      "metadata": {
        "colab": {
          "base_uri": "https://localhost:8080/",
          "height": 300
        },
        "id": "E26jRR0nYs6D",
        "outputId": "12792497-6690-4230-8cf7-31835b66fc0f"
      },
      "source": [
        "pos_encoding = positional_encoding(50, 512)\r\n",
        "print (pos_encoding.shape)\r\n",
        "\r\n",
        "plt.pcolormesh(pos_encoding[0], cmap='RdBu')\r\n",
        "plt.xlabel('Depth')\r\n",
        "plt.xlim((0, 512))\r\n",
        "plt.ylabel('Position')\r\n",
        "plt.colorbar()\r\n",
        "plt.show()"
      ],
      "execution_count": 20,
      "outputs": [
        {
          "output_type": "stream",
          "text": [
            "(1, 50, 512)\n"
          ],
          "name": "stdout"
        },
        {
          "output_type": "display_data",
          "data": {
            "image/png": "[encoded data removed]",
            "text/plain": [
              "<Figure size 432x288 with 2 Axes>"
            ]
          },
          "metadata": {
            "tags": [],
            "needs_background": "light"
          }
        }
      ]
    },
    {
      "cell_type": "markdown",
      "metadata": {
        "id": "bC2dfwmUeCe1"
      },
      "source": [
        "#### Masking\r\n",
        "\r\n",
        "1. Masking paddings-\r\n",
        "\r\n",
        "Return a 1 wherever an input is 0 , due ensure the model doesn't treat padding as input.\r\n",
        "\r\n",
        "2. Look ahead masking -\r\n",
        "\r\n",
        "Mask future tokens in a sequence, to specify which entries not to be used.\r\n",
        "For eg. in a language model, only first 2 words should be used to predict the 3rd word, and first 3 words to predict the 4th word and so on."
      ]
    },
    {
      "cell_type": "code",
      "metadata": {
        "id": "WlFLp6jAcskg"
      },
      "source": [
        "def create_padding_mask(seq):\r\n",
        "  seq = tf.cast(tf.math.equal(seq, 0), tf.float32)\r\n",
        "\r\n",
        "  # add extra dimensions to add the padding\r\n",
        "  # to the attention logits.\r\n",
        "  return seq[:, tf.newaxis, tf.newaxis, :]      # (batch_size, 1, 1, seq_len)\r\n",
        "\r\n",
        "def create_look_ahead_mask(size):\r\n",
        "  mask = 1 - tf.linalg.band_part(tf.ones((size, size)), -1, 0)\r\n",
        "  return mask                                  # (seq_len, seq_len)"
      ],
      "execution_count": 21,
      "outputs": []
    },
    {
      "cell_type": "markdown",
      "metadata": {
        "id": "80YuqKYXYVPU"
      },
      "source": [
        "<img src=\"https://www.tensorflow.org/images/tutorials/transformer/scaled_attention.png\" width=\"500\" alt=\"scaled_dot_product_attention\">\r\n",
        "\r\n",
        "The attention function used by the transformer takes three inputs: Q (query), K (key), V (value). The equation used to calculate the attention weights is:\r\n",
        "\r\n",
        "$$\\Large{Attention(Q, K, V) = softmax_k(\\frac{QK^T}{\\sqrt{d_k}}) V} $$\r\n",
        "\r\n",
        "The dot-product attention is scaled by a factor of square root of the depth. This is done because for large values of depth, the dot product grows large in magnitude pushing the softmax function where it has small gradients resulting in a very hard softmax. \r\n",
        "\r\n",
        "For example, consider that `Q` and `K` have a mean of 0 and variance of 1. Their matrix multiplication will have a mean of 0 and variance of `dk`. Hence, *square root of `dk`* is used for scaling (and not any other number) because the matmul of `Q` and `K` should have a mean of 0 and variance of 1, and you get a gentler softmax.\r\n",
        "\r\n",
        "The mask is multiplied with -1e9 (close to negative infinity). This is done because the mask is summed with the scaled matrix multiplication of Q and K and is applied immediately before a softmax. The goal is to zero out these cells, and large negative inputs to softmax are near zero in the output.\r\n",
        "\r\n",
        "There are 3 types of Attention -\r\n",
        "1. Encoder/Decoder\r\n",
        "2. Causal \r\n",
        "3. Bi-directional\r\n",
        "\r\n",
        "In causal attention, keys, queries, values come from the same sentence & queries search among the past words only. This is where look-ahead masking is used to mask positions to make it causal."
      ]
    },
    {
      "cell_type": "code",
      "metadata": {
        "id": "Pvk2aG_qUMHr"
      },
      "source": [
        "def scaled_dot_product_attention(q, k, v, mask):\r\n",
        "  \"\"\"Calculate the attention weights.\r\n",
        "  q, k, v must have matching leading dimensions.\r\n",
        "  k, v must have matching penultimate dimension, i.e.: seq_len_k = seq_len_v.\r\n",
        "  The mask has different shapes depending on its type(padding or look ahead) \r\n",
        "  but it must be broadcastable for addition.\r\n",
        "\r\n",
        "  Args:\r\n",
        "  q: query shape = (..., seq_len_q, depth)\r\n",
        "  k: key shape = (..., seq_len_k, depth)\r\n",
        "  v: value shape = (..., seq_len_v, depth_v)\r\n",
        "  mask: float tensor with shape broadcastable to (..., seq_len_q, seq_len_k). Defaults to None\r\n",
        "\r\n",
        "  Returns:\r\n",
        "  output, attention_weights\r\n",
        "  \"\"\"\r\n",
        "  matmul_qk = tf.matmul(q,k, transpose_b=True)         # (..., seq_len_q, seq_len_k)\r\n",
        "  # scale matmul_qk\r\n",
        "  dk = tf.cast(tf.shape(k)[-1], tf.float32)\r\n",
        "  scaled_attention_logits = matmul_qk / tf.math.sqrt(dk)\r\n",
        "  # add the mask to the scaled tensor.\r\n",
        "  if mask is not None:\r\n",
        "    scaled_attention_logits += (mask * -1e9) \r\n",
        "\r\n",
        "  # softmax is normalized on the last axis (seq_len_k) so that the scores\r\n",
        "  # add up to 1.\r\n",
        "  attention_weights = tf.nn.softmax(scaled_attention_logits, axis=-1)     # (..., seq_len_q, seq_len_k)\r\n",
        "  output = tf.matmul(attention_weights, v)\r\n",
        "\r\n",
        "  return output, attention_weights"
      ],
      "execution_count": 22,
      "outputs": []
    },
    {
      "cell_type": "markdown",
      "metadata": {
        "id": "dYBtA-3rcfRI"
      },
      "source": [
        "As the softmax normalization is done on K, its values decide the amount of importance given to Q.\r\n",
        "\r\n",
        "The output represents the multiplication of the attention weights and the V (value) vector. This ensures that the words you want to focus on are kept as-is and the irrelevant words are flushed out."
      ]
    },
    {
      "cell_type": "code",
      "metadata": {
        "id": "yFwjxrircnZr"
      },
      "source": [
        "def print_out(q, k, v):\r\n",
        "  temp_out, temp_attn = scaled_dot_product_attention(\r\n",
        "      q, k, v, None)\r\n",
        "  print ('Attention weights are:')\r\n",
        "  print (temp_attn)\r\n",
        "  print ('Output is:')\r\n",
        "  print (temp_out)"
      ],
      "execution_count": 23,
      "outputs": []
    },
    {
      "cell_type": "code",
      "metadata": {
        "colab": {
          "base_uri": "https://localhost:8080/"
        },
        "id": "Mkhh8m1mcqVz",
        "outputId": "eeacfa0d-7096-4e43-fad4-d4926416386b"
      },
      "source": [
        "np.set_printoptions(suppress=True)\r\n",
        "\r\n",
        "temp_k = tf.constant([[10,0,0],\r\n",
        "                      [0,10,0],\r\n",
        "                      [0,0,10],\r\n",
        "                      [0,0,10]], dtype=tf.float32)  # (4, 3)\r\n",
        "\r\n",
        "temp_v = tf.constant([[   1,0],\r\n",
        "                      [  10,0],\r\n",
        "                      [ 100,5],\r\n",
        "                      [1000,6]], dtype=tf.float32)  # (4, 2)\r\n",
        "\r\n",
        "# This `query` aligns with the second `key`,\r\n",
        "# so the second `value` is returned.\r\n",
        "temp_q = tf.constant([[0, 10, 0]], dtype=tf.float32)  # (1, 3)\r\n",
        "print_out(temp_q, temp_k, temp_v)"
      ],
      "execution_count": 24,
      "outputs": [
        {
          "output_type": "stream",
          "text": [
            "Attention weights are:\n",
            "tf.Tensor([[0. 1. 0. 0.]], shape=(1, 4), dtype=float32)\n",
            "Output is:\n",
            "tf.Tensor([[10.  0.]], shape=(1, 2), dtype=float32)\n"
          ],
          "name": "stdout"
        }
      ]
    },
    {
      "cell_type": "code",
      "metadata": {
        "colab": {
          "base_uri": "https://localhost:8080/"
        },
        "id": "0HaydKD8eW2h",
        "outputId": "74a3f0a3-cbf5-4fc2-bc46-27819190d6a9"
      },
      "source": [
        "temp_q = tf.constant([[0, 0, 10]], dtype=tf.float32)  # (1, 3)\r\n",
        "print_out(temp_q, temp_k, temp_v)"
      ],
      "execution_count": 25,
      "outputs": [
        {
          "output_type": "stream",
          "text": [
            "Attention weights are:\n",
            "tf.Tensor([[0.  0.  0.5 0.5]], shape=(1, 4), dtype=float32)\n",
            "Output is:\n",
            "tf.Tensor([[550.    5.5]], shape=(1, 2), dtype=float32)\n"
          ],
          "name": "stdout"
        }
      ]
    },
    {
      "cell_type": "code",
      "metadata": {
        "colab": {
          "base_uri": "https://localhost:8080/"
        },
        "id": "NGvTVZeEnj2W",
        "outputId": "2026a80b-1a06-416d-c035-89f33a0cfcae"
      },
      "source": [
        "# whichever vector/word in key has larger values, will gain more weightage in attention\r\n",
        "\r\n",
        "temp_k = tf.constant([[2,1,3], [4,5,6]] , dtype=tf.float32)       # (seq_len, dim)\r\n",
        "temp_q = tf.constant([[2.5,1.5,3.5]], tf.float32)                 # q vector is closer to 1st word in sequence in temp_k\r\n",
        "print(temp_q)\r\n",
        "print_out(temp_q, temp_k, temp_k)"
      ],
      "execution_count": 26,
      "outputs": [
        {
          "output_type": "stream",
          "text": [
            "tf.Tensor([[2.5 1.5 3.5]], shape=(1, 3), dtype=float32)\n",
            "Attention weights are:\n",
            "tf.Tensor([[0.00000407 0.99999595]], shape=(1, 2), dtype=float32)\n",
            "Output is:\n",
            "tf.Tensor([[3.999992 4.999984 5.999988]], shape=(1, 3), dtype=float32)\n"
          ],
          "name": "stdout"
        }
      ]
    },
    {
      "cell_type": "code",
      "metadata": {
        "colab": {
          "base_uri": "https://localhost:8080/"
        },
        "id": "ktmFOEsXtZZ6",
        "outputId": "35025346-356a-4c53-c405-44af1f2f56f0"
      },
      "source": [
        "# Here, 2 words in the sequence are close to each other.\r\n",
        "temp_k = tf.constant([[2.5,1.5,3.5], [2.0,1.0,3.0]] , dtype=tf.float32)  # (seq_len, dim)\r\n",
        "temp_q = tf.constant([[2.5,1.5,3.5]], tf.float32)                        # q vector is closer to 1st word in sequence in temp_k\r\n",
        "\r\n",
        "print(temp_q)\r\n",
        "print_out(temp_q, temp_k, temp_k)"
      ],
      "execution_count": null,
      "outputs": [
        {
          "output_type": "stream",
          "text": [
            "tf.Tensor([[2.5 1.5 3.5]], shape=(1, 3), dtype=float32)\n",
            "matmul q k [[20.75 17.  ]]\n",
            "scaled_attention_logits [[11.980019  9.814955]]\n",
            "Attention weights are:\n",
            "tf.Tensor([[0.897068   0.10293192]], shape=(1, 2), dtype=float32)\n",
            "Output is:\n",
            "tf.Tensor([[2.448534  1.448534  3.4485338]], shape=(1, 3), dtype=float32)\n"
          ],
          "name": "stdout"
        }
      ]
    },
    {
      "cell_type": "markdown",
      "metadata": {
        "id": "dYrnvgJz7fLi"
      },
      "source": [
        "<img src=\"https://www.tensorflow.org/images/tutorials/transformer/multi_head_attention.png\" width=\"500\" alt=\"multi-head attention\">\r\n",
        "\r\n",
        "\r\n",
        "Multi-head attention consists of four parts:\r\n",
        "*    Linear layers and split into heads.\r\n",
        "*    Scaled dot-product attention.\r\n",
        "*    Concatenation of heads.\r\n",
        "*    Final linear layer.\r\n",
        "\r\n",
        "Each multi-head attention block gets three inputs; Q (query), K (key), V (value). These are put through linear (Dense) layers and split up into multiple heads.\r\n",
        "\r\n",
        "The scaled_dot_product_attention defined above is applied to each head (broadcasted for efficiency). An appropriate mask must be used in the attention step. The attention output for each head is then concatenated (using tf.transpose, and tf.reshape) and put through a final Dense layer.\r\n",
        "\r\n",
        "Instead of one single attention head, Q, K, and V are split into multiple heads because it allows the model to jointly attend to information at different positions from different representational spaces. After the split each head has a reduced dimensionality, so the total computation cost is the same as a single head attention with full dimensionality.\r\n",
        "\r\n",
        "After the split, each head's reduced dimensionality reduces from d_model to d_model / num_heads. Thus, each head "
      ]
    },
    {
      "cell_type": "code",
      "metadata": {
        "id": "OLHqVoUF7Ps6"
      },
      "source": [
        "class MultiHeadAttention(tf.keras.layers.Layer):\r\n",
        "  def __init__(self, num_heads, d_model):\r\n",
        "    super(MultiHeadAttention, self).__init__()\r\n",
        "    self.num_heads = num_heads\r\n",
        "    self.d_model = d_model\r\n",
        "\r\n",
        "    assert d_model % num_heads == 0\r\n",
        "\r\n",
        "    self.depth = d_model // num_heads\r\n",
        "\r\n",
        "    self.w_q = tf.keras.layers.Dense(d_model)\r\n",
        "    self.w_k = tf.keras.layers.Dense(d_model)\r\n",
        "    self.w_v = tf.keras.layers.Dense(d_model)\r\n",
        "    self.dense = tf.keras.layers.Dense(d_model)\r\n",
        "\r\n",
        "  def split_heads(self,x,batch_size,):\r\n",
        "    \"\"\"Split the last dimension into (num_heads, depth).\r\n",
        "    Transpose the result such that the shape is (batch_size, num_heads, seq_len, depth)\r\n",
        "    \"\"\"\r\n",
        "    x = tf.reshape(x, (batch_size, -1, self.num_heads, self.depth))\r\n",
        "    return tf.transpose(x, perm=[0,2,1,3])\r\n",
        "\r\n",
        "  def call(self, v,k,q,mask):\r\n",
        "    batch_size = tf.shape(q)[0]\r\n",
        "\r\n",
        "    q = self.w_q(q)                  # (batch_size, seq_len_q, d_model)\r\n",
        "    k = self.w_k(k)                  # (batch_size, seq_len_k, d_model) \r\n",
        "    v = self.w_v(v)                  # (batch_size, seq_len_v, d_model)\r\n",
        "\r\n",
        "    q = self.split_heads(q, batch_size)     # (batch_size, num_heads, seq_len_q, depth)\r\n",
        "    k = self.split_heads(k, batch_size)     # (batch_size, num_heads, seq_len_k, depth)\r\n",
        "    v = self.split_heads(v, batch_size)     # (batch_size, num_heads, seq_len_v, depth)\r\n",
        "\r\n",
        "    # scaled_attention.shape == (batch_size, num_heads, seq_len_q, depth)\r\n",
        "    # attention_weights.shape == (batch_size, num_heads, seq_len_q, seq_len_k)\r\n",
        "    scaled_attention, attention_weights = scaled_dot_product_attention(q,k,v,mask)         \r\n",
        " \r\n",
        "    scaled_attention = tf.transpose(scaled_attention, perm=[0,2,1,3])           # shape (batch_size, seq_len_q, num_heads, depth)\r\n",
        "    concat_attention = tf.reshape(scaled_attention, (batch_size, -1, self.d_model))       # shape (batch_size, seq_len_q, d_model)       \r\n",
        "    output = self.dense(concat_attention)\r\n",
        "\r\n",
        "    return output, attention_weights"
      ],
      "execution_count": 37,
      "outputs": []
    },
    {
      "cell_type": "markdown",
      "metadata": {
        "id": "9fywajRr14k_"
      },
      "source": [
        "Since multihead attention involves multiple heads, each working on reduced dimension of vector. This means the scaled dot product will be involved for each word in a sequence of length seq_len_q or seq_len_k or seq_len_v with each word represented by reduced dimensions and will be worked upon by 8 heads for each word / location in the sequence.\r\n",
        "\r\n",
        "In the below example, at each location in the sequence, y, the MultiHeadAttention runs all 8 attention heads across all other locations in the sequence, returning a new vector of the same length at each location."
      ]
    },
    {
      "cell_type": "code",
      "metadata": {
        "id": "U5aysoXx7Ppv"
      },
      "source": [
        "tmp_mha = MultiHeadAttention(num_heads=8, d_model=512)\r\n",
        "y = tf.random.uniform((1,60,512))         # (batch_size, encoder_sequence, d_model)\r\n",
        "output, attn_wts = tmp_mha(v=y, q=y, k=y,mask=None)"
      ],
      "execution_count": 38,
      "outputs": []
    },
    {
      "cell_type": "code",
      "metadata": {
        "id": "G7rgwL0z7PnQ",
        "colab": {
          "base_uri": "https://localhost:8080/"
        },
        "outputId": "d171809a-1305-45fc-beeb-ceeced584481"
      },
      "source": [
        "output.shape, attn_wts.shape"
      ],
      "execution_count": 39,
      "outputs": [
        {
          "output_type": "execute_result",
          "data": {
            "text/plain": [
              "(TensorShape([1, 60, 512]), TensorShape([1, 8, 60, 60]))"
            ]
          },
          "metadata": {
            "tags": []
          },
          "execution_count": 39
        }
      ]
    },
    {
      "cell_type": "markdown",
      "metadata": {
        "id": "fIyMalBKcGdT"
      },
      "source": [
        "## Point wise feed forward network\r\n",
        "\r\n",
        "Point wise feed forward network consists of two fully-connected layers with a ReLU activation in between."
      ]
    },
    {
      "cell_type": "code",
      "metadata": {
        "id": "DmPUpze97Pkn"
      },
      "source": [
        "def point_wise_feed_forward_network(pff, d_model):\r\n",
        "  return tf.keras.Sequential([\r\n",
        "          tf.keras.layers.Dense(pff, activation='relu'),            # (batch_size, seq_len, dff)\r\n",
        "          tf.keras.layers.Dense(d_model)                            # (batch_size, seq_len, d_model)\r\n",
        "  ])"
      ],
      "execution_count": 40,
      "outputs": []
    },
    {
      "cell_type": "code",
      "metadata": {
        "id": "SCH_Rob_7PiI",
        "colab": {
          "base_uri": "https://localhost:8080/"
        },
        "outputId": "dc5253d6-e055-4cde-fcd7-a8f755e7d809"
      },
      "source": [
        "# Testing Point wise feed forward network\r\n",
        "\r\n",
        "sample_ffn = point_wise_feed_forward_network(512, 2048)\r\n",
        "sample_ffn(tf.random.uniform((64, 50, 512))).shape"
      ],
      "execution_count": 41,
      "outputs": [
        {
          "output_type": "execute_result",
          "data": {
            "text/plain": [
              "TensorShape([64, 50, 2048])"
            ]
          },
          "metadata": {
            "tags": []
          },
          "execution_count": 41
        }
      ]
    },
    {
      "cell_type": "markdown",
      "metadata": {
        "id": "8i4hppwKcPdQ"
      },
      "source": [
        "## Encoder and decoder\r\n",
        "\r\n",
        "<img src=\"https://www.tensorflow.org/images/tutorials/transformer/transformer.png\" width=\"600\" alt=\"transformer\">\r\n",
        "\r\n",
        "The transformer model follows the same general pattern as a standard [sequence to sequence with attention model](nmt_with_attention.ipynb). \r\n",
        "\r\n",
        "* The input sentence is passed through `N` encoder layers that generates an output for each word/token in the sequence.\r\n",
        "* The decoder attends on the encoder's output and its own input (self-attention) to predict the next word. \r\n",
        "\r\n",
        "### Encoder layer\r\n",
        "\r\n",
        "Each encoder layer consists of sublayers:\r\n",
        "\r\n",
        "1.   Multi-head self-attention (with padding mask) \r\n",
        "2.    Point wise feed forward networks. \r\n",
        "\r\n",
        "Each of these sublayers has a residual connection around it followed by a layer normalization. Residual connections help in avoiding the vanishing gradient problem in deep networks.\r\n",
        "\r\n",
        "The output of each sublayer is `LayerNorm(x + Sublayer(x))`. The normalization is done on the `d_model` (last) axis. There are N encoder layers in the transformer."
      ]
    },
    {
      "cell_type": "code",
      "metadata": {
        "id": "VCTaq45x7Pfj"
      },
      "source": [
        "class EncoderLayer(tf.keras.layers.Layer):\r\n",
        "  def __init__(self, num_heads, d_model, dff, rate=0.1):\r\n",
        "    super(EncoderLayer, self).__init__()\r\n",
        "    self.mha = MultiHeadAttention(num_heads, d_model)\r\n",
        "    self.pff = point_wise_feed_forward_network(dff,d_model)\r\n",
        "\r\n",
        "    self.layernorm1 = tf.keras.layers.LayerNormalization(epsilon=1e-6)\r\n",
        "    self.layernorm2 = tf.keras.layers.LayerNormalization(epsilon=1e-6)\r\n",
        "\r\n",
        "    self.dropout1 = tf.keras.layers.Dropout(rate)\r\n",
        "    self.dropout2 = tf.keras.layers.Dropout(rate)\r\n",
        "\r\n",
        "  def call(self,x, training, mask):\r\n",
        "    attn_output, _ = self.mha(x,x,x,mask)                       # (batch_size, seq_len_q, d_model)\r\n",
        "    attn_output = self.dropout1(attn_output, training)          \r\n",
        "    output1 = self.layernorm1(x + attn_output)                  # (batch_size, seq_len_q, d_model)\r\n",
        "\r\n",
        "    ff_output = self.pff(output1)                               # (batch_size, seq_len_q, d_model)\r\n",
        "    ff_output = self.dropout2(ff_output)\r\n",
        "    output2 = self.layernorm2(x + ff_output)                    # (batch_size, seq_len_q, d_model)\r\n",
        "\r\n",
        "    return output2"
      ],
      "execution_count": 42,
      "outputs": []
    },
    {
      "cell_type": "code",
      "metadata": {
        "id": "b8J8twwm7Pcv",
        "colab": {
          "base_uri": "https://localhost:8080/"
        },
        "outputId": "bb1c609c-7cf3-4755-b4a4-9755152c8181"
      },
      "source": [
        "sample_encoder_layer = EncoderLayer(8, 512, 2048)\r\n",
        "\r\n",
        "encoder_layer_output = sample_encoder_layer(tf.random.uniform((64,43,512)), False, None)\r\n",
        "encoder_layer_output.shape"
      ],
      "execution_count": 43,
      "outputs": [
        {
          "output_type": "execute_result",
          "data": {
            "text/plain": [
              "TensorShape([64, 43, 512])"
            ]
          },
          "metadata": {
            "tags": []
          },
          "execution_count": 43
        }
      ]
    },
    {
      "cell_type": "markdown",
      "metadata": {
        "id": "XkQ98OT5HSSv"
      },
      "source": [
        "### Decoder layer\r\n",
        "\r\n",
        "Decoder layer has following sublayers - \r\n",
        "\r\n",
        "1. Masked multi-head self-attention layer (with look-ahead and padding mask)\r\n",
        "\r\n",
        "2. Multi-head attention layer (with padded mask) over the output of encoder \r\n",
        "\r\n",
        "This layer receives key and value vectors from encoder's output from input sequence and query vector from output of masked multi-head attention sublayer from target sequence.\r\n",
        "\r\n",
        "3. Point-wise feed forward layer\r\n",
        "\r\n",
        "Each sublayer has a residual connection around it followed by a Layer Normalization. The output of each layer is LayerNormalization(x + Sublayer(x)). The normalization is done of last axis(d_model).\r\n",
        "\r\n",
        "There are N decoder layers.\r\n",
        "\r\n",
        "Since, Q receives input from decoder's first attention block and K is obtained from encoder's output, the attention weights obtained from attending to Q & V represent the importance given to decoder's input based on the encoder's output. In other words, the feed forward network predicts the next words based on encoder's output and self-attending to its own output.\r\n"
      ]
    },
    {
      "cell_type": "code",
      "metadata": {
        "id": "qg21zgwkg06U"
      },
      "source": [
        "class DecoderLayer(tf.keras.layers.Layer):\r\n",
        "  def __init__(self, num_heads, d_model, dff, rate=0.1):\r\n",
        "    super(DecoderLayer, self).__init__()\r\n",
        "    self.num_heads = num_heads\r\n",
        "    self.d_model = d_model\r\n",
        "\r\n",
        "    self.masked_mha = MultiHeadAttention(num_heads, d_model)        # Sublayer 1 : for target sequence with look ahead and padding mask \r\n",
        "    self.mha = MultiHeadAttention(num_heads, d_model)               # Sublayer 2: for encoder's output, and previous layer's attention output\r\n",
        "    self.ffn = point_wise_feed_forward_network(dff, d_model)        # Sublayer 3\r\n",
        "\r\n",
        "    # 1 layernormalization for each sub layer\r\n",
        "    self.layernorm1 = tf.keras.layers.LayerNormalization(epsilon=1e-6)       # for masked MHA\r\n",
        "    self.layernorm2 = tf.keras.layers.LayerNormalization(epsilon=1e-6)       # for MHA\r\n",
        "    self.layernorm3 = tf.keras.layers.LayerNormalization(epsilon=1e-6)       # for Feed forward nk\r\n",
        "\r\n",
        "    # 1 dropout setting for each sub layer\r\n",
        "    self.dropout1 = tf.keras.layers.Dropout(rate)\r\n",
        "    self.dropout2 = tf.keras.layers.Dropout(rate)\r\n",
        "    self.dropout3 = tf.keras.layers.Dropout(rate)\r\n",
        "\r\n",
        "  def call(self,x ,enc_output, training, lookahead_mask, padding_mask  ):\r\n",
        "    \"\"\"\r\n",
        "    x - query received from decoder from target sequence\r\n",
        "    enc_output shape = (batch_size, input_seq_len, d_model)\r\n",
        "    \"\"\"\r\n",
        "    attn1, attn_wts_block1 = self.masked_mha(x, x, x, lookahead_mask)              # (batch_size, target_seq_len, d_model)\r\n",
        "    attn1 = self.dropout1(attn1, training=training)\r\n",
        "    out1 = self.layernorm1(x + attn1)\r\n",
        "\r\n",
        "    attn2, attn_wts_block2 = self.mha(enc_output, enc_output, out1, padding_mask)  # (batch_size, target_seq_len, d_model)\r\n",
        "    attn2 = self.dropout2(attn2, training=training)\r\n",
        "    out2 = self.layernorm2(out1 + attn2)                                           # (batch_size, target_seq_len, d_model)\r\n",
        "\r\n",
        "    ff_outout = self.ffn(out2)          # (batch_size, target_seq_len, d_model)\r\n",
        "    ff_output = self.dropout3(ff_outout, training=training)\r\n",
        "    out3 = self.layernorm3(out2 + ff_output)\r\n",
        "\r\n",
        "    return out3, attn_wts_block1, attn_wts_block2"
      ],
      "execution_count": 44,
      "outputs": []
    },
    {
      "cell_type": "code",
      "metadata": {
        "id": "afJEQ10Cg021",
        "colab": {
          "base_uri": "https://localhost:8080/"
        },
        "outputId": "dfa85812-4820-461b-87a2-5f566f43301c"
      },
      "source": [
        "sample_decoder_layer = DecoderLayer(8, 512, 2048)\r\n",
        "\r\n",
        "sample_decoder_layer_output, _, _ = sample_decoder_layer(tf.random.uniform((64, 50, 512)), encoder_layer_output, \\\r\n",
        "    False, None, None)\r\n",
        "\r\n",
        "sample_decoder_layer_output.shape          # (batch_size, target_seq_len, d_model)"
      ],
      "execution_count": 45,
      "outputs": [
        {
          "output_type": "execute_result",
          "data": {
            "text/plain": [
              "TensorShape([64, 50, 512])"
            ]
          },
          "metadata": {
            "tags": []
          },
          "execution_count": 45
        }
      ]
    },
    {
      "cell_type": "markdown",
      "metadata": {
        "id": "HRMVbYkdF2wN"
      },
      "source": [
        "### Encoder\r\n",
        "\r\n",
        "Encoder has following layers\r\n",
        "\r\n",
        "1. Embedding layer to convert token IDs in input sequence to dense vector \r\n",
        "embeddings\r\n",
        "\r\n",
        "2. Position encoding to capture token positions in the input sequence and add it to word embeddings obtained from previous layer\r\n",
        "\r\n",
        "2. N Encoder layers\r\n",
        "The output of the position encoding summed with embeddings is input to the Encoder layers and output of Nth Encoder layer is input to the decoder"
      ]
    },
    {
      "cell_type": "code",
      "metadata": {
        "id": "OAMN8tbkYYFf"
      },
      "source": [
        "class Encoder(tf.keras.layers.Layer):\r\n",
        "  def __init__(self, num_heads, num_layers, d_model,dff, vocab_size, max_position_encoding_len, rate=0.1 ):\r\n",
        "    super(Encoder, self).__init__()\r\n",
        "    self.d_model = d_model\r\n",
        "    self.embedding_layer = tf.keras.layers.Embedding(vocab_size, d_model)\r\n",
        "    self.position_encoding = positional_encoding(max_position_encoding_len, d_model)\r\n",
        "    self.dropout = tf.keras.layers.Dropout(rate)\r\n",
        "    self.encoding_layers = [EncoderLayer(num_heads, d_model, dff, rate) for _ in range(num_layers)]\r\n",
        "\r\n",
        "  def call(self, x, training, padding_mask):\r\n",
        "    seq_len = tf.shape(x)[1]\r\n",
        "    x = self.embedding_layer(x)\r\n",
        "    x *= tf.sqrt(tf.cast(self.d_model, dtype=tf.float32))\r\n",
        "    x += self.position_encoding[:, :seq_len, :]\r\n",
        "\r\n",
        "    x = self.dropout(x, training=training)\r\n",
        "\r\n",
        "    for enc_layer in self.encoding_layers:\r\n",
        "      x = enc_layer(x, training, padding_mask)\r\n",
        "\r\n",
        "    return x     # (batch_size, input_seq_len, d_model)"
      ],
      "execution_count": 46,
      "outputs": []
    },
    {
      "cell_type": "code",
      "metadata": {
        "id": "cNQOsTsvChEu"
      },
      "source": [
        "# Testing Encoder\r\n",
        "sample_encoder = Encoder(num_heads=8, num_layers=2, d_model=512, dff=2048, vocab_size=8500,\r\n",
        "                         max_position_encoding_len=10000 )"
      ],
      "execution_count": 47,
      "outputs": []
    },
    {
      "cell_type": "code",
      "metadata": {
        "colab": {
          "base_uri": "https://localhost:8080/"
        },
        "id": "BDRS5pXSE75Z",
        "outputId": "d6edf604-e39c-4228-abec-1fa5e765e5bb"
      },
      "source": [
        "temp_input = tf.random.uniform((64, 62), dtype=tf.int64, minval=0, maxval=200)\r\n",
        "sample_encoder_output = sample_encoder(temp_input, training=False, padding_mask=None)\r\n",
        "sample_encoder_output.shape"
      ],
      "execution_count": 48,
      "outputs": [
        {
          "output_type": "execute_result",
          "data": {
            "text/plain": [
              "TensorShape([64, 62, 512])"
            ]
          },
          "metadata": {
            "tags": []
          },
          "execution_count": 48
        }
      ]
    },
    {
      "cell_type": "markdown",
      "metadata": {
        "id": "9S1yID3LUYzT"
      },
      "source": [
        "#### Decoder\r\n",
        "The Decoder consists of:\r\n",
        "\r\n",
        "1. Output Embedding\r\n",
        "2. Positional Encoding\r\n",
        "3. N decoder layers\r\n",
        "\r\n",
        "The target is put through an embedding which is summed with the positional encoding. The output of this summation is the input to the decoder layers. The output of the decoder is the input to the final linear layer."
      ]
    },
    {
      "cell_type": "code",
      "metadata": {
        "id": "ipDwC7R_F0yL"
      },
      "source": [
        "class Decoder(tf.keras.layers.Layer):\r\n",
        "  def __init__(self, num_heads, d_model, dff, maximum_position_encoding, num_layers, target_vocab_size, rate=0.1):\r\n",
        "    super(Decoder, self).__init__()\r\n",
        "    \r\n",
        "    self.d_model = d_model\r\n",
        "    self.embedding_layer = tf.keras.layers.Embedding(target_vocab_size, d_model)                     # output embeddings\r\n",
        "    self.position_encoding = positional_encoding(maximum_position_encoding, d_model)\r\n",
        "    self.dropout = tf.keras.layers.Dropout(rate)\r\n",
        "    self.decoding_layers = [DecoderLayer(num_heads, d_model, dff, rate) for _ in range(num_layers)]\r\n",
        "\r\n",
        "  def call(self, x, encoder_output, training, padding_mask, lookahead_mask):\r\n",
        "    seq_len = tf.shape(x)[1]\r\n",
        "    attention_weights = {}\r\n",
        "\r\n",
        "    x = self.embedding_layer(x)                             # (batch_size, target_seq_len, d_model)\r\n",
        "    x *= tf.sqrt(tf.cast(self.d_model, dtype=tf.float32))\r\n",
        "    x += self.position_encoding[:, :seq_len, :]\r\n",
        "\r\n",
        "    x = self.dropout(x, training=training)\r\n",
        "\r\n",
        "    for i,decoding_layer in enumerate(self.decoding_layers):\r\n",
        "        x, attn_wts_blk1, attn_wts_blk2 = decoding_layer(x, encoder_output, False, None, None)\r\n",
        "      \r\n",
        "        attention_weights['decoder_layer{}_block1'.format(i+1)] = attn_wts_blk1\r\n",
        "        attention_weights['decoder_layer{}_block2'.format(i+1)] = attn_wts_blk2\r\n",
        "\r\n",
        "    return x, attention_weights                  # x.shape = (batch_size, target_seq_len, d_model)\r\n"
      ],
      "execution_count": 49,
      "outputs": []
    },
    {
      "cell_type": "code",
      "metadata": {
        "colab": {
          "base_uri": "https://localhost:8080/"
        },
        "id": "B4rtvPL8Qi3q",
        "outputId": "238f2d89-a24a-4157-97cd-893070139951"
      },
      "source": [
        "sample_decoder = Decoder(num_layers=2, d_model=512, num_heads=8, \r\n",
        "                         dff=2048, target_vocab_size=8000,\r\n",
        "                         maximum_position_encoding=5000)\r\n",
        "temp_input = tf.random.uniform((64, 26), dtype=tf.int64, minval=0, maxval=200)\r\n",
        "\r\n",
        "output, attn = sample_decoder(temp_input, \r\n",
        "                              encoder_output=sample_encoder_output, \r\n",
        "                              training=False,\r\n",
        "                              lookahead_mask=None, \r\n",
        "                              padding_mask=None)\r\n",
        "\r\n",
        "output.shape, attn['decoder_layer2_block2'].shape"
      ],
      "execution_count": 50,
      "outputs": [
        {
          "output_type": "execute_result",
          "data": {
            "text/plain": [
              "(TensorShape([64, 26, 512]), TensorShape([64, 8, 26, 62]))"
            ]
          },
          "metadata": {
            "tags": []
          },
          "execution_count": 50
        }
      ]
    },
    {
      "cell_type": "markdown",
      "metadata": {
        "id": "lkRSA_RF5-3h"
      },
      "source": [
        "Thus we used 3 types of attention in transformers -\r\n",
        "\r\n",
        "1. **Encoder-decoder attention** layers which involves query from output of previous decoder layer and key , values come from the output of encoder. In this every position in the decoder output can attend to all positions in the encoder output's sequence. \r\n",
        "\r\n",
        "2. **Self attention layers in encoder** where the query, key abnd value vectors come from the same place, here, from the previous encoder layer. Each position in the encoder can attend to all positions in the previous layer of the encoder.\r\n",
        "\r\n",
        "3. **Self attention layers in decoder** where the query, key and value vectors come from the previous layer in the decoder upto and including that position. Here, look ahead masking is also included to prevent positions from attending to subsequent positions.\r\n",
        "\r\n",
        "### Creating Transformer\r\n",
        "Transformer consists of encoder, decoder & a final linear layer. The output of the decoder is fed to the final layer whose output is returned as final output."
      ]
    },
    {
      "cell_type": "code",
      "metadata": {
        "id": "gQeooEkiSkuM"
      },
      "source": [
        "class Transformer(tf.keras.Model):\r\n",
        "  def __init__(self, num_layers, d_model, num_heads, dff, input_vocab_size, \r\n",
        "               target_vocab_size, pe_input, pe_target, rate=0.1):\r\n",
        "    super(Transformer, self).__init__()\r\n",
        "\r\n",
        "    self.encoder = Encoder(num_heads, num_layers, d_model, dff, input_vocab_size, pe_input, rate)\r\n",
        "    self.decoder = Decoder(num_heads, d_model, dff, pe_target, num_layers, target_vocab_size, rate)\r\n",
        "\r\n",
        "    self.final_layer = tf.keras.layers.Dense(target_vocab_size)\r\n",
        "\r\n",
        "  def call(self, inp, tar, training, look_ahead_mask, enc_padding_mask, dec_padding_mask):\r\n",
        "    enc_output = self.encoder(inp, training=training, padding_mask=enc_padding_mask)          # (batch_size, inp_seq_len, d_model)\r\n",
        "    decoder_output, attention_weights = self.decoder(tar, enc_output, training, dec_padding_mask, look_ahead_mask)        # (batch_size, target_seq_len, d_model)\r\n",
        "    output = self.final_layer(decoder_output)                                    # (batch_size, target_vocab_size)\r\n",
        "\r\n",
        "    return output, attention_weights\r\n"
      ],
      "execution_count": 52,
      "outputs": []
    },
    {
      "cell_type": "code",
      "metadata": {
        "id": "hFcPM6m5Skqx"
      },
      "source": [
        "sample_transformer = Transformer(\r\n",
        "    num_layers=2, d_model=512, num_heads=8, dff=2048, \r\n",
        "    input_vocab_size=8500, target_vocab_size=8000, \r\n",
        "    pe_input=10000, pe_target=6000)\r\n",
        "\r\n",
        "temp_input = tf.random.uniform((64, 38), dtype=tf.int64, minval=0, maxval=200)\r\n",
        "temp_target = tf.random.uniform((64, 36), dtype=tf.int64, minval=0, maxval=200)"
      ],
      "execution_count": 53,
      "outputs": []
    },
    {
      "cell_type": "code",
      "metadata": {
        "id": "JCL4d72fSkn-"
      },
      "source": [
        "fn_out, _ = sample_transformer(temp_input, temp_target, training=False, \r\n",
        "                               enc_padding_mask=None, \r\n",
        "                               look_ahead_mask=None,\r\n",
        "                               dec_padding_mask=None)"
      ],
      "execution_count": 54,
      "outputs": []
    },
    {
      "cell_type": "code",
      "metadata": {
        "id": "PuBxQDrlSkjU",
        "colab": {
          "base_uri": "https://localhost:8080/"
        },
        "outputId": "5ec57cca-ef58-4d5b-adb2-41ac455fa899"
      },
      "source": [
        "fn_out.shape                      # (batch_size, tar_seq_len, target_vocab_size)"
      ],
      "execution_count": 57,
      "outputs": [
        {
          "output_type": "execute_result",
          "data": {
            "text/plain": [
              "TensorShape([64, 36, 8000])"
            ]
          },
          "metadata": {
            "tags": []
          },
          "execution_count": 57
        }
      ]
    },
    {
      "cell_type": "markdown",
      "metadata": {
        "id": "xh2Vv9veC2aK"
      },
      "source": [
        "### Set hyperparameters\r\n",
        "To keep this example small and relatively fast, the values for num_layers, d_model, and dff have been reduced.\r\n",
        "\r\n",
        "The values used in the base model of transformer were; num_layers=6, d_model = 512, dff = 2048. See the paper for all the other versions of the transformer."
      ]
    },
    {
      "cell_type": "code",
      "metadata": {
        "id": "quX3nLarSkgf"
      },
      "source": [
        "num_layers = 4\r\n",
        "d_model = 128\r\n",
        "dff = 512\r\n",
        "num_heads = 8\r\n",
        "\r\n",
        "input_vocab_size = pt_tokenizer.vocab_size + 2\r\n",
        "target_vocab_size = en_tokenizer.vocab_size + 2\r\n",
        "dropout_rate = 0.1"
      ],
      "execution_count": 58,
      "outputs": []
    },
    {
      "cell_type": "markdown",
      "metadata": {
        "id": "ibrPr1wXSYbB"
      },
      "source": [
        "### Optimizer\r\n",
        "Using the Adam optimizer with β1 = 0.9, β2 = 0.98 and $\\epsilon $ = 10e−9. The learnining rate is varied over the course of training according to the following formula from [paper](https://arxiv.org/abs/1706.03762).\r\n",
        "\r\n",
        "$$\\Large{lrate = d_{model}^{-0.5} * min(step{\\_}num^{-0.5}, step{\\_}num * warmup{\\_}steps^{-1.5})}$$\r\n",
        "\r\n",
        "This corresponds to increasing the learning rate linearly for the first warmup_steps training steps,\r\n",
        "and decreasing it thereafter proportionally to the inverse square root of the step number. We used\r\n",
        "warmup_steps = 4000.\r\n"
      ]
    },
    {
      "cell_type": "code",
      "metadata": {
        "id": "SFPdW2tKDBpD"
      },
      "source": [
        "class CustomSchedule(tf.keras.optimizers.schedules.LearningRateSchedule):\r\n",
        "  def __init__(self, d_model, warmup_steps=4000):\r\n",
        "    super(CustomSchedule, self).__init__()\r\n",
        "\r\n",
        "    self.d_model = d_model\r\n",
        "    self.d_model = tf.cast(self.d_model, tf.float32)\r\n",
        "\r\n",
        "    self.warmup_steps = warmup_steps\r\n",
        "\r\n",
        "  def __call__(self, step):\r\n",
        "    arg1 = tf.math.rsqrt(step)\r\n",
        "    arg2 = step * (self.warmup_steps ** -1.5)\r\n",
        "\r\n",
        "    return tf.math.rsqrt(self.d_model) * tf.math.minimum(arg1, arg2)"
      ],
      "execution_count": 59,
      "outputs": []
    },
    {
      "cell_type": "code",
      "metadata": {
        "id": "lhryfjcNDBlJ"
      },
      "source": [
        "learning_rate = CustomSchedule(d_model)\r\n",
        "\r\n",
        "optimizer = tf.keras.optimizers.Adam(beta_1=0.9, beta_2=0.98, epsilon=1e-9)"
      ],
      "execution_count": 61,
      "outputs": []
    },
    {
      "cell_type": "code",
      "metadata": {
        "colab": {
          "base_uri": "https://localhost:8080/",
          "height": 296
        },
        "id": "0989Wvh0DBi_",
        "outputId": "768c9eb2-cde8-4b0a-e5dc-b30f35765daa"
      },
      "source": [
        "temp_learning_rate_schedule = CustomSchedule(d_model)\r\n",
        "\r\n",
        "plt.plot(temp_learning_rate_schedule(tf.range(40000, dtype=tf.float32)))\r\n",
        "plt.ylabel(\"Learning Rate\")\r\n",
        "plt.xlabel(\"Train Step\")"
      ],
      "execution_count": 64,
      "outputs": [
        {
          "output_type": "execute_result",
          "data": {
            "text/plain": [
              "Text(0.5, 0, 'Train Step')"
            ]
          },
          "metadata": {
            "tags": []
          },
          "execution_count": 64
        },
        {
          "output_type": "display_data",
          "data": {
            "image/png": "[encoded data removed]",
            "text/plain": [
              "<Figure size 432x288 with 1 Axes>"
            ]
          },
          "metadata": {
            "tags": [],
            "needs_background": "light"
          }
        }
      ]
    },
    {
      "cell_type": "code",
      "metadata": {
        "colab": {
          "base_uri": "https://localhost:8080/",
          "height": 296
        },
        "id": "aG2BlntiDBge",
        "outputId": "f3ab8a7d-52cc-4095-d776-f9d48c56a00d"
      },
      "source": [
        "# Notice the learning rate decreasing after 4000 warmup steps \r\n",
        "plt.plot(temp_learning_rate_schedule(tf.range(10000, dtype=tf.float32)))\r\n",
        "plt.ylabel(\"Learning Rate\")\r\n",
        "plt.xlabel(\"Train Step\")"
      ],
      "execution_count": 66,
      "outputs": [
        {
          "output_type": "execute_result",
          "data": {
            "text/plain": [
              "Text(0.5, 0, 'Train Step')"
            ]
          },
          "metadata": {
            "tags": []
          },
          "execution_count": 66
        },
        {
          "output_type": "display_data",
          "data": {
            "image/png": "[encoded data removed]",
            "text/plain": [
              "<Figure size 432x288 with 1 Axes>"
            ]
          },
          "metadata": {
            "tags": [],
            "needs_background": "light"
          }
        }
      ]
    },
    {
      "cell_type": "markdown",
      "metadata": {
        "id": "DBwf5cQKl4YU"
      },
      "source": [
        "### Loss and metrics\r\n",
        "\r\n",
        "We will use sparse categorical loss since its'a multi class classification &  the target vectors are integers and not one-hot encoded."
      ]
    },
    {
      "cell_type": "code",
      "metadata": {
        "id": "zRpPkklul0HW"
      },
      "source": [
        "loss_object = tf.keras.losses.SparseCategoricalCrossentropy(\r\n",
        "    from_logits=True, reduction='none')"
      ],
      "execution_count": 83,
      "outputs": []
    },
    {
      "cell_type": "code",
      "metadata": {
        "id": "NgGKvVAlzdPQ"
      },
      "source": [
        "def loss_function(real, pred):\r\n",
        "  mask = tf.math.logical_not(tf.math.equal(real, 0))\r\n",
        "  loss_ = loss_object(real, pred)\r\n",
        "\r\n",
        "  mask = tf.cast(mask, dtype=loss_.dtype)\r\n",
        "  loss_ *= mask\r\n",
        "\r\n",
        "  return tf.reduce_sum(loss_)/tf.reduce_sum(mask)\r\n",
        "\r\n",
        "\r\n",
        "def accuracy_function(real, pred):\r\n",
        "  accuracies = tf.equal(real, tf.argmax(pred, axis=2))\r\n",
        "\r\n",
        "  mask = tf.math.logical_not(tf.math.equal(real, 0))\r\n",
        "  accuracies = tf.math.logical_and(mask, accuracies)\r\n",
        "\r\n",
        "  accuracies = tf.cast(accuracies, dtype=tf.float32)\r\n",
        "  mask = tf.cast(mask, dtype=tf.float32)\r\n",
        "  return tf.reduce_sum(accuracies)/tf.reduce_sum(mask)\r\n"
      ],
      "execution_count": 84,
      "outputs": []
    },
    {
      "cell_type": "code",
      "metadata": {
        "id": "sXhuSV4HzdLa"
      },
      "source": [
        "train_loss = tf.keras.metrics.Mean(name='train_loss')\r\n",
        "train_accuracy = tf.keras.metrics.Mean(name='train_accuracy')"
      ],
      "execution_count": 85,
      "outputs": []
    },
    {
      "cell_type": "markdown",
      "metadata": {
        "id": "VMoGS4SS8Uep"
      },
      "source": [
        "### Training and checkpointing"
      ]
    },
    {
      "cell_type": "code",
      "metadata": {
        "id": "NqmzMoU-zdIE"
      },
      "source": [
        "transformer = Transformer(num_layers, d_model, num_heads, dff,\r\n",
        "                          input_vocab_size, target_vocab_size, \r\n",
        "                          pe_input=input_vocab_size, \r\n",
        "                          pe_target=target_vocab_size,\r\n",
        "                          rate=dropout_rate)"
      ],
      "execution_count": 86,
      "outputs": []
    },
    {
      "cell_type": "code",
      "metadata": {
        "id": "0s9-BQ3V8XCF"
      },
      "source": [
        "def create_masks(inp, tar):\r\n",
        "  # Encoder padding mask\r\n",
        "  enc_padding_mask = create_padding_mask(inp)\r\n",
        "\r\n",
        "  # Used in the 2nd attention block in the decoder.\r\n",
        "  # This padding mask is used to mask the encoder outputs.\r\n",
        "  dec_padding_mask = create_padding_mask(inp)\r\n",
        "\r\n",
        "  # Used in the 1st attention block in the decoder.\r\n",
        "  # It is used to pad and mask future tokens in the input received by \r\n",
        "  # the decoder.\r\n",
        "  look_ahead_mask = create_look_ahead_mask(tf.shape(tar)[1])\r\n",
        "  dec_target_padding_mask = create_padding_mask(tar)\r\n",
        "  combined_mask = tf.maximum(dec_target_padding_mask, look_ahead_mask)\r\n",
        "\r\n",
        "  return enc_padding_mask, combined_mask, dec_padding_mask"
      ],
      "execution_count": 87,
      "outputs": []
    },
    {
      "cell_type": "markdown",
      "metadata": {
        "id": "lSBBFNNOBzsT"
      },
      "source": [
        "Create the checkpoint path and the checkpoint manager. This will be used to save checkpoints every n epochs."
      ]
    },
    {
      "cell_type": "code",
      "metadata": {
        "id": "fpzHResA8W_D"
      },
      "source": [
        "checkpoint_path = \"./checkpoints/train\"\r\n",
        "\r\n",
        "ckpt = tf.train.Checkpoint(transformer=transformer,\r\n",
        "                           optimizer=optimizer)\r\n",
        "\r\n",
        "ckpt_manager = tf.train.CheckpointManager(ckpt, checkpoint_path, max_to_keep=5)\r\n",
        "\r\n",
        "# if a checkpoint exists, restore the latest checkpoint.\r\n",
        "if ckpt_manager.latest_checkpoint:\r\n",
        "  ckpt.restore(ckpt_manager.latest_checkpoint)\r\n",
        "  print ('Latest checkpoint restored!!')"
      ],
      "execution_count": 95,
      "outputs": []
    },
    {
      "cell_type": "markdown",
      "metadata": {
        "id": "ZS4sHBWsP6GV"
      },
      "source": [
        "The target is divided into tar_inp and tar_real. tar_inp is passed as an input to the decoder. `tar_real` is that same input shifted by 1: At each location in `tar_input`, `tar_real` contains the  next token that should be predicted.\r\n",
        "\r\n",
        "For example, `sentence` = \"SOS A lion in the jungle is sleeping EOS\"\r\n",
        "\r\n",
        "`tar_inp` =  \"SOS A lion in the jungle is sleeping\"\r\n",
        "\r\n",
        "`tar_real` = \"A lion in the jungle is sleeping EOS\"\r\n",
        "\r\n",
        "The transformer is an auto-regressive model: it makes predictions one part at a time, and uses its output so far to decide what to do next. \r\n",
        "\r\n",
        "During training this example uses teacher-forcing. Teacher forcing is passing the true output to the next time step regardless of what the model predicts at the current time step.\r\n",
        "\r\n",
        "As the transformer predicts each word, *self-attention* allows it to look at the previous words in the input sequence to better predict the next word.\r\n",
        "\r\n",
        "To prevent the model from peeking at the expected output the model uses a look-ahead mask."
      ]
    },
    {
      "cell_type": "code",
      "metadata": {
        "id": "hkzeCJ3vQF1s"
      },
      "source": [
        "EPOCHS = 20"
      ],
      "execution_count": 88,
      "outputs": []
    },
    {
      "cell_type": "code",
      "metadata": {
        "id": "9W-Y12YGQFnC"
      },
      "source": [
        "# The @tf.function trace-compiles train_step into a TF graph for faster\r\n",
        "# execution. The function specializes to the precise shape of the argument\r\n",
        "# tensors. To avoid re-tracing due to the variable sequence lengths or variable\r\n",
        "# batch sizes (the last batch is smaller), use input_signature to specify\r\n",
        "# more generic shapes.\r\n",
        "\r\n",
        "train_step_signature = [\r\n",
        "    tf.TensorSpec(shape=(None, None), dtype=tf.int64),\r\n",
        "    tf.TensorSpec(shape=(None, None), dtype=tf.int64),\r\n",
        "]\r\n",
        "\r\n",
        "@tf.function(input_signature=train_step_signature)\r\n",
        "def train_step(inp, tar):\r\n",
        "  tar_inp = tar[:, :-1]\r\n",
        "  tar_real = tar[:, 1:]\r\n",
        "\r\n",
        "  enc_padding_mask, combined_mask, dec_padding_mask = create_masks(inp, tar_inp)\r\n",
        "\r\n",
        "  with tf.GradientTape() as tape:\r\n",
        "    predictions, _ = transformer(inp, tar_inp, \r\n",
        "                                 True, \r\n",
        "                                 enc_padding_mask, \r\n",
        "                                 combined_mask, \r\n",
        "                                 dec_padding_mask)\r\n",
        "    loss = loss_function(tar_real, predictions)\r\n",
        "\r\n",
        "  gradients = tape.gradient(loss, transformer.trainable_variables)    \r\n",
        "  optimizer.apply_gradients(zip(gradients, transformer.trainable_variables))\r\n",
        "\r\n",
        "  train_loss(loss)\r\n",
        "  train_accuracy(accuracy_function(tar_real, predictions))"
      ],
      "execution_count": 89,
      "outputs": []
    },
    {
      "cell_type": "code",
      "metadata": {
        "id": "yg837QTNpDqW"
      },
      "source": [
        "for epoch in range(EPOCHS):\r\n",
        "  start = time.time()\r\n",
        "\r\n",
        "  train_loss.reset_states()\r\n",
        "  train_accuracy.reset_states()\r\n",
        "\r\n",
        "  # inp -> portuguese, tar -> english\r\n",
        "  for (batch, (inp, tar)) in enumerate(train_dataset):\r\n",
        "    train_step(inp, tar)\r\n",
        "\r\n",
        "    if batch % 50 == 0:\r\n",
        "      print ('Epoch {} Batch {} Loss {:.4f} Accuracy {:.4f}'.format(\r\n",
        "          epoch + 1, batch, train_loss.result(), train_accuracy.result()))\r\n",
        "\r\n",
        "  if (epoch + 1) % 5 == 0:\r\n",
        "    ckpt_save_path = ckpt_manager.save()\r\n",
        "    print ('Saving checkpoint for epoch {} at {}'.format(epoch+1,\r\n",
        "                                                         ckpt_save_path))\r\n",
        "\r\n",
        "  print ('Epoch {} Loss {:.4f} Accuracy {:.4f}'.format(epoch + 1, \r\n",
        "                                                train_loss.result(), \r\n",
        "                                                train_accuracy.result()))\r\n",
        "\r\n",
        "  print ('Time taken for 1 epoch: {} secs\\n'.format(time.time() - start))"
      ],
      "execution_count": null,
      "outputs": []
    },
    {
      "cell_type": "markdown",
      "metadata": {
        "id": "G46d7fDksuLk"
      },
      "source": [
        "#### References\r\n",
        "\r\n",
        "1. https://www.tensorflow.org/tutorials/text/transformer#top_of_page\r\n",
        "2. https://gombru.github.io/2018/05/23/cross_entropy_loss/\r\n",
        "3. https://machinelearningmastery.com/cross-entropy-for-machine-learning/\r\n"
      ]
    }
  ]
}